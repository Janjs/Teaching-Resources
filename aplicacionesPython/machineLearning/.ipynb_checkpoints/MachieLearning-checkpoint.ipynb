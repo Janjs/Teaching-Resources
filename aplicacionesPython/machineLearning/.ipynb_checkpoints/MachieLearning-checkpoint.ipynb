{
 "cells": [
  {
   "cell_type": "markdown",
   "metadata": {},
   "source": [
    "# Que es Machine Learning?\n",
    "\n",
    "Aprendizaje automático o Aprenentatge automàtic.\n",
    "\n",
    "* Cómo aprenden los humanos? Con experiencias pasadas.\n",
    "* Las máquinas no aprenden, siguen instrucciones dadas por los humanos.\n",
    "* Pero qué pasaria si los humanos pueden entrenar a las máquinas? Machine Learning.\n",
    "\n",
    "<div>\n",
    "    <img src=\"./imagenes/view3.png\" width=500 height=800 />\n",
    "</div>\n",
    "\n",
    "## Concetos básicos del Machine Learning\n",
    "\n",
    "Digamos que escuchamos una canción, nos puede gustar o no gustar. \n",
    "\n",
    "Cómo decidimos si nos gusta o no? Mirando a las variables de la canción.\n",
    "* Tempo\n",
    "* Género\n",
    "* Simplicidad\n",
    "* Acordes\n",
    "* ...\n",
    "\n",
    "Si sólo miramos a dos características, intensidad y tempo, y ponemos los datos de las canciones en un gráfico:\n",
    "\n",
    "<div>\n",
    "    <img src=\"./imagenes/view1.png\" width=300 height=500 />\n",
    "</div>\n",
    "[Para dibujar online](https://www.autodraw.com/)"
   ]
  },
  {
   "cell_type": "markdown",
   "metadata": {},
   "source": [
    "1. Por ejemplo, a digamos que a Peter gustan las canciones rápidas y de intensidad alta.\n",
    "\n",
    "2. Y a Peter no le gustan las canciones lentas y de baja intensidad.\n",
    "\n",
    "3. Ahora sabemos lo que una canción debe tener para que a Peter le guste.\n",
    "\n",
    "4. Qué pasa si Peter escucha una canción nueva? Podemos predecir si a Peter le gustara?\n",
    "\n",
    "5. Si la ponemos en nuestro gráfico, si cae dentro del rango que a Peter le puede gustar, predecimos que le gusta.\n",
    "\n",
    "Mirando a las elecciones anteriores de Peter, podemos predecir una clasificación de canción si le gusta o no antes de preguntarle a Peter.\n",
    "\n",
    "Así funciona el Machine Learning, tendremos unas características (les llamaremos features, normalmente con la variable X) y un output o predicción (normalmente la variable Y).\n",
    "\n",
    "Qué pasa si la canción tiene tempo medio y intensidad media?? Podemos usar diferentes algoritmos para decidir.\n",
    "\n",
    "Por ejemplo si dibujamos un linear recta -> linear classification\n",
    "Si miramos a las canciones cercanas o \"vecinas\" -> k-Nearest Neighbour\n",
    "\n",
    "Simple verdad? Lo és.\n",
    "\n",
    "Machine Learning simplemente aprende de las características, y al introducirle una canción nueva, hace una predicción.\n",
    "\n",
    "Como más datos tenemos, mejores predicciones haremos, mayor precisión tenedremos."
   ]
  },
  {
   "cell_type": "markdown",
   "metadata": {},
   "source": [
    "## Tipos de algoritmos para aplicar Machine Learning\n",
    "\n",
    "1. Supervised Learning - Aprendizaje supervisado.\n",
    "2. Unsupervised Learning - Aprendizaje no supervisado.\n",
    "3. Reinforcement Learning - Aprendizaje reforzado.\n",
    "\n",
    "### Supervised Learning\n",
    "\n",
    "Digamos que tenemos que predecir la divisa de una moneda:\n",
    "* Euro -> 7 gramos\n",
    "* Dolar -> 4 gramos\n",
    "* Libra -> 3 gramos\n",
    "\n",
    "Peso = feature (caracterísitca)\n",
    "Divisa = label (etiqueta)\n",
    "\n",
    "A través del peso de la moneda, nuestro modelo de machine learning predicirá la divisa.\n",
    "\n",
    "Supervised learning quiere decir que hacemos predicciones con datos etiquetados (labeled data).\n",
    "\n",
    "\n",
    "### Unsupervised Learning\n",
    "\n",
    "Tenemos una base de datos con jugadores de futbol, sus recuperaciones y sus goles.\n",
    "\n",
    "Ponemos esos datos en un gráfico, rapidamente veremos dos grupos:\n",
    "    * unos jugadores con pocas recuperaciones y muchos goles, \n",
    "    * y otro con muchas recuperaciones y pocos goles\n",
    "    \n",
    "Podemos identificar un grupo como delanteros y otro como defensas.\n",
    "\n",
    "Unsupervised learning -> los datos no tienen etiqueta.\n",
    "\n",
    "\n",
    "### Reinforcement Learning\n",
    "\n",
    "Por ejemplo tenemos una imagen de un perro.\n",
    "\n",
    "Nuestro modelo nos identifica la imagen como un gato, pero nosotros le decimos que esto es un perro, le damos feedback en cada decisión.\n",
    "\n",
    "La máquina aprende, y si le damos una imagen similar, ahora nos indentificará la imagen como perro.\n",
    "\n",
    "### Un pequeño test\n",
    "\n",
    "Teneis que decirme si es aprendizaje supervisado o no:\n",
    "1. Facebook reconoce a tu amigo en una foto. -> Supervisado (cuando etiquetamos un amigo en otras fotos)\n",
    "2. Netflix te recomienda una película sabiendo las películas pasadas que has visto. -> Supervisado\n",
    "3. Tu banco te dice que hay una transacción extraña y que podria ser fraude. -> No supervisado\n",
    "\n",
    "Scenario 1: Facebook recognizes your friend in a picture from an album of tagged photographs\n",
    "Explanation: It is supervised learning. Here Facebook is using tagged photos to recognize the person. Therefore, the tagged photos become the labels of the pictures and we know that when the machine is learning from labelled data, it is supervised learning.\n",
    "\n",
    "Scenario 2: Recommending new songs based on someone’s past music choices\n",
    "Explanation: It is supervised learning. The model is training a classifier on pre-existing labels (genres of songs).\n",
    "This is what Netflix, Pandora, and Spotify do all the time, they collect the songs/movies that you like already, evaluate the features based on your likes/dislikes and then recommend new movies/songs based on similar features.\n",
    "\n",
    "Scenario 3: Analyze bank data for suspicious looking transactions and flag the fraud transactions\n",
    "Explanation: It is unsupervised learning. In this case, the suspicious transactions are not defined, hence there are no labels of \"fraud\" and \"not fraud\". The model tries to identify outliers by looking at anomalous transactions and flags them as 'fraud'.\n",
    "\n",
    "## Modelo de Machine Learning\n",
    "\n",
    "<div>\n",
    "    <img src=\"./imagenes/view2.png\" width=300 height=500 />\n",
    "</div>\n",
    "\n",
    "Tipos de outputs? \n",
    "1. Clasificación - gato / perro  \n",
    "2. Regresión - rango de números (Por ejemplo predecir si una resenya estarà entre 0 y 5 estrelles)\n",
    "\n",
    "## Por qué esta de moda?\n",
    "\n",
    "Muchos de los algortmos usados para el Machine Learning han existido des de hace +40 años. Por qué ahora?\n",
    "\n",
    "1. Ordenadores más potentes\n",
    "2. Más datos gracias al internet\n",
    "3. Deep Learning\n",
    "\n",
    "## Aplicaciones del Machine Learning\n",
    "\n",
    "* Salud -> Predecir enfermedades o pandemias\n",
    "* Redes sociales\n",
    "* Detectar fraudes en el sector económico\n",
    "* E-commerce -> Mostrarnos lo que nos gustará.\n",
    "* En todos los sitios.\n",
    "\n",
    "## Inteligencia Artificial -> Machine Learning + Data Science"
   ]
  },
  {
   "cell_type": "markdown",
   "metadata": {},
   "source": [
    "----\n",
    "\n",
    "# Machine Learning en Python\n",
    "\n",
    "Llibreries més populars:\n",
    "* Scikit-Learn\n",
    "* Keras\n",
    "* Tensorflow\n",
    "\n",
    "## Instalar Sklearn\n",
    "\n",
    "* Buscar Scikit-Learn en google: https://scikit-learn.org/stable/\n",
    "* Click en instalar: https://scikit-learn.org/stable/install.html\n",
    "* Instalar con Pip o con PyCharm\n",
    "\n",
    "## Jupyter Notebook\n",
    "Usaremos google colab, buscar google colab en google, lo que escribimos aperecerá en tu google drive.\n",
    "\n",
    "Crear un nuevo Notebook:"
   ]
  },
  {
   "cell_type": "code",
   "execution_count": null,
   "metadata": {},
   "outputs": [],
   "source": [
    "pip install matplotlib"
   ]
  },
  {
   "cell_type": "code",
   "execution_count": 136,
   "metadata": {},
   "outputs": [],
   "source": [
    "import matplotlib.pyplot as plt"
   ]
  },
  {
   "cell_type": "markdown",
   "metadata": {},
   "source": [
    "Matplotlib sirve para hacer graficos. \n",
    "\n",
    "Por ejemplo, creamos una lista:\n",
    "\n",
    "Podemos hacer x = [0, 1, 2, 3, 4, 5, 6, 7, 8, 9, 10] \n",
    "\n",
    "Pero mejor:"
   ]
  },
  {
   "cell_type": "code",
   "execution_count": 1,
   "metadata": {},
   "outputs": [
    {
     "name": "stdout",
     "output_type": "stream",
     "text": [
      "[0, 1, 2, 3, 4, 5, 6, 7, 8, 9]\n"
     ]
    }
   ],
   "source": [
    "x = [i for i in range(10)]\n",
    "\n",
    "print(x)"
   ]
  },
  {
   "cell_type": "markdown",
   "metadata": {},
   "source": [
    "Con Notebooks, no hace falta poner el print"
   ]
  },
  {
   "cell_type": "code",
   "execution_count": 2,
   "metadata": {},
   "outputs": [
    {
     "name": "stdout",
     "output_type": "stream",
     "text": [
      "[0, 2, 4, 6, 8, 10, 12, 14, 16, 18]\n"
     ]
    }
   ],
   "source": [
    "y = [2*i for i in range(10)]\n",
    "\n",
    "print(y)"
   ]
  },
  {
   "cell_type": "code",
   "execution_count": 5,
   "metadata": {},
   "outputs": [
    {
     "data": {
      "text/plain": [
       "[<matplotlib.lines.Line2D at 0x11578dc40>]"
      ]
     },
     "execution_count": 5,
     "metadata": {},
     "output_type": "execute_result"
    },
    {
     "data": {
      "image/png": "[encoded data removed]",
      "text/plain": [
       "<Figure size 432x288 with 1 Axes>"
      ]
     },
     "metadata": {
      "needs_background": "light"
     },
     "output_type": "display_data"
    }
   ],
   "source": [
    "plt.plot(x, y)"
   ]
  },
  {
   "cell_type": "markdown",
   "metadata": {},
   "source": [
    "Por esto usamos Notebook, para tener un seguimiento de lo que hacemos en cada paso, con un programa de Python normal el grafico nos desapareceria."
   ]
  },
  {
   "cell_type": "markdown",
   "metadata": {},
   "source": [
    "Podemos modificar las etiquetas X y Y"
   ]
  },
  {
   "cell_type": "code",
   "execution_count": 6,
   "metadata": {},
   "outputs": [
    {
     "data": {
      "text/plain": [
       "Text(0, 0.5, 'y-axis')"
      ]
     },
     "execution_count": 6,
     "metadata": {},
     "output_type": "execute_result"
    },
    {
     "data": {
      "image/png": "[encoded data removed]",
      "text/plain": [
       "<Figure size 432x288 with 1 Axes>"
      ]
     },
     "metadata": {
      "needs_background": "light"
     },
     "output_type": "display_data"
    }
   ],
   "source": [
    "plt.plot(x, y)\n",
    "plt.xlabel('x-axis')\n",
    "plt.ylabel('y-axis')"
   ]
  },
  {
   "cell_type": "markdown",
   "metadata": {},
   "source": [
    "Si queremos ver los datos uno por uno y no una linea."
   ]
  },
  {
   "cell_type": "code",
   "execution_count": 7,
   "metadata": {},
   "outputs": [
    {
     "data": {
      "text/plain": [
       "<matplotlib.collections.PathCollection at 0x1158d9c70>"
      ]
     },
     "execution_count": 7,
     "metadata": {},
     "output_type": "execute_result"
    },
    {
     "data": {
      "image/png": "[encoded data removed]",
      "text/plain": [
       "<Figure size 432x288 with 1 Axes>"
      ]
     },
     "metadata": {
      "needs_background": "light"
     },
     "output_type": "display_data"
    }
   ],
   "source": [
    "plt.scatter(x, y)"
   ]
  },
  {
   "cell_type": "markdown",
   "metadata": {},
   "source": [
    "-----\n",
    "# Features y Labels \n",
    "\n",
    "Para que nuestro modelo aprenda necesitamos ordenar los datos, se hace de la siguiente manera:\n",
    "\n",
    "<div>\n",
    "    <img src=\"./imagenes/view4.png\" width=500 height=700 />\n",
    "</div>"
   ]
  },
  {
   "cell_type": "markdown",
   "metadata": {},
   "source": [
    "* Features -> attributes -> independent variables -> input\n",
    "* Label -> dependent variable -> output\n",
    "\n",
    "* Features: X en mayúsculas (porque suele ser una lista)\n",
    "* Label: y en minúsculas (porque suele ser un solo valor)"
   ]
  },
  {
   "cell_type": "markdown",
   "metadata": {},
   "source": [
    "Hay muchos dataset preparados, suelen ser un ficher .csv (separado por comas) o json.\n",
    "\n",
    "Por ejemplo: car evaluation data set -> https://archive.ics.uci.edu/ml/datasets/car+evaluation \n",
    "\n",
    "Class Values (LABEL):\n",
    "\n",
    "unacc, acc, good, vgood\n",
    "\n",
    "Attributes (FEATURES):\n",
    "\n",
    "* buying: vhigh, high, med, low.\n",
    "* maint: vhigh, high, med, low.\n",
    "* doors: 2, 3, 4, 5more.\n",
    "* persons: 2, 4, more.\n",
    "* lug_boot: small, med, big.\n",
    "* safety: low, med, high."
   ]
  },
  {
   "cell_type": "markdown",
   "metadata": {},
   "source": [
    "-----\n",
    "# Linear Classifiers\n",
    "\n",
    "Dibujan una linea para dividir predicciones.\n",
    "\n",
    "Por ejemplo: \n",
    "Predecir 10 alumnos si aprobaran una asignatura. Dos features, horas de estudio y otras asignaturas."
   ]
  },
  {
   "cell_type": "code",
   "execution_count": 241,
   "metadata": {},
   "outputs": [
    {
     "name": "stdout",
     "output_type": "stream",
     "text": [
      "[[ 0  7]\n",
      " [ 4  1]\n",
      " [ 5 10]\n",
      " [10  9]\n",
      " [14  2]\n",
      " [15  5]\n",
      " [ 2  3]\n",
      " [15  7]\n",
      " [ 1  7]\n",
      " [17  2]\n",
      " [20  7]]\n"
     ]
    }
   ],
   "source": [
    "import numpy as np\n",
    "from sklearn.linear_model import SGDClassifier\n",
    "from sklearn.preprocessing import StandardScaler\n",
    "from sklearn.pipeline import make_pipeline\n",
    "\n",
    "hores       = [0,     4,     5,   10,   14,  15,   2,    15,    1,    17,   20]\n",
    "asignatures = [7,     1,    10,    9,    2,   5,   3,     7,    7,     2,   7]\n",
    "\n",
    "aproba      = [\"no\", \"si\", \"no\", \"no\", \"si\", \"si\", \"no\", \"si\", \"no\", \"si\", \"si\"]\n",
    "\n",
    "X = np.column_stack((hores, asignatures))\n",
    "y = np.array(aproba)\n",
    "\n",
    "print(X)"
   ]
  },
  {
   "cell_type": "code",
   "execution_count": 242,
   "metadata": {},
   "outputs": [
    {
     "name": "stdout",
     "output_type": "stream",
     "text": [
      "['no' 'si' 'no' 'no' 'si' 'si' 'no' 'si' 'no' 'si' 'si']\n"
     ]
    }
   ],
   "source": [
    "print(y)"
   ]
  },
  {
   "cell_type": "code",
   "execution_count": 243,
   "metadata": {},
   "outputs": [
    {
     "data": {
      "image/png": "[encoded data removed]",
      "text/plain": [
       "<Figure size 432x288 with 1 Axes>"
      ]
     },
     "metadata": {
      "needs_background": "light"
     },
     "output_type": "display_data"
    }
   ],
   "source": [
    "for i in range(len(y)):\n",
    "    marker = \"o\" if y[i] == \"no\" else \"o\"\n",
    "    color = \"red\" if y[i] == \"si\" else \"blue\"\n",
    "    plt.scatter(hores[i], asignatures[i], label=\"values\", c=color, marker=marker, s=20)\n",
    "plt.xlabel('hores')\n",
    "plt.ylabel('asignatures')\n",
    "plt.show()"
   ]
  },
  {
   "cell_type": "code",
   "execution_count": 244,
   "metadata": {},
   "outputs": [
    {
     "data": {
      "text/plain": [
       "Pipeline(steps=[('standardscaler', StandardScaler()),\n",
       "                ('sgdclassifier', SGDClassifier())])"
      ]
     },
     "execution_count": 244,
     "metadata": {},
     "output_type": "execute_result"
    }
   ],
   "source": [
    "# Always scale the input. The most convenient way is to use a pipeline.\n",
    "clf = make_pipeline(StandardScaler(), SGDClassifier())\n",
    "clf.fit(X, y)"
   ]
  },
  {
   "cell_type": "code",
   "execution_count": 245,
   "metadata": {},
   "outputs": [
    {
     "name": "stdout",
     "output_type": "stream",
     "text": [
      "Aprova Peter? ['no']\n"
     ]
    }
   ],
   "source": [
    "peter_hores_estudiades = 2\n",
    "peter_asignatures = 1\n",
    "\n",
    "peter_test = [[peter_hores_estudiades, peter_asignatures]]\n",
    "\n",
    "peter_prediccio = clf.predict(peter_test)\n",
    "print(\"Aprova Peter? \"+str(peter_prediccio))"
   ]
  },
  {
   "cell_type": "markdown",
   "metadata": {},
   "source": [
    "Podemos dibujar la línea de decision usando matplotlib:"
   ]
  },
  {
   "cell_type": "code",
   "execution_count": 255,
   "metadata": {},
   "outputs": [
    {
     "data": {
      "image/png": "[encoded data removed]",
      "text/plain": [
       "<Figure size 432x288 with 1 Axes>"
      ]
     },
     "metadata": {
      "needs_background": "light"
     },
     "output_type": "display_data"
    }
   ],
   "source": [
    "def plotWithLinearLine(X, y, model):\n",
    "    w = model.coef_[0]\n",
    "    a = -w[0] / w[1]\n",
    "    xmin, xmax = 0, 20\n",
    "    ymin, ymax = 0, 10\n",
    "    xx = np.array([xmin, xmax])\n",
    "    yy = np.array([ymin, ymax])\n",
    "    plt.plot(xx, yy, 'k-', lw=1.5, ls='--')\n",
    "    X1 = X[:, 0]\n",
    "    X2 = X[:, 1]\n",
    "    for i in range(len(y)):\n",
    "        marker = \"o\" if y[i] == \"no\" else \"o\"\n",
    "        color = \"red\" if y[i] == \"si\" else \"blue\"\n",
    "        plt.scatter(X1[i], X2[i], label=\"values\", c=color, marker=marker, s=20)\n",
    "    plt.xlabel('X1')\n",
    "    plt.ylabel('X2')\n",
    "    plt.title('Linear Model example')\n",
    "    plt.show()\n",
    "\n",
    "plotWithLinearLine(X, y, clf[1])"
   ]
  },
  {
   "cell_type": "markdown",
   "metadata": {},
   "source": [
    "----\n",
    "# K-Nearest Neighbours\n",
    "\n",
    "Miramos a los valores más cercanos (K número de valores) y miramos si hay más de un valor que de otros.\n",
    "\n",
    "<div>\n",
    "    <img src=\"./imagenes/view10.jpg\" width=400 height=400 />\n",
    "</div>"
   ]
  },
  {
   "cell_type": "code",
   "execution_count": 258,
   "metadata": {},
   "outputs": [
    {
     "name": "stdout",
     "output_type": "stream",
     "text": [
      "['no']\n"
     ]
    }
   ],
   "source": [
    "from sklearn.neighbors import KNeighborsClassifier\n",
    "\n",
    "knn_clf = KNeighborsClassifier(n_neighbors=2)\n",
    "knn_clf.fit(X, y)\n",
    "\n",
    "peter_hores_estudiades = 2\n",
    "peter_asignatures = 1\n",
    "\n",
    "peter_test = [[peter_hores_estudiades, peter_asignatures]]\n",
    "peter_prediccio = knn_clf.predict(peter_test)\n",
    "print(peter_prediccio)"
   ]
  },
  {
   "cell_type": "markdown",
   "metadata": {},
   "source": [
    "-------\n",
    "# Proceso para crear un modelo de Machine Learning real\n",
    "\n",
    "1. Qué pregunta queremos responder?\n",
    "2. Buscar datos que nos ayuden a responder la pregunta.\n",
    "3. Procesar los datos para que el ordenador lo entienda.\n",
    "4. Construir el modelo.\n",
    "5. Evaluar el modelo.\n",
    "6. Mejorar el modelo.\n",
    "\n",
    "Sklearn nos permite hacer todo esto. Y con pocas lineas.\n",
    "\n",
    "Hay que diferenciar dos tipos de modelos:\n",
    "* Tradicionales, basados en algoritmos -> Sci-Kit Learn\n",
    "* Neural Networks Models (Deep Learning) -> Tensorflow, Pytorch, etc...\n",
    "\n",
    "-----\n",
    "Ejemplo:\n",
    "1. Qué pregunta queremos responder? Saber si una reseña es positiva o negativa.\n",
    "2. Buscar datos que nos ayuden a responder la pregunta. Crearlo nostros mismos tardariamos mucho, buscar dataset. \n",
    "\n",
    "Pensar en algun sitio donde encontrar reseñas, por ejemplo Amazon!\n",
    "\n",
    "\n",
    "1000 reviews de libros de Amazon.\n",
    "\n",
    "Guardarlo como JSON.\n",
    "https://raw.githubusercontent.com/KeithGalli/sklearn/master/data/sentiment/Books_small.json\n",
    "\n",
    "Volvemos a nuestro Notebook."
   ]
  },
  {
   "cell_type": "code",
   "execution_count": 4,
   "metadata": {},
   "outputs": [
    {
     "name": "stdout",
     "output_type": "stream",
     "text": [
      "{\"reviewerID\": \"A1E5ZR1Z4OQJG\", \"asin\": \"1495329321\", \"reviewerName\": \"Pure Jonel \\\"Pure Jonel\\\"\", \"helpful\": [0, 0], \"reviewText\": \"Da Silva takes the divine by storm with this unique new novel.  She develops a world unlike any others while keeping it firmly in the real world.  This is a very well written and entertaining novel.  I was quite impressed and intrigued by the way that this solid storyline was developed, bringing the readers right into the world of the story.  I was engaged throughout and definitely enjoyed my time spent reading it.I loved the character development in this novel.  Da Silva creates a cast of high school students who actually act like high school students.  I really appreciated the fact that none of them were thrown into situations far beyond their years, nor did they deal with events as if they had decades of life experience under their belts.  It was very refreshing and added to the realism and impact of the novel.  The friendships between the characters in this novel were also truly touching.Overall, this novel was fantastic.  I can&#8217;t wait to read more and to find out what happens next in the series.  I&#8217;d definitely recommend this debut novel by Da Silva to those who want a little YA fun with a completely unique & shocking storyline.Please note that I received a complimentary copy of this work in exchange for an honest review.\", \"overall\": 4.0, \"summary\": \"An amazing first novel\", \"unixReviewTime\": 1396137600, \"reviewTime\": \"03 30, 2014\"}\n",
      "\n"
     ]
    }
   ],
   "source": [
    "import json\n",
    "\n",
    "file_name = 'Books_small.json'\n",
    "\n",
    "with open(file_name) as f:\n",
    "  for line in f:\n",
    "    print(line)\n",
    "    break"
   ]
  },
  {
   "cell_type": "markdown",
   "metadata": {},
   "source": [
    "Queremos solo el texto de la reseña y cuantas estrellas, para eso tendremos que leer el fichero con json."
   ]
  },
  {
   "cell_type": "code",
   "execution_count": 5,
   "metadata": {},
   "outputs": [
    {
     "name": "stdout",
     "output_type": "stream",
     "text": [
      "Da Silva takes the divine by storm with this unique new novel.  She develops a world unlike any others while keeping it firmly in the real world.  This is a very well written and entertaining novel.  I was quite impressed and intrigued by the way that this solid storyline was developed, bringing the readers right into the world of the story.  I was engaged throughout and definitely enjoyed my time spent reading it.I loved the character development in this novel.  Da Silva creates a cast of high school students who actually act like high school students.  I really appreciated the fact that none of them were thrown into situations far beyond their years, nor did they deal with events as if they had decades of life experience under their belts.  It was very refreshing and added to the realism and impact of the novel.  The friendships between the characters in this novel were also truly touching.Overall, this novel was fantastic.  I can&#8217;t wait to read more and to find out what happens next in the series.  I&#8217;d definitely recommend this debut novel by Da Silva to those who want a little YA fun with a completely unique & shocking storyline.Please note that I received a complimentary copy of this work in exchange for an honest review.\n",
      "4.0\n"
     ]
    }
   ],
   "source": [
    "with open(file_name) as f:\n",
    "  for line in f:\n",
    "    review = json.loads(line)\n",
    "    print(review['reviewText'])\n",
    "    print(review['overall'])\n",
    "    break"
   ]
  },
  {
   "cell_type": "markdown",
   "metadata": {},
   "source": [
    "Ahora guardamos todas las reseñas como feature X y las estrellas (overall) en y."
   ]
  },
  {
   "cell_type": "code",
   "execution_count": 6,
   "metadata": {},
   "outputs": [
    {
     "name": "stdout",
     "output_type": "stream",
     "text": [
      "1000\n",
      "1000\n"
     ]
    }
   ],
   "source": [
    "X = []\n",
    "y = []\n",
    "with open(file_name) as f:\n",
    "  for line in f:\n",
    "    review = json.loads(line)\n",
    "    X.append(review['reviewText'])\n",
    "    y.append(review['overall'])\n",
    "    \n",
    "print(len(X))\n",
    "print(len(y))"
   ]
  },
  {
   "cell_type": "code",
   "execution_count": 7,
   "metadata": {},
   "outputs": [
    {
     "name": "stdout",
     "output_type": "stream",
     "text": [
      "This book was definitely not a book I enjoyed. I read it all even though I was not impressed because sometimes first impressions are not indicative of the contents later. War is horrible no matter what century or what country. This books title and excerpt lead the reader to believe it was about a horse and young man and their relationship while searching for the boys father. In actuality it was only about a young man's observations of other people and their cruelty. No where in this book did he find anyone kind and this is not how human nature is. While many men and women are reduced to the lowest levels of human behavior most are not and somehow rise above the horrors of war. I was very disappointed in how the story unfolded. The ending was typical of a cynical look at human nature. 2.0\n"
     ]
    }
   ],
   "source": [
    "print(X[577], y[577])"
   ]
  },
  {
   "cell_type": "markdown",
   "metadata": {},
   "source": [
    "Podemos mejorar este código creando una clase de reseñas:"
   ]
  },
  {
   "cell_type": "code",
   "execution_count": 88,
   "metadata": {},
   "outputs": [],
   "source": [
    "class Sentiment: \n",
    "    NEGATIVE = \"NEGATIVA\"\n",
    "    NEUTRAL = \"NEUTRAL\"\n",
    "    POSITIVE = \"POSITIVA\"\n",
    "\n",
    "\n",
    "class Review:\n",
    "    def __init__(self, text, score):\n",
    "        self.text = text\n",
    "        self.score = score\n",
    "        self.sentiment = self.get_sentiment()\n",
    "        \n",
    "    def get_sentiment(self):\n",
    "        if self.score <= 2:\n",
    "            return Sentiment.NEGATIVE\n",
    "        elif self.score == 3:\n",
    "            return Sentiment.NEUTRAL\n",
    "        else: # score es 4 o 5\n",
    "            return Sentiment.POSITIVE"
   ]
  },
  {
   "cell_type": "code",
   "execution_count": 89,
   "metadata": {},
   "outputs": [
    {
     "data": {
      "text/plain": [
       "'NEGATIVA'"
      ]
     },
     "execution_count": 89,
     "metadata": {},
     "output_type": "execute_result"
    }
   ],
   "source": [
    "reviews = []\n",
    "\n",
    "with open(file_name) as f:\n",
    "  for line in f:\n",
    "    review = json.loads(line)\n",
    "    reviews.append(Review(review['reviewText'], review['overall']))\n",
    "    \n",
    "reviews[577].sentiment "
   ]
  },
  {
   "cell_type": "markdown",
   "metadata": {},
   "source": [
    "Esto no es necesario pero hace el código más leible.\n",
    "\n",
    "Hay que tener en cuenta que los modelos de Machine Learning prefieren número siempre.\n",
    "\n",
    "¿Cómo transformamos el texto a números? Usando bag-of-words.\n",
    "\n",
    "\n",
    "<div>\n",
    "    <img src=\"./imagenes/view5.png\" width=500 height=700 />\n",
    "</div>"
   ]
  },
  {
   "cell_type": "markdown",
   "metadata": {},
   "source": [
    "----\n",
    "## 3. Training/Test split"
   ]
  },
  {
   "cell_type": "code",
   "execution_count": 90,
   "metadata": {},
   "outputs": [],
   "source": [
    "from sklearn.model_selection import train_test_split\n",
    "\n",
    "train_data, test_data = train_test_split(reviews, test_size=0.33)"
   ]
  },
  {
   "cell_type": "code",
   "execution_count": 91,
   "metadata": {},
   "outputs": [
    {
     "data": {
      "text/plain": [
       "670"
      ]
     },
     "execution_count": 91,
     "metadata": {},
     "output_type": "execute_result"
    }
   ],
   "source": [
    "len(train_data)"
   ]
  },
  {
   "cell_type": "code",
   "execution_count": 92,
   "metadata": {},
   "outputs": [
    {
     "data": {
      "text/plain": [
       "'POSITIVA'"
      ]
     },
     "execution_count": 92,
     "metadata": {},
     "output_type": "execute_result"
    }
   ],
   "source": [
    "train_x = [x.text for x in train_data]\n",
    "train_y = [x.sentiment for x in train_data]\n",
    "\n",
    "test_x = [x.text for x in test_data]\n",
    "test_y = [x.sentiment for x in test_data]\n",
    "\n",
    "train_y[0]"
   ]
  },
  {
   "cell_type": "markdown",
   "metadata": {},
   "source": [
    "## Bag of Words "
   ]
  },
  {
   "cell_type": "code",
   "execution_count": 93,
   "metadata": {},
   "outputs": [
    {
     "name": "stdout",
     "output_type": "stream",
     "text": [
      "[[0 0 0 ... 0 0 0]]\n",
      "Like all of Andre Norton's books, a wonderful fantasy world to get lost in, totally enjoyable and exciting and worth the read.\n"
     ]
    }
   ],
   "source": [
    "\n",
    "from sklearn.feature_extraction.text import CountVectorizer\n",
    "\n",
    "vectorizer = CountVectorizer()\n",
    "train_x_vectors = vectorizer.fit_transform(train_x)\n",
    "test_x_vectors = vectorizer.transform(test_x) \n",
    "\n",
    "print(train_x_vectors[0].toarray())\n",
    "print(train_x[0])"
   ]
  },
  {
   "cell_type": "markdown",
   "metadata": {},
   "source": [
    "Ahora tenemos la información en números para que nuestro ordenador lo entienda.\n",
    "\n",
    "Podemos pasar a clasificar. \n",
    "\n",
    "----\n",
    "# 4. Clasificación, crear nuestro modelo de Machine Learning\n",
    "\n",
    "Elegir el algoritmo puede ser complicado si no sabemos muy bien como funciona cada algoritmo. \n",
    "\n",
    "https://scikit-learn.org/stable/auto_examples/classification/plot_classifier_comparison.html\n",
    "\n",
    "Os invito a buscar más información de cada clasificador. (Por ejemplo https://www.youtube.com/watch?v=_PwhiWxHK8o&ab_channel=MITOpenCourseWare)"
   ]
  },
  {
   "cell_type": "markdown",
   "metadata": {},
   "source": [
    "### Linear SVM"
   ]
  },
  {
   "cell_type": "code",
   "execution_count": 174,
   "metadata": {},
   "outputs": [
    {
     "data": {
      "text/plain": [
       "SVC(kernel='linear')"
      ]
     },
     "execution_count": 174,
     "metadata": {},
     "output_type": "execute_result"
    }
   ],
   "source": [
    "from sklearn import svm\n",
    "\n",
    "# initializar nuestro modelo con parametros\n",
    "clf_svm = svm.SVC(kernel='linear')\n",
    "\n",
    "# entrenar nuestro modelo\n",
    "clf_svm.fit(train_x_vectors, train_y)"
   ]
  },
  {
   "cell_type": "markdown",
   "metadata": {},
   "source": [
    "### Testear que funciona\n",
    "\n",
    "Por ejemplo miramos el primer valor de los datos de testeo."
   ]
  },
  {
   "cell_type": "code",
   "execution_count": 95,
   "metadata": {},
   "outputs": [
    {
     "name": "stdout",
     "output_type": "stream",
     "text": [
      "Michael Cunningham mesmerizes with the thoughtful, elegant prose that is this book.  The reader becomes so close to its characters...the reader feels what these brothers feel.  Beautiful and tragic...a book that will stay with me for a long, long time.  Thank you again, Mr. Cunningham.  The Hours remains at the top of my list and The Snow Queen is another gift to your readers.\n",
      "POSITIVA\n"
     ]
    }
   ],
   "source": [
    "print(test_x[1])\n",
    "print(test_y[1])"
   ]
  },
  {
   "cell_type": "markdown",
   "metadata": {},
   "source": [
    "Comprobar que nos hace bien la predicción."
   ]
  },
  {
   "cell_type": "code",
   "execution_count": 96,
   "metadata": {},
   "outputs": [
    {
     "data": {
      "text/plain": [
       "array(['POSITIVA'], dtype='<U8')"
      ]
     },
     "execution_count": 96,
     "metadata": {},
     "output_type": "execute_result"
    }
   ],
   "source": [
    "clf_svm.predict(test_x_vectors[1])"
   ]
  },
  {
   "cell_type": "markdown",
   "metadata": {},
   "source": [
    "## Probar con otros algoritmos\n",
    "\n",
    "#### Decision Tree"
   ]
  },
  {
   "cell_type": "code",
   "execution_count": 97,
   "metadata": {},
   "outputs": [
    {
     "data": {
      "text/plain": [
       "DecisionTreeClassifier()"
      ]
     },
     "execution_count": 97,
     "metadata": {},
     "output_type": "execute_result"
    }
   ],
   "source": [
    "from sklearn.tree import DecisionTreeClassifier\n",
    "\n",
    "clf_dec = DecisionTreeClassifier()\n",
    "clf_dec.fit(train_x_vectors, train_y)"
   ]
  },
  {
   "cell_type": "code",
   "execution_count": 98,
   "metadata": {},
   "outputs": [
    {
     "data": {
      "text/plain": [
       "array(['POSITIVA'], dtype='<U8')"
      ]
     },
     "execution_count": 98,
     "metadata": {},
     "output_type": "execute_result"
    }
   ],
   "source": [
    "clf_dec.predict(test_x_vectors[1])"
   ]
  },
  {
   "cell_type": "markdown",
   "metadata": {},
   "source": [
    "Podeis ver como con tres lineas podemos construir un programa que haga predicciones con Machine Learning.\n",
    "\n",
    "#### Naive Bayes"
   ]
  },
  {
   "cell_type": "code",
   "execution_count": 99,
   "metadata": {},
   "outputs": [
    {
     "data": {
      "text/plain": [
       "GaussianNB()"
      ]
     },
     "execution_count": 99,
     "metadata": {},
     "output_type": "execute_result"
    }
   ],
   "source": [
    "from sklearn.naive_bayes import GaussianNB\n",
    "\n",
    "clf_nb = GaussianNB()\n",
    "clf_nb.fit(train_x_vectors.toarray(), train_y)"
   ]
  },
  {
   "cell_type": "code",
   "execution_count": 100,
   "metadata": {},
   "outputs": [
    {
     "data": {
      "text/plain": [
       "array(['POSITIVA'], dtype='<U8')"
      ]
     },
     "execution_count": 100,
     "metadata": {},
     "output_type": "execute_result"
    }
   ],
   "source": [
    "clf_nb.predict(test_x_vectors[1].toarray())"
   ]
  },
  {
   "cell_type": "markdown",
   "metadata": {},
   "source": [
    "## Logistic Regression"
   ]
  },
  {
   "cell_type": "code",
   "execution_count": 101,
   "metadata": {},
   "outputs": [
    {
     "name": "stderr",
     "output_type": "stream",
     "text": [
      "/Users/janjimenezserra/Library/Python/3.9/lib/python/site-packages/sklearn/linear_model/_logistic.py:762: ConvergenceWarning: lbfgs failed to converge (status=1):\n",
      "STOP: TOTAL NO. of ITERATIONS REACHED LIMIT.\n",
      "\n",
      "Increase the number of iterations (max_iter) or scale the data as shown in:\n",
      "    https://scikit-learn.org/stable/modules/preprocessing.html\n",
      "Please also refer to the documentation for alternative solver options:\n",
      "    https://scikit-learn.org/stable/modules/linear_model.html#logistic-regression\n",
      "  n_iter_i = _check_optimize_result(\n"
     ]
    },
    {
     "data": {
      "text/plain": [
       "LogisticRegression()"
      ]
     },
     "execution_count": 101,
     "metadata": {},
     "output_type": "execute_result"
    }
   ],
   "source": [
    "from sklearn.linear_model import LogisticRegression\n",
    "\n",
    "clf_log = LogisticRegression()\n",
    "clf_log.fit(train_x_vectors, train_y)"
   ]
  },
  {
   "cell_type": "code",
   "execution_count": 102,
   "metadata": {},
   "outputs": [
    {
     "data": {
      "text/plain": [
       "array(['POSITIVA'], dtype='<U8')"
      ]
     },
     "execution_count": 102,
     "metadata": {},
     "output_type": "execute_result"
    }
   ],
   "source": [
    "clf_nb.predict(test_x_vectors[1].toarray())"
   ]
  },
  {
   "cell_type": "markdown",
   "metadata": {},
   "source": [
    "----\n",
    "## 5. Evaluar modelos\n",
    "\n",
    "Podemos usar la función score. (Precisión)"
   ]
  },
  {
   "cell_type": "code",
   "execution_count": 175,
   "metadata": {},
   "outputs": [
    {
     "data": {
      "text/plain": [
       "0.8090909090909091"
      ]
     },
     "execution_count": 175,
     "metadata": {},
     "output_type": "execute_result"
    }
   ],
   "source": [
    "clf_svm.score(test_x_vectors, test_y)"
   ]
  },
  {
   "cell_type": "code",
   "execution_count": 176,
   "metadata": {},
   "outputs": [
    {
     "data": {
      "text/plain": [
       "0.7545454545454545"
      ]
     },
     "execution_count": 176,
     "metadata": {},
     "output_type": "execute_result"
    }
   ],
   "source": [
    "clf_dec.score(test_x_vectors, test_y)"
   ]
  },
  {
   "cell_type": "code",
   "execution_count": 153,
   "metadata": {},
   "outputs": [
    {
     "data": {
      "text/plain": [
       "0.8090909090909091"
      ]
     },
     "execution_count": 153,
     "metadata": {},
     "output_type": "execute_result"
    }
   ],
   "source": [
    "clf_nb.score(test_x_vectors.toarray(), test_y)"
   ]
  },
  {
   "cell_type": "code",
   "execution_count": 154,
   "metadata": {},
   "outputs": [
    {
     "data": {
      "text/plain": [
       "0.8212121212121212"
      ]
     },
     "execution_count": 154,
     "metadata": {},
     "output_type": "execute_result"
    }
   ],
   "source": [
    "clf_log.score(test_x_vectors.toarray(), test_y)"
   ]
  },
  {
   "cell_type": "markdown",
   "metadata": {},
   "source": [
    "Casi todos nos predicen alreadedor de 80%, no esta mal no?\n",
    "\n",
    "Hay un truco que esta pasando, que pasa si el 90% de las reseñas son positivas? \n",
    "\n",
    "Un clasificador que nos diera siempre positivo tendria 90% de precisión.\n",
    "\n",
    "Mirar la precisión no sirve, usamos f1_score (mira a los falsos negativos y falsos positivos)."
   ]
  },
  {
   "cell_type": "code",
   "execution_count": 178,
   "metadata": {},
   "outputs": [
    {
     "data": {
      "text/plain": [
       "array([0.89824561, 0.26666667, 0.23333333])"
      ]
     },
     "execution_count": 178,
     "metadata": {},
     "output_type": "execute_result"
    }
   ],
   "source": [
    "from sklearn.metrics import f1_score\n",
    "\n",
    "f1_score(test_y, clf_svm.predict(test_x_vectors), average=None, labels=[Sentiment.POSITIVE, Sentiment.NEGATIVE, Sentiment.NEUTRAL])"
   ]
  },
  {
   "cell_type": "markdown",
   "metadata": {},
   "source": [
    "Vemos que el porcentage de predicciones correctas para los valores NEUTRAL y NEGATIVE son mucho más bajas, ya que tenemos mucha más información de reseñas positivas.\n",
    "\n",
    "Construir modelos de Machine Learning para texto suele ser muy complicado, ya que los ordenadores prefieren números.\n",
    "\n",
    "Maneras de mejorar nuestros modelos:\n",
    "1. Modificar los parametros de cada algoritmo -> cross-validation\n",
    "2. Conseguir más datos, como más ejemplos tengamos mejores predicciones ara. Siempre? No, hay tener cuidado con hacer over-fitting."
   ]
  },
  {
   "cell_type": "code",
   "execution_count": 156,
   "metadata": {},
   "outputs": [
    {
     "data": {
      "text/plain": [
       "554"
      ]
     },
     "execution_count": 156,
     "metadata": {},
     "output_type": "execute_result"
    }
   ],
   "source": [
    "train_y.count(Sentiment.POSITIVE)"
   ]
  },
  {
   "cell_type": "code",
   "execution_count": 157,
   "metadata": {},
   "outputs": [
    {
     "data": {
      "text/plain": [
       "42"
      ]
     },
     "execution_count": 157,
     "metadata": {},
     "output_type": "execute_result"
    }
   ],
   "source": [
    "train_y.count(Sentiment.NEGATIVE)"
   ]
  },
  {
   "cell_type": "markdown",
   "metadata": {},
   "source": [
    "## Cross-validation\n",
    "\n",
    "(Hacer dibujo)\n",
    "\n",
    "Underfitting\n",
    "\n",
    "<div>\n",
    "    <img src=\"./imagenes/view6.png\" width=300 height=300 />\n",
    "</div>"
   ]
  },
  {
   "cell_type": "markdown",
   "metadata": {},
   "source": [
    "Overfitting"
   ]
  },
  {
   "cell_type": "markdown",
   "metadata": {},
   "source": [
    "<div>\n",
    "    <img src=\"./imagenes/view7.png\" width=300 height=300 />\n",
    "</div>"
   ]
  },
  {
   "cell_type": "markdown",
   "metadata": {},
   "source": [
    "Buscar balanze\n",
    "\n",
    "<div>\n",
    "    <img src=\"./imagenes/view8.png\" width=300 height=300 />\n",
    "</div>"
   ]
  },
  {
   "cell_type": "markdown",
   "metadata": {},
   "source": [
    "Como conseguir un modelo que ni haga overfitting ni underfitting? Cross-validation\n",
    "\n",
    "-----\n",
    "# 5. Cross-validation"
   ]
  },
  {
   "cell_type": "code",
   "execution_count": 158,
   "metadata": {},
   "outputs": [],
   "source": [
    "from sklearn.model_selection import cross_val_score"
   ]
  },
  {
   "cell_type": "markdown",
   "metadata": {},
   "source": [
    "Qué C value usar? Probamos con Cross-Validation el mejor parametro."
   ]
  },
  {
   "cell_type": "code",
   "execution_count": 159,
   "metadata": {},
   "outputs": [
    {
     "name": "stdout",
     "output_type": "stream",
     "text": [
      "C= 1, mean: 0.3065973610555777 , std dev: 0.0011728641876582735\n",
      "C= 4, mean: 0.3065973610555777 , std dev: 0.0011728641876582735\n",
      "C= 8, mean: 0.30760896743231075 , std dev: 0.0013130707153785994\n",
      "C= 16, mean: 0.41390890898936067 , std dev: 0.05691186343508298\n",
      "C= 32, mean: 0.406784241838171 , std dev: 0.05792218482799251\n",
      "C= 60, mean: 0.406784241838171 , std dev: 0.05792218482799251\n"
     ]
    }
   ],
   "source": [
    "Cs = (1, 4, 8, 16, 32, 60)\n",
    "\n",
    "for C in Cs:\n",
    "    clf_svm = svm.SVC(C=C)\n",
    "    clf_svm.fit(train_x_vectors, train_y)\n",
    "    scores = cross_val_score(clf_svm, test_x_vectors, test_y, cv=5, scoring='f1_macro')\n",
    "    print(\"C= \"+str(C)+\", mean: \"+str(scores.mean())+\" , std dev: \"+str(scores.std()))"
   ]
  },
  {
   "cell_type": "markdown",
   "metadata": {},
   "source": [
    "Lo podemos mostrar con un gráfico."
   ]
  },
  {
   "cell_type": "code",
   "execution_count": 171,
   "metadata": {},
   "outputs": [
    {
     "data": {
      "text/plain": [
       "<ErrorbarContainer object of 3 artists>"
      ]
     },
     "execution_count": 171,
     "metadata": {},
     "output_type": "execute_result"
    },
    {
     "data": {
      "image/png": "[encoded data removed]",
      "text/plain": [
       "<Figure size 432x288 with 1 Axes>"
      ]
     },
     "metadata": {
      "needs_background": "light"
     },
     "output_type": "display_data"
    }
   ],
   "source": [
    "Cs = (1, 4, 8, 16, 32, 60)\n",
    "\n",
    "scores = []\n",
    "errors = []\n",
    "for C in Cs:\n",
    "    clf_svm = svm.SVC(C=C)\n",
    "    clf_svm.fit(train_x_vectors, train_y)\n",
    "    score = cross_val_score(clf_svm, test_x_vectors, test_y, cv=5, scoring='f1_macro')\n",
    "    scores.append(score.mean())\n",
    "    errors.append(score.std())\n",
    "    \n",
    "plt.errorbar(Cs, scores, errors, 0)"
   ]
  },
  {
   "cell_type": "markdown",
   "metadata": {},
   "source": [
    "Vemos que obtiene los mejores valores con C = 16.\n",
    "\n",
    "Comprobarlo:"
   ]
  },
  {
   "cell_type": "code",
   "execution_count": 184,
   "metadata": {},
   "outputs": [
    {
     "data": {
      "text/plain": [
       "array([0.89824561, 0.26666667, 0.23333333])"
      ]
     },
     "execution_count": 184,
     "metadata": {},
     "output_type": "execute_result"
    }
   ],
   "source": [
    "# antes\n",
    "clf_svm = svm.SVC(kernel='linear', C=1.0)\n",
    "clf_svm.fit(train_x_vectors, train_y)\n",
    "accuracy = clf_svm.score(test_x_vectors, test_y)\n",
    "prediction_y = clf_svm.predict(test_x_vectors)\n",
    "f1_score(test_y, prediction_y, average=None, labels=[Sentiment.POSITIVE, Sentiment.NEGATIVE, Sentiment.NEUTRAL])"
   ]
  },
  {
   "cell_type": "code",
   "execution_count": 185,
   "metadata": {},
   "outputs": [
    {
     "data": {
      "text/plain": [
       "array([0.90106007, 0.23529412, 0.23333333])"
      ]
     },
     "execution_count": 185,
     "metadata": {},
     "output_type": "execute_result"
    }
   ],
   "source": [
    "# ahora\n",
    "clf_svm = svm.SVC(kernel='linear', C=16)\n",
    "clf_svm.fit(train_x_vectors, train_y)\n",
    "accuracy = clf_svm.score(test_x_vectors, test_y)\n",
    "prediction_y = clf_svm.predict(test_x_vectors)\n",
    "f1_score(test_y, prediction_y, average=None, labels=[Sentiment.POSITIVE, Sentiment.NEGATIVE, Sentiment.NEUTRAL])"
   ]
  },
  {
   "cell_type": "markdown",
   "metadata": {},
   "source": [
    "Mejora un poco, cuanda hagamos Machine Learning lo complicado es encontrar los parametros/algoritmos correctos para nuestro problema."
   ]
  },
  {
   "cell_type": "markdown",
   "metadata": {},
   "source": [
    "----\n",
    "## Guardando el modelo"
   ]
  },
  {
   "cell_type": "code",
   "execution_count": 187,
   "metadata": {},
   "outputs": [],
   "source": [
    "import pickle\n",
    "\n",
    "with open('./models/clasificador_de_resenyas.pkl', 'wb') as f: # write buffer\n",
    "    pickle.dump(clf_svm, f)"
   ]
  },
  {
   "cell_type": "markdown",
   "metadata": {},
   "source": [
    "Una vez guardado, lo podemos coger de nuevo cuando lo necesitemos:"
   ]
  },
  {
   "cell_type": "code",
   "execution_count": 189,
   "metadata": {},
   "outputs": [],
   "source": [
    "with open('./models/clasificador_de_resenyas.pkl', 'rb') as f:\n",
    "    loaded_clf = pickle.load(f)"
   ]
  },
  {
   "cell_type": "code",
   "execution_count": 195,
   "metadata": {},
   "outputs": [
    {
     "name": "stdout",
     "output_type": "stream",
     "text": [
      "POSITIVA\n",
      "I like Michael Connelly very much. The writing is good and the character is very human. I would buy another of his books.\n"
     ]
    }
   ],
   "source": [
    "print(test_y[30])\n",
    "print(test_x[30])"
   ]
  },
  {
   "cell_type": "code",
   "execution_count": 196,
   "metadata": {},
   "outputs": [
    {
     "data": {
      "text/plain": [
       "array(['POSITIVA'], dtype='<U8')"
      ]
     },
     "execution_count": 196,
     "metadata": {},
     "output_type": "execute_result"
    }
   ],
   "source": [
    "loaded_clf.predict(test_x_vectors[30])"
   ]
  },
  {
   "cell_type": "markdown",
   "metadata": {},
   "source": [
    "Tu turno! Piensa en un problema, como solucionarlo aplicando Machine Learning y busca el mejor modelo."
   ]
  },
  {
   "cell_type": "markdown",
   "metadata": {},
   "source": [
    "-----\n",
    "# Deep Learning\n",
    "\n",
    "<div>\n",
    "    <img src=\"./imagenes/view9.png\" width=500 height=800 />\n",
    "</div>"
   ]
  },
  {
   "cell_type": "markdown",
   "metadata": {},
   "source": [
    "https://lobe.ai/"
   ]
  }
 ],
 "metadata": {
  "kernelspec": {
   "display_name": "Python 3",
   "language": "python",
   "name": "python3"
  },
  "language_info": {
   "codemirror_mode": {
    "name": "ipython",
    "version": 3
   },
   "file_extension": ".py",
   "mimetype": "text/x-python",
   "name": "python",
   "nbconvert_exporter": "python",
   "pygments_lexer": "ipython3",
   "version": "3.9.0"
  }
 },
 "nbformat": 4,
 "nbformat_minor": 4
}
