{
 "cells": [
  {
   "cell_type": "markdown",
   "metadata": {},
   "source": [
    "# Pong simple en Python 3 para principiantes\n",
    "\n",
    "## Parte 1: Empezamos\n",
    "\n",
    "Os mostraré como usar vuestro nuevo conocimiento de Python para hacer un juego de Pong:\n",
    "\n",
    "https://www.youtube.com/watch?v=fhd7FfGCdCo&ab_channel=WUSA9\n",
    "\n",
    "Normalmente para hacer juegos en Python se usa PyGame, pero de momento lo haremos con librerias que ya estan \"build-in\"."
   ]
  },
  {
   "cell_type": "code",
   "execution_count": 2,
   "metadata": {},
   "outputs": [],
   "source": [
    "import turtle"
   ]
  },
  {
   "cell_type": "markdown",
   "metadata": {},
   "source": [
    "turtle nos permite crear ventanas:"
   ]
  },
  {
   "cell_type": "code",
   "execution_count": 4,
   "metadata": {},
   "outputs": [],
   "source": [
    "wn = turtle.Screen()\n",
    "wn.title(\"Pong\")\n",
    "wn.bgcolor(\"black\")\n",
    "wn.setup(width=800, height=600)"
   ]
  },
  {
   "cell_type": "markdown",
   "metadata": {},
   "source": [
    "hace que la ventana se deje de actualizar, asi que la tendremos que actualizar nosotros. Nos permite dar más velocidad a nuestro juego"
   ]
  },
  {
   "cell_type": "code",
   "execution_count": 5,
   "metadata": {},
   "outputs": [],
   "source": [
    "wn.tracer(0)"
   ]
  },
  {
   "cell_type": "markdown",
   "metadata": {},
   "source": [
    "Ahora creamos el bucle principal del juego:"
   ]
  },
  {
   "cell_type": "code",
   "execution_count": null,
   "metadata": {},
   "outputs": [],
   "source": [
    "while True:\n",
    "    wn.update()"
   ]
  },
  {
   "cell_type": "markdown",
   "metadata": {},
   "source": [
    "Al ejecutar, deberia abrirse una ventana con el fondo negro, título Pong, y amplitud/altura. \n",
    "\n",
    "### Coordenadas\n",
    "\n",
    "En el centro de la ventana estará la coordenada (x, y) = (0, 0). \n",
    "\n",
    "<div>\n",
    "    <img src=\"./imagenes/view1.png\" width=300 height=500 />\n",
    "</div>"
   ]
  },
  {
   "cell_type": "markdown",
   "metadata": {},
   "source": [
    "## Añadiendo paletas y bola\n",
    "\n",
    "Usaremos una funcion de turtle que se llama Turtle(), esta nos crea un objeto que tiene las funciones necesarias para ser usado en el juego."
   ]
  },
  {
   "cell_type": "code",
   "execution_count": null,
   "metadata": {},
   "outputs": [],
   "source": [
    "# Paleta A\n",
    "pala_a = turtle.Turtle()\n",
    "pala_a.speed(0)\n",
    "pala_a.shape(\"square\")\n",
    "pala_a.color(\"white\")\n",
    "pala_a.shapesize(stretch_wid=5, stretch_len=1)\n",
    "pala_a.penup()\n",
    "pala_a.goto(-350, 0)"
   ]
  },
  {
   "cell_type": "markdown",
   "metadata": {},
   "source": [
    "Aquí le ponemos una velocidad, su forma, color, estiramos la forma para que se parezca más a una pala, penup() (no importa ahora mismo, turtle nos dibuja lineas por defecto y esto lo quita sin más) y lo movemos a la posición (x, y) = (-350, 0)."
   ]
  },
  {
   "cell_type": "markdown",
   "metadata": {},
   "source": [
    "<div>\n",
    "    <img src=\"./imagenes/view2.png\" width=300 height=500 />\n",
    "</div>"
   ]
  },
  {
   "cell_type": "markdown",
   "metadata": {},
   "source": [
    "Ahora haremos la pala B, os daré tiempo para que lo intenteis vosotros. (Hint: copiar pegar la mayoria)"
   ]
  },
  {
   "cell_type": "code",
   "execution_count": null,
   "metadata": {},
   "outputs": [],
   "source": [
    "pala_b = turtle.Turtle()\n",
    "pala_b.speed(0)\n",
    "pala_b.shape(\"square\")\n",
    "pala_b.color(\"white\")\n",
    "pala_b.shapesize(stretch_wid=5, stretch_len=1)\n",
    "pala_b.penup()\n",
    "pala_b.goto(350, 0)"
   ]
  },
  {
   "cell_type": "markdown",
   "metadata": {},
   "source": [
    "Testear parte a parte es muy importante cuando codificamos.\n",
    "\n",
    "<div>\n",
    "    <img src=\"./imagenes/view3.png\" width=300 height=500 />\n",
    "</div>"
   ]
  },
  {
   "cell_type": "markdown",
   "metadata": {},
   "source": [
    "**Bola**"
   ]
  },
  {
   "cell_type": "code",
   "execution_count": null,
   "metadata": {},
   "outputs": [],
   "source": [
    "bola = turtle.Turtle()\n",
    "bola.speed(0)\n",
    "bola.shape(\"square\")\n",
    "bola.color(\"white\")\n",
    "bola.penup()\n",
    "bola.goto(0, 0)"
   ]
  },
  {
   "cell_type": "markdown",
   "metadata": {},
   "source": [
    "<div>\n",
    "    <img src=\"./imagenes/view4.png\" width=300 height=500 />\n",
    "</div>"
   ]
  },
  {
   "cell_type": "markdown",
   "metadata": {},
   "source": [
    "## Mover la pala\n",
    "\n",
    "Para eso usaremos una función."
   ]
  },
  {
   "cell_type": "code",
   "execution_count": null,
   "metadata": {},
   "outputs": [],
   "source": [
    "# Mover pala\n",
    "def pala_a_up():\n",
    "    y = pala_a.ycor()\n",
    "    y += 20\n",
    "    pala_a.sety(y)"
   ]
  },
  {
   "cell_type": "markdown",
   "metadata": {},
   "source": [
    "Un objeto Turtle nos permite usar sus funciones como ycor() que nos da la cordenada y del objeto. Y sety() que nos permite cambiarla."
   ]
  },
  {
   "cell_type": "markdown",
   "metadata": {},
   "source": [
    "## Enlacar el teclado (keyboard binding)\n",
    "\n",
    "Tenemos que llamar la función cuando el usuario presione una tecla. Para eso turtle tiene una función llamada listen(), que le dice al programa que escuche el teclado. Y usando .onkeypress() podemos leer la tecla en concreto, en este caso \"w\" y el primer parametro que llamará a una función pala_a_up(), tal que:"
   ]
  },
  {
   "cell_type": "code",
   "execution_count": null,
   "metadata": {},
   "outputs": [],
   "source": [
    "# Keyboard binding\n",
    "wn.listen()\n",
    "wn.onkeypress(pala_a_up, \"w\")"
   ]
  },
  {
   "cell_type": "markdown",
   "metadata": {},
   "source": [
    "<div>\n",
    "    <img src=\"./imagenes/view5.png\" width=300 height=500 />\n",
    "</div>"
   ]
  },
  {
   "cell_type": "markdown",
   "metadata": {},
   "source": [
    "Lo mismo para mover la pala hacia abajo"
   ]
  },
  {
   "cell_type": "code",
   "execution_count": null,
   "metadata": {},
   "outputs": [],
   "source": [
    "# Mover pala\n",
    "def pala_a_up():\n",
    "    y = pala_a.ycor()\n",
    "    y += 20\n",
    "    pala_a.sety(y)\n",
    "\n",
    "def pala_a_down():\n",
    "    y = pala_a.ycor()\n",
    "    y -= 20\n",
    "    pala_a.sety(y)\n",
    "\n",
    "\n",
    "# Keyboard binding\n",
    "wn.listen()\n",
    "wn.onkeypress(pala_a_up, \"w\")\n",
    "wn.onkeypress(pala_a_down, \"s\")\n",
    "\n",
    "while True:\n",
    "    wn.update()"
   ]
  },
  {
   "cell_type": "markdown",
   "metadata": {},
   "source": [
    "Si somos consistentes con los nombres, podemos ser \"vagos\" y copiar y pegar como yo estoy haciendo."
   ]
  },
  {
   "cell_type": "markdown",
   "metadata": {},
   "source": [
    "Con la otra pala usaremos las flechas. "
   ]
  },
  {
   "cell_type": "code",
   "execution_count": null,
   "metadata": {},
   "outputs": [],
   "source": [
    "def pala_b_up():\n",
    "    y = pala_b.ycor()\n",
    "    y += 20\n",
    "    pala_b.sety(y)\n",
    "\n",
    "def pala_b_down():\n",
    "    y = pala_b.ycor()\n",
    "    y -= 20\n",
    "    pala_b.sety(y)\n",
    "\n",
    "\n",
    "\n",
    "# Keyboard binding\n",
    "wn.listen()\n",
    "wn.onkeypress(pala_a_up, \"w\")\n",
    "wn.onkeypress(pala_a_down, \"s\")\n",
    "wn.onkeypress(pala_b_up, \"Up\")\n",
    "wn.onkeypress(pala_b_down, \"Down\")\n",
    "\n",
    "while True:\n",
    "    wn.update()"
   ]
  },
  {
   "cell_type": "markdown",
   "metadata": {},
   "source": [
    "Importante seguir testeando el código cada vez que añadimos una funcionalidad."
   ]
  },
  {
   "cell_type": "markdown",
   "metadata": {},
   "source": [
    "## Mover la bola\n",
    "\n",
    "La parte escencial del programa. Tenemos que hacer que la bola se mueva, rebote con el techo y el suelo y las palas."
   ]
  },
  {
   "cell_type": "markdown",
   "metadata": {},
   "source": [
    "Primero hacemos que la bola se mueva con: (Probar con diferentes números, dependerá de tu ordenador)"
   ]
  },
  {
   "cell_type": "code",
   "execution_count": null,
   "metadata": {},
   "outputs": [],
   "source": [
    "# Ball\n",
    "bola = turtle.Turtle()\n",
    "bola.speed(0)\n",
    "bola.shape(\"square\")\n",
    "bola.color(\"white\")\n",
    "bola.penup()\n",
    "bola.goto(0, 0)\n",
    "bola.dx = 2 # mueve en la cordenada x\n",
    "bola.dy = 2 # mueve en la cordenada y"
   ]
  },
  {
   "cell_type": "markdown",
   "metadata": {},
   "source": [
    "Para que esto funcione debemos actualizar la cordenada x de la bola con estos valores, y esto se hace dentro del loop principal."
   ]
  },
  {
   "cell_type": "code",
   "execution_count": null,
   "metadata": {},
   "outputs": [],
   "source": [
    "while True:\n",
    "    wn.update()\n",
    "\n",
    "     # Mover la bola\n",
    "    bola.setx(bola.xcor() + bola.dx)\n",
    "    bola.sety(bola.ycor() + bola.dy)"
   ]
  },
  {
   "cell_type": "markdown",
   "metadata": {},
   "source": [
    "<div>\n",
    "    <img src=\"./imagenes/view6.png\" width=300 height=500 />\n",
    "</div>"
   ]
  },
  {
   "cell_type": "markdown",
   "metadata": {},
   "source": [
    "La bola se deberia mover diagonalmente. \n",
    "\n",
    "## Comprobar bordes.\n",
    "\n",
    "Ahora tenemos que comprobar cuando la bola llega al techo, sabemos que el techo esta en (n, 300). Cunado la bola llegue a esa posición, le cambiamos la dirección multiplicando dy por -1 (haciendolo negativo)."
   ]
  },
  {
   "cell_type": "code",
   "execution_count": null,
   "metadata": {},
   "outputs": [],
   "source": [
    "    # Comprobar bordes\n",
    "    if bola.ycor() > 290:\n",
    "        bola.sety(290)\n",
    "        bola.dy *= -1"
   ]
  },
  {
   "cell_type": "markdown",
   "metadata": {},
   "source": [
    "** comprobar que funciona!! **"
   ]
  },
  {
   "cell_type": "markdown",
   "metadata": {},
   "source": [
    "Hacemos lo mismo para el suelo."
   ]
  },
  {
   "cell_type": "code",
   "execution_count": null,
   "metadata": {},
   "outputs": [],
   "source": [
    "  if bola.ycor() < -290:\n",
    "        bola.sety(-290)\n",
    "        bola.dy *= -1"
   ]
  },
  {
   "cell_type": "markdown",
   "metadata": {},
   "source": [
    "Para testearlo, hace falta poner la dirección y en negativo, para que al principio la bola vaya hacia el suelo."
   ]
  },
  {
   "cell_type": "markdown",
   "metadata": {},
   "source": [
    "Para saber cuando la bola se sale de la pantalla, en este caso, como estamos mirando a la izquierda y a la derecha, hace falta comprobar la cordenada x.\n",
    "\n",
    "Cuando se sale, ponemos la pelota de nuevo en el centro."
   ]
  },
  {
   "cell_type": "code",
   "execution_count": null,
   "metadata": {},
   "outputs": [],
   "source": [
    "    if bola.xcor() > 390:\n",
    "        bola.goto(0, 0)\n",
    "        bola.dx *= -1"
   ]
  },
  {
   "cell_type": "markdown",
   "metadata": {},
   "source": [
    "Comprobar que funciona, si funciona hacer lo mismo para la izquierda."
   ]
  },
  {
   "cell_type": "code",
   "execution_count": null,
   "metadata": {},
   "outputs": [],
   "source": [
    "    if bola.xcor() < -390:\n",
    "        bola.goto(0, 0)\n",
    "        bola.dx *= -1"
   ]
  },
  {
   "cell_type": "markdown",
   "metadata": {},
   "source": [
    "## Colisiones con la pala"
   ]
  },
  {
   "cell_type": "markdown",
   "metadata": {},
   "source": [
    "Tenemos que comprobar dos cosas:\n",
    "1. bola.xcor() > 340 and ball.xcor() < 350\n",
    "2. bola.ycor() < pala_b.ycor() + 40 and bola.ycor() > pala_b.ycor() - 40"
   ]
  },
  {
   "cell_type": "markdown",
   "metadata": {},
   "source": [
    "Que la bola x llegue a la cordenada x de la pala y que la cordenada y de la bola este entre los dos extremos de la pala. (el 40 se puede modificar, testeando)"
   ]
  },
  {
   "cell_type": "code",
   "execution_count": null,
   "metadata": {},
   "outputs": [],
   "source": [
    "    if (bola.xcor() > 340 and bola.xcor() < 350) and (bola.ycor() < pala_b.ycor() + 40 and bola.ycor() > pala_b.ycor() - 40):\n",
    "        bola.setx(340)\n",
    "        bola.dx *= -1"
   ]
  },
  {
   "cell_type": "markdown",
   "metadata": {},
   "source": [
    "Comprobar que funciona, si funciona hacemos lo mismo con la otra dirección."
   ]
  },
  {
   "cell_type": "code",
   "execution_count": null,
   "metadata": {},
   "outputs": [],
   "source": [
    "    if (bola.xcor() < -340 and bola.xcor() > -350) and (bola.ycor() < pala_a.ycor() + 40 and bola.ycor() > pala_a.ycor() - 40):\n",
    "        bola.setx(-340)\n",
    "        bola.dx *= -1"
   ]
  },
  {
   "cell_type": "markdown",
   "metadata": {},
   "source": [
    "Tenemos un Pong funcional!! Pero falta el marcador."
   ]
  },
  {
   "cell_type": "markdown",
   "metadata": {},
   "source": [
    "## Marcador\n",
    "\n",
    "Turtle realmente lo que hace es dibujar en pantalla (por eso usamos el .penup() anteriormente, para que no nos dibujara). Podemos usar un objeto de turtle para el marcador. Usaremos un objeto entonces como un boligrafo. "
   ]
  },
  {
   "cell_type": "code",
   "execution_count": null,
   "metadata": {},
   "outputs": [],
   "source": [
    "# Bolígrafo\n",
    "pen = turtle.Turtle()\n",
    "pen.speed(0)\n",
    "pen.color(\"white\")\n",
    "pen.penup()\n",
    "pen.hideturtle()\n",
    "pen.goto(0, 260)"
   ]
  },
  {
   "cell_type": "markdown",
   "metadata": {},
   "source": [
    "*mostrar como seria sin penup()*\n",
    "\n",
    "Hacemos hideturtle() para que el bolígrafo no aparezca. Turtle tiene una función .write() para escribir."
   ]
  },
  {
   "cell_type": "code",
   "execution_count": null,
   "metadata": {},
   "outputs": [],
   "source": [
    "pen.write(\"Jugador A: 0 Jugador B: 0\", align=\"center\", font=(\"Courier\", 24, \"normal\"))"
   ]
  },
  {
   "cell_type": "markdown",
   "metadata": {},
   "source": [
    "<div>\n",
    "    <img src=\"./imagenes/view7.png\" width=300 height=500 />\n",
    "</div>"
   ]
  },
  {
   "cell_type": "markdown",
   "metadata": {},
   "source": [
    "Necesitamos variables para el marcador."
   ]
  },
  {
   "cell_type": "code",
   "execution_count": null,
   "metadata": {},
   "outputs": [],
   "source": [
    "# marcador\n",
    "marcador_a = 0\n",
    "marcador_b = 0"
   ]
  },
  {
   "cell_type": "markdown",
   "metadata": {},
   "source": [
    "¿Cuándo gana un jugador? Cuando la bola llega al borde de la izquierda, gana jugador B, y viceversa."
   ]
  },
  {
   "cell_type": "code",
   "execution_count": null,
   "metadata": {},
   "outputs": [],
   "source": [
    "    if bola.xcor() > 390:\n",
    "        bola.goto(0, 0)\n",
    "        bola.dx *= -1\n",
    "        marcador_a += 1 \n",
    "\n",
    "    if bola.xcor() < -390:\n",
    "        bola.goto(0, 0)\n",
    "        bola.dx *= -1\n",
    "        marcador_b += 1 "
   ]
  },
  {
   "cell_type": "markdown",
   "metadata": {},
   "source": [
    "Ejecutalo, ¿Por qué no hay ningún cambio?\n",
    "\n",
    "Falta actualizar el marcador.\n",
    "\n",
    "Lo haremos con otra manera de printear."
   ]
  },
  {
   "cell_type": "code",
   "execution_count": null,
   "metadata": {},
   "outputs": [],
   "source": [
    "    if bola.xcor() > 390:\n",
    "        bola.goto(0, 0)\n",
    "        bola.dx *= -1\n",
    "        marcador_a += 1\n",
    "        pen.write(\"Jugador A: {} Jugador B: {}\".format(marcador_a, marcador_b), align=\"center\",\n",
    "                  font=(\"Courier\", 24, \"normal\"))\n",
    "\n",
    "    if bola.xcor() < -390:\n",
    "        bola.goto(0, 0)\n",
    "        bola.dx *= -1\n",
    "        marcador_b += 1\n",
    "        pen.write(\"Jugador A: {} Jugador B: {}\".format(marcador_a, marcador_b), align=\"center\",\n",
    "                  font=(\"Courier\", 24, \"normal\"))"
   ]
  },
  {
   "cell_type": "markdown",
   "metadata": {},
   "source": [
    "Ejecutalo, veras que esta printeando encima del otro, por eso tenemos que borrar el marcador anterior con pen.clear()"
   ]
  },
  {
   "cell_type": "code",
   "execution_count": null,
   "metadata": {},
   "outputs": [],
   "source": [
    "   if bola.xcor() > 390:\n",
    "        bola.goto(0, 0)\n",
    "        bola.dx *= -1\n",
    "        marcador_a += 1\n",
    "        pen.clear()\n",
    "        pen.write(\"Jugador A: {} Jugador B: {}\".format(marcador_a, marcador_b), align=\"center\",\n",
    "                  font=(\"Courier\", 24, \"normal\"))\n",
    "\n",
    "    if bola.xcor() < -390:\n",
    "        bola.goto(0, 0)\n",
    "        bola.dx *= -1\n",
    "        marcador_b += 1\n",
    "        pen.clear()\n",
    "        pen.write(\"Jugador A: {} Jugador B: {}\".format(marcador_a, marcador_b), align=\"center\",\n",
    "                  font=(\"Courier\", 24, \"normal\"))"
   ]
  },
  {
   "cell_type": "markdown",
   "metadata": {},
   "source": [
    "Para finalizar, podemos añadir un poco de sonido.\n",
    "\n",
    "# Sonido\n",
    "\n",
    "http://christianthompson.com/sites/default/files/Pong/bounce.wav\n",
    "\n",
    "Descargar sonido y guardarlo en la misma carpeta que el programa.\n",
    "\n",
    "Ejecutar sonido no funciona igual en todos los sistemas operativos, os enseñaré cómo hacerlo en Mac y después en Windows.\n",
    "\n",
    "Primero importamos la libreria os. Nos permite interactuar con el sistema operativo a través de comandos."
   ]
  },
  {
   "cell_type": "raw",
   "metadata": {},
   "source": [
    "import os"
   ]
  },
  {
   "cell_type": "markdown",
   "metadata": {},
   "source": [
    "Queremos ejecutar el sonido cuando la bola encunetra una colisión. \n",
    "\n",
    "**Para Mac**"
   ]
  },
  {
   "cell_type": "code",
   "execution_count": null,
   "metadata": {},
   "outputs": [],
   "source": [
    "    # Comprobar bordes\n",
    "    if bola.ycor() > 290:\n",
    "        bola.sety(290)\n",
    "        bola.dy *= -1\n",
    "        os.system(\"afplay bounce.wav\")"
   ]
  },
  {
   "cell_type": "markdown",
   "metadata": {},
   "source": [
    "Problema! El programa se para cuando el sistema operativo ejecuta el sonido.\n",
    "\n",
    "Para que no pase eso, tenemos que añadir un & al final."
   ]
  },
  {
   "cell_type": "code",
   "execution_count": null,
   "metadata": {},
   "outputs": [],
   "source": [
    "os.system(\"afplay bounce.wav&\")"
   ]
  },
  {
   "cell_type": "markdown",
   "metadata": {},
   "source": [
    "Solucionado! Podemos copiar/pegar en las demas colisiones.\n",
    "\n",
    "**Para Linux**"
   ]
  },
  {
   "cell_type": "code",
   "execution_count": null,
   "metadata": {},
   "outputs": [],
   "source": [
    "os.system(\"aplay bounce.wav&\")"
   ]
  },
  {
   "cell_type": "markdown",
   "metadata": {},
   "source": [
    "**Para Windows**\n",
    "\n",
    "Yo no os lo puedo mostrar. \n",
    "\n",
    "Un poco diferente, no nos sirve os, tenemos que importar una libreria llamada winsound"
   ]
  },
  {
   "cell_type": "code",
   "execution_count": null,
   "metadata": {},
   "outputs": [],
   "source": [
    "import winsound"
   ]
  },
  {
   "cell_type": "markdown",
   "metadata": {},
   "source": [
    "Y para ejecutar el sonido:"
   ]
  },
  {
   "cell_type": "code",
   "execution_count": null,
   "metadata": {},
   "outputs": [],
   "source": [
    "winsound.PlaySound(\"bounce.wav\", winsound.SND_ASYNC)"
   ]
  },
  {
   "cell_type": "markdown",
   "metadata": {},
   "source": [
    "SND_ASYNC hace lo mismo que & para mac/linux."
   ]
  },
  {
   "cell_type": "markdown",
   "metadata": {},
   "source": [
    "# Conclusiones\n",
    "\n",
    "Pong es un ejemplo perfecto y muy utilizado porque nos da todos los conceptos básicos para hacer un juego. Como poner objetos en pantalla, como actualizarlos, moverlos, colisiones, etc."
   ]
  },
  {
   "cell_type": "code",
   "execution_count": null,
   "metadata": {},
   "outputs": [],
   "source": []
  }
 ],
 "metadata": {
  "kernelspec": {
   "display_name": "Python 3",
   "language": "python",
   "name": "python3"
  },
  "language_info": {
   "codemirror_mode": {
    "name": "ipython",
    "version": 3
   },
   "file_extension": ".py",
   "mimetype": "text/x-python",
   "name": "python",
   "nbconvert_exporter": "python",
   "pygments_lexer": "ipython3",
   "version": "3.9.0"
  }
 },
 "nbformat": 4,
 "nbformat_minor": 4
}
