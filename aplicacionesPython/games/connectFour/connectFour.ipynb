{
 "cells": [
  {
   "cell_type": "markdown",
   "metadata": {},
   "source": [
    "# 4 en raya\n",
    "\n",
    "Vamos a hacer un juego un poca más de nivel intermedio. \n",
    "\n",
    "La idea es tener un juego final que se parece a esto en nuestra terminal:"
   ]
  },
  {
   "cell_type": "code",
   "execution_count": null,
   "metadata": {},
   "outputs": [],
   "source": [
    "[[ 0. 0. 0. 0. 0. 0. 0. ]\n",
    " [ 0. 0. 0. 0. 0. 0. 0. ]\n",
    " [ 0. 0. 0. 0. 0. 0. 0. ]\n",
    " [ 0. 0. 0. 0. 0. 0. 0. ]\n",
    " [ 0. 0. 0. 0. 0. 0. 0. ]\n",
    " [ 0. 0. 0. 0. 0. 0. 0. ]]\n",
    "   0  1  2  3  4  5  6\n",
    "    \n",
    "Player 1..\n",
    "\n",
    "// change with actual game"
   ]
  },
  {
   "cell_type": "markdown",
   "metadata": {},
   "source": [
    "Primero tenemos que pensar en lo que un 4 en raya y cómo lo representamos:\n",
    "\n",
    "<div>\n",
    "    <img src=\"./imagenes/connect4.png\" />\n",
    "</div>"
   ]
  },
  {
   "cell_type": "markdown",
   "metadata": {},
   "source": [
    "Podemos ver que son 6 filas y 7 columnas.\n",
    "\n",
    "¿Qué estructura de datos recomendarias para representar la tablero? Matriz de 6x7.\n",
    "\n",
    "Podriamos usar una lista clássica, pero os quiero enseñar una libreria muy usada para matemáticas en python, numpy.\n",
    "\n",
    "Si no lo habeis instalado, teneis que hacerlo con pip.\n",
    "\n",
    "Creamos una lista 6x7 iniciandolo a 0s."
   ]
  },
  {
   "cell_type": "code",
   "execution_count": 1,
   "metadata": {},
   "outputs": [],
   "source": [
    "import numpy as np\n",
    "\n",
    "def create_board():\n",
    "    board = np.zeros((6, 7))\n",
    "    return board"
   ]
  },
  {
   "cell_type": "markdown",
   "metadata": {},
   "source": [
    "Podemos testearlo con:"
   ]
  },
  {
   "cell_type": "markdown",
   "metadata": {},
   "source": [
    "board = create_board()\n",
    "print(board)"
   ]
  },
  {
   "cell_type": "markdown",
   "metadata": {},
   "source": [
    "Podemos empezar con el bucle del juego principal"
   ]
  },
  {
   "cell_type": "code",
   "execution_count": null,
   "metadata": {},
   "outputs": [],
   "source": [
    "board = create_board()\n",
    "game_over = False\n",
    "\n",
    "while not game_over:"
   ]
  },
  {
   "cell_type": "markdown",
   "metadata": {},
   "source": [
    "Dentro del loop:\n",
    "1. Preguntar Input del jugador 1\n",
    "2. Preguntar input jugador 2\n",
    "\n",
    "Para eso necesitamos saber el turno:"
   ]
  },
  {
   "cell_type": "code",
   "execution_count": null,
   "metadata": {},
   "outputs": [],
   "source": [
    "board = create_board()\n",
    "game_over = False\n",
    "turn = 0\n",
    "\n",
    "while not game_over:\n",
    "    # Preguntar input jugador 1\n",
    "\n",
    "    # Preguntar input jugador 2"
   ]
  },
  {
   "cell_type": "markdown",
   "metadata": {},
   "source": [
    "Si el turno es 0, el jugador 1 introducirá su jugada, 1 és turno del jugador 2"
   ]
  },
  {
   "cell_type": "code",
   "execution_count": null,
   "metadata": {},
   "outputs": [],
   "source": [
    "while not game_over:\n",
    "    # Preguntar input jugador 1\n",
    "    if turn == 0:\n",
    "        col = input(\"Jugador 1 haz tu selección (0-6): \")\n",
    "\n",
    "    # Preguntar input jugador 2\n",
    "    if turn == 1:\n",
    "        col = input(\"Jugador 2 haz tu selección (0-6): \")"
   ]
  },
  {
   "cell_type": "markdown",
   "metadata": {},
   "source": [
    "Recordad que el input siempre devuelve string, printear los valores para testearlo"
   ]
  },
  {
   "cell_type": "code",
   "execution_count": null,
   "metadata": {},
   "outputs": [],
   "source": [
    "while not game_over:\n",
    "    # Preguntar input jugador 1\n",
    "    if turn == 0:\n",
    "        col = int(input(\"Jugador 1 haz tu selección (0-6): \"))\n",
    "\n",
    "    # Preguntar input jugador 2\n",
    "    if turn == 1:\n",
    "        col = int(input(\"Jugador 2 haz tu selección (0-6): \"))\n",
    "\n",
    "    print(\"Jugador 1: \"+str(col))\n",
    "    #print(\"Jugador 2: \"+str(col))"
   ]
  },
  {
   "cell_type": "markdown",
   "metadata": {},
   "source": [
    "Para alternar entre jugadores podemos sumar 1 y cojer el residuo de una división entre dos (de par a impar)"
   ]
  },
  {
   "cell_type": "code",
   "execution_count": null,
   "metadata": {},
   "outputs": [],
   "source": [
    "while not game_over:\n",
    "    # Preguntar input jugador 1\n",
    "    if turn == 0:\n",
    "        col = int(input(\"Jugador 1 haz tu selección (0-6): \"))\n",
    "        print(\"Jugador 1: \"+str(col))\n",
    "\n",
    "    # Preguntar input jugador 2\n",
    "    if turn == 1:\n",
    "        col = int(input(\"Jugador 2 haz tu selección (0-6): \"))\n",
    "        print(\"Jugador 2: \"+str(col))\n",
    "\n",
    "    turn = int((turn + 1)) % 2\n",
    "    # turn += 1\n",
    "    # turn %= 2"
   ]
  },
  {
   "cell_type": "code",
   "execution_count": null,
   "metadata": {},
   "outputs": [],
   "source": [
    "Jugador 1 haz tu selección (0-6): 3\n",
    "Jugador 1: 3\n",
    "Jugador 2 haz tu selección (0-6): 2\n",
    "Jugador 2: 2\n",
    "Jugador 1 haz tu selección (0-6): 3\n",
    "Jugador 1: 3\n",
    "Jugador 2 haz tu selección (0-6): "
   ]
  },
  {
   "cell_type": "markdown",
   "metadata": {},
   "source": [
    "Pensar en que funciones necesitamos (pensar en el proceso de la funcionalidad del juego):\n",
    "* Jugador elige una columna donde tirar la fixa. \n",
    "* La fixa baja -> función drop_piece()\n",
    "* Luego cogemos la tablero que hemos creado (board) y la columna elegida (col) y comprobamos que la localización es válida -> def is_valid_location(board, col)"
   ]
  },
  {
   "cell_type": "code",
   "execution_count": null,
   "metadata": {},
   "outputs": [],
   "source": [
    "def drop_piece():\n",
    "    pass\n",
    "\n",
    "def is_valid_location(board, col):\n",
    "    pass"
   ]
  },
  {
   "cell_type": "markdown",
   "metadata": {},
   "source": [
    "¿Cuándo es valido?\n",
    "\n",
    "Cuando la columna no esta llena. (Si en la primera fila hay un 0)."
   ]
  },
  {
   "cell_type": "code",
   "execution_count": null,
   "metadata": {},
   "outputs": [],
   "source": [
    "def is_valid_location(board, col):\n",
    "    return board[5][col] == 0"
   ]
  },
  {
   "cell_type": "markdown",
   "metadata": {},
   "source": [
    "Cuidado: Nuestro código esta usando muchos números, el código se esta coviertiendo en algo complicado de leer. A eso se le llama números mágicos. \n",
    "\n",
    "Primero definiremos variables globales para la columna y fila, normalmente se ponen en mayúscula, pero no es obligatorio.\n",
    "\n",
    "Si picamos código bien, deberiamos poder cambiar las variables globales y que el juego siga funcionando con diferentes dimensiones."
   ]
  },
  {
   "cell_type": "code",
   "execution_count": null,
   "metadata": {},
   "outputs": [],
   "source": [
    "ROW_COUNT = 6\n",
    "COLUMN_COUNT = 7"
   ]
  },
  {
   "cell_type": "markdown",
   "metadata": {},
   "source": [
    "También necesitamos saber la proxima fila abierta, para saber donde dejar la ficha."
   ]
  },
  {
   "cell_type": "code",
   "execution_count": null,
   "metadata": {},
   "outputs": [],
   "source": [
    "def get_next_open_row(board, col):\n",
    "    for r in range(ROW_COUNT):\n",
    "        if board[r][col] == 0:\n",
    "            return r"
   ]
  },
  {
   "cell_type": "markdown",
   "metadata": {},
   "source": [
    "Para poner la ficha, simplemente:"
   ]
  },
  {
   "cell_type": "code",
   "execution_count": null,
   "metadata": {},
   "outputs": [],
   "source": [
    "def drop_piece(board, row, col, piece):\n",
    "    board[row][col] = piece # pieza del jugador"
   ]
  },
  {
   "cell_type": "markdown",
   "metadata": {},
   "source": [
    "Volvemos al main loop,"
   ]
  },
  {
   "cell_type": "code",
   "execution_count": null,
   "metadata": {},
   "outputs": [],
   "source": [
    "while not game_over:\n",
    "    # Preguntar input jugador 1\n",
    "    if turn == 0:\n",
    "        col = int(input(\"Jugador 1 haz tu selección (0-6): \"))\n",
    "        print(\"Jugador 1: \"+str(col))\n",
    "\n",
    "        if is_valid_location(board, col):\n",
    "            row = get_next_open_row(board, col)\n",
    "            drop_piece(board, row, col, 1)\n",
    "\n",
    "    # Preguntar input jugador 2\n",
    "    if turn == 1:\n",
    "        col = int(input(\"Jugador 2 haz tu selección (0-6): \"))\n",
    "        print(\"Jugador 2: \"+str(col))\n",
    "\n",
    "        if is_valid_location(board, col):\n",
    "            row = get_next_open_row(board, col)\n",
    "            drop_piece(board, row, col, 2)\n",
    "\n",
    "\n",
    "    turn = int((turn + 1)) % 2\n",
    "    print(board)"
   ]
  },
  {
   "cell_type": "markdown",
   "metadata": {},
   "source": [
    "Vamos a testearlo.\n",
    "\n",
    "Parece que estamos insertando las fichas al revés, pero pensad que en numpy empezamos en el 0,0 y printeamos hacia abajo.\n",
    "\n",
    "Para solucionarlo, podemos hacer una función para cambiar la orientazión del tablero cuando queramos printearlo."
   ]
  },
  {
   "cell_type": "code",
   "execution_count": null,
   "metadata": {},
   "outputs": [],
   "source": [
    "def print_board(board):\n",
    "    print(np.flip(board, 0))"
   ]
  },
  {
   "cell_type": "markdown",
   "metadata": {},
   "source": [
    "Y llamamos la función en vez de printearlo en el loop."
   ]
  },
  {
   "cell_type": "code",
   "execution_count": null,
   "metadata": {},
   "outputs": [],
   "source": [
    "    turn = int((turn + 1)) % 2\n",
    "    print_board(board)"
   ]
  },
  {
   "cell_type": "markdown",
   "metadata": {},
   "source": [
    "# Comprobar ganador\n",
    "\n",
    "Creamos una función para eso. Hay muchas maneras de hacer esta función, no haremos la más eficiente, pero si la más fácil de explicar. \n",
    "\n",
    "Miraremos todas las direcciones (horizontal, vertical, diagonal) para saber quien a ganado.\n",
    "\n",
    "Primero horizontal:"
   ]
  },
  {
   "cell_type": "code",
   "execution_count": null,
   "metadata": {},
   "outputs": [],
   "source": [
    "def winning_move(board, piece):\n",
    "    # Check horizontal \n",
    "    # no hace falta todas las columnas, \n",
    "    # a partir de las tres últimas no se puede ganar \n",
    "    # (no puede haber 4 seguidas)\n",
    "    for c in range(COLUMN_COUNT-3):\n",
    "        for r in range(ROW_COUNT): \n",
    "            if board[r][c] == piece and board[r][c+1] == piece and board[r][c+2] == piece and board[r][c+3] == piece:\n",
    "                return True"
   ]
  },
  {
   "cell_type": "markdown",
   "metadata": {},
   "source": [
    "De nuevo, no es lo más eficiente pero es fácil.\n",
    "\n",
    "Añadir función en el bucle:"
   ]
  },
  {
   "cell_type": "code",
   "execution_count": null,
   "metadata": {},
   "outputs": [],
   "source": [
    "while not game_over:\n",
    "    # Preguntar input jugador 1\n",
    "    if turn == 0:\n",
    "        col = int(input(\"Jugador 1 haz tu selección (0-6): \"))\n",
    "        print(\"Jugador 1: \"+str(col))\n",
    "\n",
    "        if is_valid_location(board, col):\n",
    "            row = get_next_open_row(board, col)\n",
    "            drop_piece(board, row, col, 1)\n",
    "        \n",
    "            if winning_move(board, 1):\n",
    "                print(\"Jugador 1 gana!!!\")\n",
    "                game_over = True\n",
    "                break"
   ]
  },
  {
   "cell_type": "markdown",
   "metadata": {},
   "source": [
    "Lo mismo para el jugador 2.\n",
    "\n",
    "Comprobar qeu funciona:"
   ]
  },
  {
   "cell_type": "code",
   "execution_count": null,
   "metadata": {},
   "outputs": [],
   "source": [
    "Jugador 1 gana!!!\n",
    "[[0. 0. 0. 0. 0. 0. 0.]\n",
    " [0. 0. 0. 0. 0. 0. 0.]\n",
    " [0. 2. 0. 0. 0. 0. 0.]\n",
    " [0. 2. 0. 0. 0. 0. 0.]\n",
    " [0. 2. 0. 0. 0. 0. 0.]\n",
    " [0. 1. 1. 1. 1. 0. 0.]]\n",
    "jans-mbp:~ janjimenezserra$ "
   ]
  },
  {
   "cell_type": "markdown",
   "metadata": {},
   "source": [
    "Lo mismo para vertical"
   ]
  },
  {
   "cell_type": "code",
   "execution_count": null,
   "metadata": {},
   "outputs": [],
   "source": [
    "def winning_move(board, piece):\n",
    "    # Check horizontal\n",
    "    # no hace falta todas las columnas,\n",
    "    # a partir de las tres últimas no se puede ganar\n",
    "    # (no puede haber 4 seguidas)\n",
    "    for c in range(COLUMN_COUNT-3):\n",
    "        for r in range(ROW_COUNT):\n",
    "            if board[r][c] == piece and board[r][c+1] == piece and board[r][c+2] == piece and board[r][c+3] == piece:\n",
    "                return True\n",
    "\n",
    "    # Check vertical\n",
    "    for c in range(COLUMN_COUNT):\n",
    "        for r in range(ROW_COUNT-3):\n",
    "            if board[r][c] == piece and board[r+1][c] == piece and board[r+2][c] == piece and board[r+3][c] == piece:\n",
    "                return True"
   ]
  },
  {
   "cell_type": "markdown",
   "metadata": {},
   "source": [
    "Comprobar que en vertical funcion:"
   ]
  },
  {
   "cell_type": "code",
   "execution_count": null,
   "metadata": {},
   "outputs": [],
   "source": [
    "Jugador 1 gana!!!\n",
    "[[0. 0. 0. 0. 0. 0. 0.]\n",
    " [0. 0. 0. 0. 0. 0. 0.]\n",
    " [0. 1. 0. 0. 0. 0. 0.]\n",
    " [0. 1. 2. 0. 0. 0. 0.]\n",
    " [0. 1. 2. 0. 0. 0. 0.]\n",
    " [0. 1. 2. 0. 0. 0. 0.]]"
   ]
  },
  {
   "cell_type": "markdown",
   "metadata": {},
   "source": [
    "Lo mismo por la diagonal positiva y negativa."
   ]
  },
  {
   "cell_type": "code",
   "execution_count": null,
   "metadata": {},
   "outputs": [],
   "source": [
    "# Check diagonal positiva\n",
    "    for c in range(COLUMN_COUNT-3):\n",
    "        for r in range(ROW_COUNT-3):\n",
    "            if board[r][c] == piece and board[r+1][c+1] == piece and board[r+2][c+2] == piece and board[r+3][c+3] == piece:\n",
    "                return True"
   ]
  },
  {
   "cell_type": "code",
   "execution_count": null,
   "metadata": {},
   "outputs": [],
   "source": [
    "Jugador 1 gana!!!\n",
    "[[0. 0. 0. 0. 0. 0. 0.]\n",
    " [0. 0. 0. 0. 0. 0. 0.]\n",
    " [0. 0. 0. 1. 0. 0. 0.]\n",
    " [0. 1. 1. 2. 0. 0. 0.]\n",
    " [0. 1. 1. 2. 2. 0. 0.]\n",
    " [1. 2. 2. 2. 1. 0. 0.]]"
   ]
  },
  {
   "cell_type": "code",
   "execution_count": null,
   "metadata": {},
   "outputs": [],
   "source": [
    "    # Check diagonal negativa\n",
    "    for c in range(COLUMN_COUNT-3):\n",
    "        for r in range(3, ROW_COUNT):\n",
    "            if board[r][c] == piece and board[r-1][c+1] == piece and board[r-2][c+2] == piece and board[r-3][c+3] == piece:\n",
    "                return True"
   ]
  },
  {
   "cell_type": "code",
   "execution_count": null,
   "metadata": {},
   "outputs": [],
   "source": [
    "Jugador 1 gana!!!\n",
    "[[0. 0. 0. 0. 0. 0. 0.]\n",
    " [0. 0. 0. 0. 0. 0. 0.]\n",
    " [1. 0. 0. 0. 0. 0. 0.]\n",
    " [1. 1. 0. 0. 0. 0. 0.]\n",
    " [2. 2. 1. 0. 0. 0. 0.]\n",
    " [1. 2. 2. 1. 0. 0. 2.]]"
   ]
  },
  {
   "cell_type": "markdown",
   "metadata": {},
   "source": [
    "Ahora crearemos una interfície gráfica para poder jugar.\n",
    "\n",
    "## Interfície Gráfica\n",
    "\n",
    "Para eso usaremos PyGame. "
   ]
  },
  {
   "cell_type": "code",
   "execution_count": null,
   "metadata": {},
   "outputs": [],
   "source": [
    "pip install pygame"
   ]
  },
  {
   "cell_type": "code",
   "execution_count": null,
   "metadata": {},
   "outputs": [],
   "source": [
    "import pygame"
   ]
  },
  {
   "cell_type": "markdown",
   "metadata": {},
   "source": [
    "Inicializamos PyGame."
   ]
  },
  {
   "cell_type": "code",
   "execution_count": null,
   "metadata": {},
   "outputs": [],
   "source": [
    "pygame.init()\n",
    "\n",
    "while not game_over:\n",
    "    # Preguntar input jugador 1\n",
    "    if turn == 0:\n",
    "        col = int(input(\"Jugador 1 haz tu selección (0-6): \"))\n",
    "        print(\"Jugador 1: \"+str(col))\n",
    "        ..."
   ]
  },
  {
   "cell_type": "markdown",
   "metadata": {},
   "source": [
    "Primero tenemos que definir las dimensiones, podemos dividir cada agujero del tablero en un cuadrado de 100 pixeles, de ahí sacamos las dimensiones.\n",
    "\n",
    "Luego pasamos la dirección a PyGame, para saber las funciones de PyGame: \n",
    "https://www.pygame.org/docs/"
   ]
  },
  {
   "cell_type": "code",
   "execution_count": null,
   "metadata": {},
   "outputs": [],
   "source": [
    "pygame.init()\n",
    "\n",
    "SQUARESIZE = 100\n",
    "\n",
    "width = COLUMN_COUNT * SQUARESIZE\n",
    "height = (ROW_COUNT+1) * SQUARESIZE # para tirar la ficha\n",
    "\n",
    "size = (width, height)\n",
    "screen = pygame.display.set_mode(size)\n",
    "\n",
    "while not game_over:\n",
    "    # Preguntar input jugador 1\n",
    "    if turn == 0:\n",
    "        col = int(input(\"Jugador 1 haz tu selección (0-6): \"))\n",
    "        print(\"Jugador 1: \"+str(col))\n",
    "        ..."
   ]
  },
  {
   "cell_type": "markdown",
   "metadata": {},
   "source": [
    "Dentro del bucle principal, tendremos otro bucle para comprobar los eventos, el teclado, mouse, etc.\n",
    "\n",
    "Añadimos el evento de salir del juego, para cerrar la ventano usamos la libreria sys, no hace falta instalarla."
   ]
  },
  {
   "cell_type": "code",
   "execution_count": null,
   "metadata": {},
   "outputs": [],
   "source": [
    "while not game_over:\n",
    "    for event in pygame.event.get():\n",
    "        if event.type == pygame.QUIT:\n",
    "            sys.exit()"
   ]
  },
  {
   "cell_type": "markdown",
   "metadata": {},
   "source": [
    "Ahora cuando clicamos con el mouse. Cuando clicamos, empieza todo lo que hemos hecho antes, asi que ponemos todo el código dentro de este evento. "
   ]
  },
  {
   "cell_type": "code",
   "execution_count": null,
   "metadata": {},
   "outputs": [],
   "source": [
    "board = create_board()\n",
    "print_board(board)\n",
    "game_over = False\n",
    "turn = 0\n",
    "\n",
    "pygame.init()\n",
    "\n",
    "SQUARESIZE = 100\n",
    "\n",
    "width = COLUMN_COUNT * SQUARESIZE\n",
    "height = (ROW_COUNT+1) * SQUARESIZE  # para tirar la ficha\n",
    "\n",
    "size = (width, height)\n",
    "screen = pygame.display.set_mode(size)\n",
    "\n",
    "while not game_over:\n",
    "    for event in pygame.event.get():\n",
    "        if event.type == pygame.QUIT:\n",
    "            sys.exit()\n",
    "\n",
    "        if event.type == pygame.MOUSEBUTTONDOWN:\n",
    "            # Preguntar input jugador 1\n",
    "            if turn == 0:\n",
    "                col = int(input(\"Jugador 1 haz tu selección (0-6): \"))\n",
    "                print(\"Jugador 1: \"+str(col))\n",
    "\n",
    "                if is_valid_location(board, col):\n",
    "                    row = get_next_open_row(board, col)\n",
    "                    drop_piece(board, row, col, 1)\n",
    "\n",
    "                    if winning_move(board, 1):\n",
    "                        print(\"Jugador 1 gana!!!\")\n",
    "                        game_over = True\n",
    "                        break\n",
    "\n",
    "            # Preguntar input jugador 2\n",
    "            if turn == 1:\n",
    "                col = int(input(\"Jugador 2 haz tu selección (0-6): \"))\n",
    "                print(\"Jugador 2: \"+str(col))\n",
    "\n",
    "                if is_valid_location(board, col):\n",
    "                    row = get_next_open_row(board, col)\n",
    "                    drop_piece(board, row, col, 2)\n",
    "\n",
    "                    if winning_move(board, 2):\n",
    "                        print(\"Jugador 2 gana!!!\")\n",
    "                        game_over = True\n",
    "                        break\n",
    "\n",
    "            turn = int((turn + 1)) % 2\n",
    "            print_board(board)\n"
   ]
  },
  {
   "cell_type": "markdown",
   "metadata": {},
   "source": [
    "Para testear, comentamos todo ese código dentro del evento del mouse y ejecutamos para ver como aparece la ventana del juego."
   ]
  },
  {
   "cell_type": "code",
   "execution_count": null,
   "metadata": {},
   "outputs": [],
   "source": [
    "while not game_over:\n",
    "    for event in pygame.event.get():\n",
    "        if event.type == pygame.QUIT:\n",
    "            sys.exit()\n",
    "\n",
    "        if event.type == pygame.MOUSEBUTTONDOWN:\n",
    "            continue\n",
    "            \"\"\" # Preguntar input jugador 1\n",
    "            if turn == 0:\n",
    "                col = int(input(\"Jugador 1 haz tu selección (0-6): \"))\n",
    "                print(\"Jugador 1: \"+str(col))\n",
    "\n",
    "                if is_valid_location(board, col):\n",
    "                    row = get_next_open_row(board, col)\n",
    "                    drop_piece(board, row, col, 1)\n",
    "\n",
    "                    if winning_move(board, 1):\n",
    "                        print(\"Jugador 1 gana!!!\")\n",
    "                        game_over = True\n",
    "                        break\n",
    "\n",
    "            # Preguntar input jugador 2\n",
    "            if turn == 1:\n",
    "                col = int(input(\"Jugador 2 haz tu selección (0-6): \"))\n",
    "                print(\"Jugador 2: \"+str(col))\n",
    "\n",
    "                if is_valid_location(board, col):\n",
    "                    row = get_next_open_row(board, col)\n",
    "                    drop_piece(board, row, col, 2)\n",
    "\n",
    "                    if winning_move(board, 2):\n",
    "                        print(\"Jugador 2 gana!!!\")\n",
    "                        game_over = True\n",
    "                        break\n",
    "\n",
    "            turn = int((turn + 1)) % 2\n",
    "            print_board(board) \"\"\"\n"
   ]
  },
  {
   "cell_type": "markdown",
   "metadata": {},
   "source": [
    "<div>\n",
    "    <img src=\"./imagenes/view1.png\" height=500 width=500 />\n",
    "</div>"
   ]
  },
  {
   "cell_type": "markdown",
   "metadata": {},
   "source": [
    "Ahora dibujaremos el tablero:\n",
    "\n",
    "* Primero definimos su color:"
   ]
  },
  {
   "cell_type": "code",
   "execution_count": null,
   "metadata": {},
   "outputs": [],
   "source": [
    "BLUE = (0, 0, 255)"
   ]
  },
  {
   "cell_type": "markdown",
   "metadata": {},
   "source": [
    "Para dibujar cada cuadrado del tablero usamos pygame.draw.rect, puedes mirar la referencia para saber sus parametros."
   ]
  },
  {
   "cell_type": "code",
   "execution_count": null,
   "metadata": {},
   "outputs": [],
   "source": [
    "def draw_board(board):\n",
    "    for c in range(COLUMN_COUNT):\n",
    "        for r in range(ROW_COUNT):\n",
    "            pygame.draw.rect(screen, BLUE, (c*SQUARESIZE, r*SQUARESIZE, SQUARESIZE, SQUARESIZE))"
   ]
  },
  {
   "cell_type": "markdown",
   "metadata": {},
   "source": [
    "Antes del loop llamamos a la función y a pygame.display.update(). "
   ]
  },
  {
   "cell_type": "code",
   "execution_count": null,
   "metadata": {},
   "outputs": [],
   "source": [
    "size = (width, height)\n",
    "screen = pygame.display.set_mode(size)\n",
    "draw_board(board)\n",
    "pygame.display.update()\n",
    "\n",
    "while not game_over:\n",
    "    for event in pygame.event.get():\n",
    "        if event.type == pygame.QUIT:\n",
    "            sys.exit()"
   ]
  },
  {
   "cell_type": "markdown",
   "metadata": {},
   "source": [
    "<div>\n",
    "    <img src=\"./imagenes/view2.png\" height=500 width=500 />\n",
    "</div>"
   ]
  },
  {
   "cell_type": "markdown",
   "metadata": {},
   "source": [
    "Vemos que aparecen los cuadrados, pero queremos que la fila negra este arriba, donde el jugador eligirá donde cae la ficha. Añadimos en la fila otro square para que empieze después.\n"
   ]
  },
  {
   "cell_type": "code",
   "execution_count": null,
   "metadata": {},
   "outputs": [],
   "source": [
    "def draw_board(board):\n",
    "    for c in range(COLUMN_COUNT):\n",
    "        for r in range(ROW_COUNT):\n",
    "            pygame.draw.rect(screen, BLUE, (c*SQUARESIZE, r *\n",
    "                                            SQUARESIZE+SQUARESIZE, SQUARESIZE, SQUARESIZE))"
   ]
  },
  {
   "cell_type": "markdown",
   "metadata": {},
   "source": [
    "<div>\n",
    "    <img src=\"./imagenes/view3.png\" height=500 width=500 />\n",
    "</div>"
   ]
  },
  {
   "cell_type": "markdown",
   "metadata": {},
   "source": [
    "Para dibujar los círculos, lo hacemos con pygame.draw.circle.\n",
    "\n",
    "Añadir la variable global negra."
   ]
  },
  {
   "cell_type": "code",
   "execution_count": null,
   "metadata": {},
   "outputs": [],
   "source": [
    "BLUE = (0, 0, 255)\n",
    "BLACK = (0, 0, 0)"
   ]
  },
  {
   "cell_type": "code",
   "execution_count": null,
   "metadata": {},
   "outputs": [],
   "source": [
    "def draw_board(board):\n",
    "    for c in range(COLUMN_COUNT):\n",
    "        for r in range(ROW_COUNT):\n",
    "            pygame.draw.rect(screen, BLUE, (c*SQUARESIZE, r *\n",
    "                                            SQUARESIZE+SQUARESIZE, SQUARESIZE, SQUARESIZE))\n",
    "            pygame.draw.circle(screen, BLACK, (int(c*SQUARESIZE+SQUARESIZE/2),\n",
    "                                               int(r*SQUARESIZE+SQUARESIZE+SQUARESIZE/2)), int(SQUARESIZE/2 - 5))"
   ]
  },
  {
   "cell_type": "markdown",
   "metadata": {},
   "source": [
    "<div>\n",
    "    <img src=\"./imagenes/view4.png\" height=500 width=500 />\n",
    "</div>"
   ]
  },
  {
   "cell_type": "markdown",
   "metadata": {},
   "source": [
    "Donde tiramos la ficha, dependerá de la cordenada X del mouse."
   ]
  },
  {
   "cell_type": "code",
   "execution_count": null,
   "metadata": {},
   "outputs": [],
   "source": [
    "while not game_over:\n",
    "    for event in pygame.event.get():\n",
    "        if event.type == pygame.QUIT:\n",
    "            sys.exit()\n",
    "\n",
    "        if event.type == pygame.MOUSEBUTTONDOWN:\n",
    "            print(event.pos)"
   ]
  },
  {
   "cell_type": "markdown",
   "metadata": {},
   "source": [
    "En la terminal cuando clicamos pygame nos dira las cordenadas.\n",
    "\n",
    "Si conseguimos cambiar las cordenadas al 0-6 del principio, podremos reusar el codigo anterior.\n",
    "\n",
    "Empezamos por descomentar el código anterior.\n",
    "\n",
    "Después transformamos la cordenada x (entre 0 y 700) a 0-6."
   ]
  },
  {
   "cell_type": "code",
   "execution_count": null,
   "metadata": {},
   "outputs": [],
   "source": [
    "while not game_over:\n",
    "    for event in pygame.event.get():\n",
    "        if event.type == pygame.QUIT:\n",
    "            sys.exit()\n",
    "\n",
    "        if event.type == pygame.MOUSEBUTTONDOWN:\n",
    "            #print(event.pos)\n",
    "            # Preguntar input jugador 1\n",
    "            if turn == 0:\n",
    "                posx = event.pos[0] # entre 0 a 700\n",
    "                col = int(math.floor(posx/SQUARESIZE))\n",
    "                \n",
    "                #col = int(input(\"Jugador 1 haz tu selección (0-6): \"))\n",
    "                #print(\"Jugador 1: \"+str(col))"
   ]
  },
  {
   "cell_type": "markdown",
   "metadata": {},
   "source": [
    "Lo mismo para el segundo jugador.\n",
    "\n",
    "Si clicamos en la pantalla deberia funcionar en la terminal"
   ]
  },
  {
   "cell_type": "markdown",
   "metadata": {},
   "source": [
    "<div>\n",
    "    <img src=\"./imagenes/view5.png\" height=500 width=700 />\n",
    "</div>"
   ]
  },
  {
   "cell_type": "markdown",
   "metadata": {},
   "source": [
    "Solo falta representarlo en la pantalla. Volvemos al draw board. \n",
    "\n",
    "Definir los colores."
   ]
  },
  {
   "cell_type": "code",
   "execution_count": null,
   "metadata": {},
   "outputs": [],
   "source": [
    "BLUE = (0, 0, 255)\n",
    "BLACK = (0, 0, 0)\n",
    "RED = (255, 0, 0)\n",
    "YELLOW = (255, 255, 0)"
   ]
  },
  {
   "cell_type": "code",
   "execution_count": null,
   "metadata": {},
   "outputs": [],
   "source": [
    "def draw_board(board):\n",
    "    for c in range(COLUMN_COUNT):\n",
    "        for r in range(ROW_COUNT):\n",
    "            pygame.draw.rect(screen, BLUE, (c*SQUARESIZE, r *\n",
    "                                            SQUARESIZE+SQUARESIZE, SQUARESIZE, SQUARESIZE))\n",
    "            if board[r][c] == 0:\n",
    "                pygame.draw.circle(screen, BLACK, (int(c*SQUARESIZE+SQUARESIZE/2),\n",
    "                                                   int(r*SQUARESIZE+SQUARESIZE+SQUARESIZE/2)), int(SQUARESIZE/2 - 5))\n",
    "            elif board[r][c] == 1:\n",
    "                pygame.draw.circle(screen, YELLOW, (int(c*SQUARESIZE+SQUARESIZE/2),\n",
    "                                                    int(r*SQUARESIZE+SQUARESIZE+SQUARESIZE/2)), int(SQUARESIZE/2 - 5))\n",
    "            else:\n",
    "                pygame.draw.circle(screen, RED, (int(c*SQUARESIZE+SQUARESIZE/2),\n",
    "                                                 int(r*SQUARESIZE+SQUARESIZE+SQUARESIZE/2)), int(SQUARESIZE/2 - 5))\n",
    "     pygame.display.update()"
   ]
  },
  {
   "cell_type": "markdown",
   "metadata": {},
   "source": [
    "En el bucle del juego, llamar a draw_board también."
   ]
  },
  {
   "cell_type": "code",
   "execution_count": null,
   "metadata": {},
   "outputs": [],
   "source": [
    "            turn = int((turn + 1)) % 2\n",
    "            print_board(board)\n",
    "            draw_board(board)"
   ]
  },
  {
   "cell_type": "markdown",
   "metadata": {},
   "source": [
    "<div>\n",
    "    <img src=\"./imagenes/view6.png\" height=500 width=500 />\n",
    "</div>"
   ]
  },
  {
   "cell_type": "markdown",
   "metadata": {},
   "source": [
    "Nos pasa lo mismo que antes, el tablero esta girado.\n",
    "\n",
    "Para girarlo, mejor construir primero el tablero y luego pintar encima los colores."
   ]
  },
  {
   "cell_type": "code",
   "execution_count": null,
   "metadata": {},
   "outputs": [],
   "source": [
    "def draw_board(board):\n",
    "    for c in range(COLUMN_COUNT):\n",
    "        for r in range(ROW_COUNT):\n",
    "            pygame.draw.rect(screen, BLUE, (c*SQUARESIZE, r *\n",
    "                                            SQUARESIZE+SQUARESIZE, SQUARESIZE, SQUARESIZE))\n",
    "            pygame.draw.circle(screen, BLACK, (int(c*SQUARESIZE+SQUARESIZE/2),\n",
    "                                               int(r*SQUARESIZE+SQUARESIZE+SQUARESIZE/2)), int(SQUARESIZE/2 - 5))\n",
    "\n",
    "    for c in range(COLUMN_COUNT):\n",
    "        for r in range(ROW_COUNT):\n",
    "            if board[r][c] == 1:\n",
    "                pygame.draw.circle(screen, YELLOW, (int(c*SQUARESIZE+SQUARESIZE/2),\n",
    "                                                    height-int(r*SQUARESIZE+SQUARESIZE/2)), int(SQUARESIZE/2 - 5))\n",
    "            elif board[r][c] == 2:\n",
    "                pygame.draw.circle(screen, RED, (int(c*SQUARESIZE+SQUARESIZE/2),\n",
    "                                                 height-int(r*SQUARESIZE+SQUARESIZE/2)), int(SQUARESIZE/2 - 5))\n",
    "\n",
    "    pygame.display.update()"
   ]
  },
  {
   "cell_type": "markdown",
   "metadata": {},
   "source": [
    "<div>\n",
    "    <img src=\"./imagenes/view7.png\" height=500 width=500 />\n",
    "</div>"
   ]
  },
  {
   "cell_type": "markdown",
   "metadata": {},
   "source": [
    "Solo falta mostrar graficamente como soltamos la ficha. Para eso necesitamos la posición del mouse."
   ]
  },
  {
   "cell_type": "code",
   "execution_count": null,
   "metadata": {},
   "outputs": [],
   "source": [
    "while not game_over:\n",
    "    for event in pygame.event.get():\n",
    "        if event.type == pygame.QUIT:\n",
    "            sys.exit()\n",
    "\n",
    "        if event.type == pygame.MOUSEMOTION:\n",
    "            posx = event.pos[0]"
   ]
  },
  {
   "cell_type": "markdown",
   "metadata": {},
   "source": [
    "En cada turno dibujamos rojo o amarillo."
   ]
  },
  {
   "cell_type": "code",
   "execution_count": null,
   "metadata": {},
   "outputs": [],
   "source": [
    "if event.type == pygame.MOUSEMOTION:\n",
    "            posx = event.pos[0]\n",
    "            if turn == 0:\n",
    "                pygame.draw.circle(screen, RED, (posx, int(\n",
    "                    SQUARESIZE/2)), int(SQUARESIZE/2 - 5))\n",
    "            else:\n",
    "                pygame.draw.circle(screen, YELLOW, (posx, int(\n",
    "                    SQUARESIZE/2)), int(SQUARESIZE/2 - 5))\n",
    "        pygame.display.update()"
   ]
  },
  {
   "cell_type": "markdown",
   "metadata": {},
   "source": [
    "Si ejecutamos esto veremos que los no se borran los circulos que vamos creando, podemos dibujar un rectangulo negro encima para borrarlo."
   ]
  },
  {
   "cell_type": "code",
   "execution_count": null,
   "metadata": {},
   "outputs": [],
   "source": [
    "if event.type == pygame.MOUSEMOTION:\n",
    "    pygame.draw.rect(screen, BLACK, (0,0, width, SQUARESIZE))\n",
    "    posx = event.pos[0]\n",
    "    if turn == 0:\n",
    "        pygame.draw.circle(screen, YELLOW, (posx, int(\n",
    "            SQUARESIZE/2)), int(SQUARESIZE/2 - 5))\n",
    "    else:\n",
    "        pygame.draw.circle(screen, RED, (posx, int(\n",
    "            SQUARESIZE/2)), int(SQUARESIZE/2 - 5))\n",
    "    pygame.display.update()"
   ]
  },
  {
   "cell_type": "markdown",
   "metadata": {},
   "source": [
    "<div>\n",
    "    <img src=\"./imagenes/view8.png\" height=500 width=500 />\n",
    "</div>"
   ]
  },
  {
   "cell_type": "markdown",
   "metadata": {},
   "source": [
    "Funciona!! \n",
    "\n",
    "Pero cuando ganamos es un poco triste, podemos poner un mensaje al final.\n",
    "\n",
    "Primero añadir un wait al final del loop:"
   ]
  },
  {
   "cell_type": "code",
   "execution_count": null,
   "metadata": {},
   "outputs": [],
   "source": [
    "            turn = int((turn + 1)) % 2\n",
    "            print_board(board)\n",
    "            draw_board(board)\n",
    "\n",
    "            if game_over:\n",
    "                pygame.time.wait(3000)"
   ]
  },
  {
   "cell_type": "markdown",
   "metadata": {},
   "source": [
    "Para escribir un print tenemos que añadir un font."
   ]
  },
  {
   "cell_type": "code",
   "execution_count": null,
   "metadata": {},
   "outputs": [],
   "source": [
    "myfont = pygame.font.SysFont(\"monospace\", 75)\n",
    "\n",
    "while not game_over:\n",
    "    for event in pygame.event.get():\n",
    "        if event.type == pygame.QUIT:\n",
    "            sys.exit()"
   ]
  },
  {
   "cell_type": "markdown",
   "metadata": {},
   "source": [
    "En vez de printear cuando gana, dibujamos la letra."
   ]
  },
  {
   "cell_type": "code",
   "execution_count": null,
   "metadata": {},
   "outputs": [],
   "source": [
    "                if is_valid_location(board, col):\n",
    "                    row = get_next_open_row(board, col)\n",
    "                    drop_piece(board, row, col, 1)\n",
    "\n",
    "                    if winning_move(board, 1):\n",
    "                        print(\"Jugador 1 gana!!!\")\n",
    "                        label = myfont.render(\"Jugador 1 gana!!!\", 1, YELLOW)\n",
    "                        screen.blit(label, (40, 10))\n",
    "                        game_over = True"
   ]
  },
  {
   "cell_type": "markdown",
   "metadata": {},
   "source": [
    "Lo mismo para el jugador 2. \n",
    "\n",
    "Vemos que la ficha nos tapa el ganador, para fixearlo:"
   ]
  },
  {
   "cell_type": "code",
   "execution_count": null,
   "metadata": {},
   "outputs": [],
   "source": [
    "        if event.type == pygame.MOUSEBUTTONDOWN:\n",
    "            pygame.draw.rect(screen, BLACK, (0, 0, width, SQUARESIZE))"
   ]
  },
  {
   "cell_type": "markdown",
   "metadata": {},
   "source": [
    "<div>\n",
    "    <img src=\"./imagenes/view9.png\" height=500 width=500 />\n",
    "</div>"
   ]
  }
 ],
 "metadata": {
  "kernelspec": {
   "display_name": "Python 3",
   "language": "python",
   "name": "python3"
  },
  "language_info": {
   "codemirror_mode": {
    "name": "ipython",
    "version": 3
   },
   "file_extension": ".py",
   "mimetype": "text/x-python",
   "name": "python",
   "nbconvert_exporter": "python",
   "pygments_lexer": "ipython3",
   "version": "3.9.0"
  }
 },
 "nbformat": 4,
 "nbformat_minor": 4
}
