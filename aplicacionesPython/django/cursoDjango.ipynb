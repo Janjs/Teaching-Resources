{
 "cells": [
  {
   "cell_type": "markdown",
   "metadata": {},
   "source": [
    "# Django Web Framework\n",
    "\n",
    "Django es un marco de desarrollo web Python de alto nivel que fomenta el desarrollo rápido y un diseño limpio y pragmático. Creado por desarrolladores experimentados, se encarga de gran parte de la molestia del desarrollo web, por lo que puede concentrarse en escribir su aplicación sin necesidad de reinventar la rueda. Es gratis y de código abierto."
   ]
  },
  {
   "cell_type": "markdown",
   "metadata": {},
   "source": [
    "## Set-up\n",
    "\n",
    "https://www.codingforentrepreneurs.com/from-zero\n",
    "\n",
    "Usar google!!\n",
    "\n",
    "https://stackoverflow.com/ usar tags [django].\n",
    "\n",
    "### Espacio Virtual\n",
    "\n",
    "IMPORTANTE: Un entorno virtual es un entorno Python en el que el intérprete de Python, las bibliotecas y los scripts instalados en él están aislados de los instalados en otros entornos virtuales y (de forma predeterminada) cualquier biblioteca instalada en un \"sistema\" Python, es decir, uno que está instalado como parte de su sistema operativo.\n",
    "\n",
    "* Instalar Python\n",
    "* Instalar Pipenv\n",
    "* Crear espacio virtual con Pipenv: virtualenv -p python3 .\n",
    "    * Si no funciona, virtualenv venv (o cualquier otro nombre)\n",
    "* pip install django==2.1.5 / pip3 install django==2.1.5\n",
    "* acrivar espacio virtual:\n",
    "    * mac: source bin/activate\n",
    "    * windows: .\\Scripts\\activate\n",
    "* para desactivar: deactivate\n",
    "* Truco ver librerias instaladas con pip: pip freeze \n",
    "* Al hacer pip freeze deberias ver solo django y pytz"
   ]
  },
  {
   "cell_type": "markdown",
   "metadata": {},
   "source": [
    "-----\n",
    "## Crear un proyecto de Django en blanco\n",
    "\n",
    "* Activar el virtualenv creado anteriormente: source bin/activate\n",
    "* Crear proyecto django:\n",
    "    * Buena práctica, primero crear directorio src (donde irá el código): mkdir src\n",
    "    * django-admin startproject primerproyecto . (nombre proyecto opcional) (no olvidar el punto, hace que se creen los archivos en el propio directorio y no crea uno nuevo)\n",
    "* Ejecuta el proyecto: python manage.py runserver"
   ]
  },
  {
   "cell_type": "raw",
   "metadata": {},
   "source": [
    "January 26, 2021 - 14:00:47\n",
    "Django version 2.1.5, using settings 'primerproyecto.settings'\n",
    "Starting development server at http://127.0.0.1:8000/\n",
    "Quit the server with CONTROL-C."
   ]
  },
  {
   "cell_type": "markdown",
   "metadata": {},
   "source": [
    "* Abrir un navegador con la dirección del proyecto: http://127.0.0.1:8000/"
   ]
  },
  {
   "cell_type": "markdown",
   "metadata": {},
   "source": [
    "------\n",
    "## Elegir IDE"
   ]
  },
  {
   "cell_type": "markdown",
   "metadata": {},
   "source": [
    "Usaremos PyCharm, pero hay muchos más.\n",
    "\n",
    "Abrir proyecto que hemos creado, deberiamos ver:\n",
    "* bin, lib, src...\n",
    "* src: folder primerproyecto, db.sqlite3, manage.py\n",
    "* abrir manage.py\n",
    "* abrir Terminal (una de las pestañas de abajo) dentro de PyCharm, y ejecutar el proyecto desde ahí.\n",
    "* MUY RECOMENDABLE: Una terminal externa para hacer comandos, otra en PyCharm ejecutando el proyecto con runserver"
   ]
  },
  {
   "cell_type": "markdown",
   "metadata": {},
   "source": [
    "-------\n",
    "# settings.py\n",
    "\n",
    "Abrir settings.py:\n",
    "\n",
    "* import os -> sirve para que en cualquier sistema operativo se vea todo igual\n",
    "* BASE_DIR -> directorio donde estamos ubicados, src/primerproyecto/settings.py\n",
    "* añadir print(BASE_DIR) para verlo en la terminal\n",
    "* SECRET_KEY -> Cada proyecto Django tiene su propia clave, importante hacerla secreta en producción.\n",
    "* DEBUG = True -> Sirve cuando estas desarrollando/aprendiendo, = False cuando publiques la web.\n",
    "* ALLOWED_HOSTS = [] -> directorios donde se sube la web (no es importante ahora)\n",
    "* INSTALLED_APPS -> Crucial para Django! actualmente tenemos las de defecto. Aquí es donde pondras las apps (mas bien componentes) que crees, i.e. blog, productos, calculadora. Realmente son partes o piezas del proyecto entero.\n",
    "* MIDDLEWARE -> Para hacer peticiones y como esas peticiones se responden, seguridad, etc. (Se verá luego, más avanzado)\n",
    "* ROOT_URLCONF -> Importante, donde se enrutan las direcciones, por ejemplo http://127.0.0.1:8000/blog no tiene nada actualmente. Pero cuando creemos un blog o cualquier otra aplicación, Django las enrutea automaticamente.\n",
    "* TEMPLATES -> Django renderiza páginas web HTML (se verá después), aquí decimos dónde se guardan, cómo se renderizan, etc.\n",
    "* WSGI_APPLICATION -> Setting para el server, en ocasiones se cambia, otras no.\n",
    "* DATABASES -> Django mapea bases de datos. SQL, PostSQL, MySQL, etc. En este caso por defecto tiene una base de datos SQLite, que se puede ver en el directorio.\n",
    "* AUTH_PASSWORD_VALIDATORS -> Valida que las contraseñas sean correctas.\n",
    "* OTROS -> Internalización\n",
    "* STATIC_URL -> Donde guardas tus archivos estáticos: CSS, JS, imagenes, etc.\n",
    "\n",
    "Ultima cosa sobre settings.py, el warning de la terminal se refiere a que la base de datos no esta ejecutada, para ejecutarla:\n",
    "\n",
    "**python manage.py migrate**\n",
    "\n",
    "Solo se tiene que hacer una vez cuando cambies algunos ajustes, sincroniza los settings que tengamos con nuestro proyecto.\n",
    "\n",
    "Por ejemplo si cambiamos el nombre de la base de datos y hacemos migrate, se creará una nueva."
   ]
  },
  {
   "cell_type": "markdown",
   "metadata": {},
   "source": [
    "-----\n",
    "# Aplicaciones de Django\n",
    "\n",
    "Para Django aplicaciones son partes de nuestra web/proyecto, no son como apps de móvil. \n",
    "\n",
    "En settings.py, INSTALLED_APPS definimos nuestras aplicaciones.\n",
    "\n",
    "Por defecto tenemos por ejemplo:\n",
    "* admin:\n",
    "    * Si vamos a http://127.0.0.1:8000/admin\n",
    "    * ¿Cómo creamos un usuario? En la terminal: python manage.py createsuperuser. Este usuario sera el administrador/desarrollador.\n",
    "    * Después de entrar en /admin podemos crear más usuarios desde ahí.\n",
    "    \n",
    "## Nuestra primera app (componentes)\n",
    "\n",
    "Ejemplos:\n",
    "* python manage.py startapp productos \n",
    "* python manage.py startapp blog \n",
    "\n",
    "Se ha creado un directorio con nuestra app. Cada app tiene una funcionalidad. Tiene que ser pequeña, si se hace muy grande, dividir la app.\n",
    "\n",
    "### models.py\n",
    "\n",
    "Sirve para guardar datos, recordais las clases, objetos y herencia? Añadir una clase Producto que herencie modles.Model."
   ]
  },
  {
   "cell_type": "code",
   "execution_count": null,
   "metadata": {},
   "outputs": [],
   "source": [
    "from django.db import models\n",
    "\n",
    "class Producto(models.Model):\n",
    "    titulo      = models.TextField()\n",
    "    descripcion = models.TextField()\n",
    "    precio      = models.TextField()"
   ]
  },
  {
   "cell_type": "markdown",
   "metadata": {},
   "source": [
    "Añadir app en INSTALLED_APPS."
   ]
  },
  {
   "cell_type": "code",
   "execution_count": 3,
   "metadata": {},
   "outputs": [],
   "source": [
    "INSTALLED_APPS = [\n",
    "    'django.contrib.admin',\n",
    "    'django.contrib.auth',\n",
    "    'django.contrib.contenttypes',\n",
    "    'django.contrib.sessions',\n",
    "    'django.contrib.messages',\n",
    "    'django.contrib.staticfiles',\n",
    "    \n",
    "     # nuestras apps\n",
    "    'productos'\n",
    "]"
   ]
  },
  {
   "cell_type": "markdown",
   "metadata": {},
   "source": [
    "Como hemos hecho un cambio en la base de datos, tenemos que sincronizarla de nuevo: \n",
    "1. **python manage.py makemigrations** \n",
    "2. **python manage.py migrate**\n",
    "\n",
    "Ahora intenta añadir otro atributo:"
   ]
  },
  {
   "cell_type": "code",
   "execution_count": null,
   "metadata": {},
   "outputs": [],
   "source": [
    "from django.db import models\n",
    "\n",
    "class Producto(models.Model):\n",
    "    titulo      = models.TextField()\n",
    "    descripcion = models.TextField()\n",
    "    precio      = models.TextField()\n",
    "    resumen     = models.TextField()"
   ]
  },
  {
   "cell_type": "markdown",
   "metadata": {},
   "source": [
    "Al sincronizar de nuevo:\n",
    "1. **python manage.py makemigrations** \n",
    "\n",
    "Nos pregunta por un default. Añadir cualquiera y cambiarlo en el código:"
   ]
  },
  {
   "cell_type": "code",
   "execution_count": null,
   "metadata": {},
   "outputs": [],
   "source": [
    "from django.db import models\n",
    "\n",
    "class Producto(models.Model):\n",
    "    titulo      = models.TextField()\n",
    "    descripcion = models.TextField()\n",
    "    precio      = models.TextField()\n",
    "    resumen     = models.TextField(default='Producto fino.')"
   ]
  },
  {
   "cell_type": "markdown",
   "metadata": {},
   "source": [
    "1. **python manage.py makemigrations** \n",
    "2. **python manage.py migrate**\n",
    " - Add field resumen to producto\n",
    " \n",
    "Hecho!\n",
    "\n",
    "Ahora queremos ver el producto en admin.py\n",
    "\n",
    "### admin.py\n",
    "\n",
    "añadir: "
   ]
  },
  {
   "cell_type": "code",
   "execution_count": null,
   "metadata": {},
   "outputs": [],
   "source": [
    "from .models import Producto"
   ]
  },
  {
   "cell_type": "markdown",
   "metadata": {},
   "source": [
    "Esto es un importe relativo, podemos hacerlo porque esta en el mismo directorio."
   ]
  },
  {
   "cell_type": "code",
   "execution_count": null,
   "metadata": {},
   "outputs": [],
   "source": [
    "admin.site.register(Producto)"
   ]
  },
  {
   "cell_type": "markdown",
   "metadata": {},
   "source": [
    "Ir a http://127.0.0.1:8000/admin de nuevo, veremos los productos.\n",
    "\n",
    "Desde ahí podemos añadir un producto, /admin es nuestro *back-end*.\n",
    "\n",
    "**Esto es la base de los modelos en Django.**\n",
    "\n",
    "También podemos usar manage.py (en vez de /admin) para crear objetos de nuestra clase.\n",
    "\n",
    "1. python manage.py shell\n",
    "2. Añadir el siguiente código:"
   ]
  },
  {
   "cell_type": "code",
   "execution_count": null,
   "metadata": {},
   "outputs": [],
   "source": [
    ">>> from productos.models import Producto\n",
    ">>> Producto.objects.all()\n",
    "<QuerySet [<Producto: Producto object (1)>]> "
   ]
  },
  {
   "cell_type": "markdown",
   "metadata": {},
   "source": [
    ".objects.all() nos dice los objetos que hemos creado de esta clase/modelo."
   ]
  },
  {
   "cell_type": "code",
   "execution_count": null,
   "metadata": {},
   "outputs": [],
   "source": [
    ">>> Producto.objects.create(titulo='Nuevo producto 2', descripcion='otro', precio='2.12', resumen='otro')\n",
    "<Producto: Producto object (2)>"
   ]
  },
  {
   "cell_type": "markdown",
   "metadata": {},
   "source": [
    "Producto creado! ejecuta all() de nuevo o entra en /admin y aparecen ahí."
   ]
  },
  {
   "cell_type": "markdown",
   "metadata": {},
   "source": [
    "TextField() es como un String, podemos añadir nuevos tipos de campos en el modelo.\n",
    "\n",
    "### Nuevos campos en el modelo\n",
    "\n",
    "Primero borrar las migraciones en /productos/migrations/ que no sean el *__init__* y borrar la base de datos SQLite.\n",
    "\n",
    "Tipos de campos: https://docs.djangoproject.com/en/3.1/ref/models/fields/"
   ]
  },
  {
   "cell_type": "code",
   "execution_count": null,
   "metadata": {},
   "outputs": [],
   "source": [
    "from django.db import models\n",
    "\n",
    "class Producto(models.Model):\n",
    "    titulo      = models.CharField(max_length=120) # obligatorio añadir max_length\n",
    "    descripcion = models.TextField(blank=True, null=True)\n",
    "    precio      = models.DecimalField(decimal_places=2, max_digits=10000) # buscar en docs por un field de decimiles\n",
    "    resumen     = models.TextField()"
   ]
  },
  {
   "cell_type": "markdown",
   "metadata": {},
   "source": [
    "1. **python manage.py createsuperuser** (ya que hemos borrado la base de datos)\n",
    "2. **python manage.py migrate**\n",
    "\n",
    "Refresh el navegador, veremos como al añadir Producto el layout es diferente."
   ]
  },
  {
   "cell_type": "markdown",
   "metadata": {},
   "source": [
    "### Cambiar modelo sin borrar la BBDD\n",
    "\n",
    "Digamos que queremos añadir un nuevo atributo de tipo Boolean."
   ]
  },
  {
   "cell_type": "code",
   "execution_count": null,
   "metadata": {},
   "outputs": [],
   "source": [
    "destacado   = models.BooleanField()"
   ]
  },
  {
   "cell_type": "markdown",
   "metadata": {},
   "source": [
    "Pero ya existe un producte que no tiene ese atributo. ¿Qué hacemos? Dos opciones (o las dos a la vez):"
   ]
  },
  {
   "cell_type": "code",
   "execution_count": null,
   "metadata": {},
   "outputs": [],
   "source": [
    "destacado   = models.BooleanField(default=False)\n",
    "destacado   = models.BooleanField(null=True)"
   ]
  },
  {
   "cell_type": "markdown",
   "metadata": {},
   "source": [
    "Recordad: \n",
    "1. **python manage.py makemigrations** \n",
    "2. **python manage.py migrate**\n",
    "\n",
    "Todos estos cambios aparecen en /productos/migrations, donde 'initial' será el del principio."
   ]
  },
  {
   "cell_type": "markdown",
   "metadata": {},
   "source": [
    "------\n",
    "# Customizar página principal *(Segunda Hora)*\n",
    "\n",
    "Necesitamos crear una **view** basada en una clase.\n",
    "\n",
    "Primero creamos otra app llamada *paginas*"
   ]
  },
  {
   "cell_type": "code",
   "execution_count": null,
   "metadata": {},
   "outputs": [],
   "source": [
    "python manage.py startapp paginas "
   ]
  },
  {
   "cell_type": "markdown",
   "metadata": {},
   "source": [
    "## Views\n",
    "\n",
    "Donde manejas tus páginas web. Usando funciones o clases con Python. \n",
    "\n",
    "Creamos una función para la página principal y en el **return** devolvemos HTML."
   ]
  },
  {
   "cell_type": "code",
   "execution_count": null,
   "metadata": {},
   "outputs": [],
   "source": [
    "def home_view():\n",
    "    return \"<h1> Hello World </h1>\""
   ]
  },
  {
   "cell_type": "markdown",
   "metadata": {},
   "source": [
    "Para que Django nos entienda lo tenemos que envolver en una funcion de Django llamada **HttpResponse**"
   ]
  },
  {
   "cell_type": "code",
   "execution_count": null,
   "metadata": {},
   "outputs": [],
   "source": [
    "from django.http import HttpResponse\n",
    "\n",
    "def home_view(*args, **kwargs):\n",
    "    return HttpResponse(\"<h1> Hello World </h1>\") # string de código HTML"
   ]
  },
  {
   "cell_type": "markdown",
   "metadata": {},
   "source": [
    "¿Cómo hacemos para que aparezca el código en una URL de nuestro sitio web? urls.py\n",
    "\n",
    "### primerproyecto/urls.py"
   ]
  },
  {
   "cell_type": "code",
   "execution_count": null,
   "metadata": {},
   "outputs": [],
   "source": [
    "from paginas.views import home_view\n",
    "\n",
    "urlpatterns = [\n",
    "    path('', home_view, name='home'),\n",
    "    path('admin/', admin.site.urls),\n",
    "]"
   ]
  },
  {
   "cell_type": "markdown",
   "metadata": {},
   "source": [
    "<div>\n",
    "<img src=\"cursoImagenes/views1.png\" width=\"100\"/>\n",
    "</div>"
   ]
  },
  {
   "cell_type": "code",
   "execution_count": null,
   "metadata": {},
   "outputs": [],
   "source": [
    "path('contact/', home_view, name='home')"
   ]
  },
  {
   "cell_type": "markdown",
   "metadata": {},
   "source": [
    "También funcionará, pero mejor añadir otro view para el contacto:"
   ]
  },
  {
   "cell_type": "code",
   "execution_count": null,
   "metadata": {},
   "outputs": [],
   "source": [
    "from django.http import HttpResponse\n",
    "\n",
    "def home_view(*args, **kwargs):\n",
    "    return HttpResponse(\"<h1> Hello World </h1>\") # string de código HTM\n",
    "\n",
    "def contact_view(*args, **kwargs):\n",
    "    return HttpResponse(\"<h1> Contacto </h1>\") # string de código HTML"
   ]
  },
  {
   "cell_type": "code",
   "execution_count": null,
   "metadata": {},
   "outputs": [],
   "source": [
    "from paginas.views import home_view, contact_view\n",
    "\n",
    "urlpatterns = [\n",
    "    path('', home_view, name='home'),\n",
    "    path('contact/', contact_view, name='contact'),\n",
    "    path('admin/', admin.site.urls),\n",
    "]"
   ]
  },
  {
   "cell_type": "markdown",
   "metadata": {},
   "source": [
    "Si vamos a http://127.0.0.1:8000/contact/ nos aparecerá.\n",
    "\n",
    "Al entrar en la URL, estamos haciendo una petición, Django recoje la petición y mira en urls.py para responder a la petición.\n",
    "\n",
    "Si miramos en la terminal veremos algo así:\n",
    "[27/Jan/2021 14:39:49] \"GET /contact/ HTTP/1.1\" 200 19\n",
    "\n",
    "Si añadimos print del request lo podremos ver con mas detalle:"
   ]
  },
  {
   "cell_type": "code",
   "execution_count": null,
   "metadata": {},
   "outputs": [],
   "source": [
    "def home_view(request, *args, **kwargs):\n",
    "    print(request, args, kwargs)\n",
    "    return HttpResponse(\"<h1> Hello World </h1>\") # string de código HTM"
   ]
  },
  {
   "cell_type": "markdown",
   "metadata": {},
   "source": [
    "En la terminal:\n",
    "    \n",
    "<WSGIRequest: GET '/'> () {}\n",
    "\n",
    "Si añadimos request.user veremos el usuario que hace la petición."
   ]
  },
  {
   "cell_type": "code",
   "execution_count": null,
   "metadata": {},
   "outputs": [],
   "source": [
    "def home_view(request, *args, **kwargs):\n",
    "    print(request.user, args, kwargs)\n",
    "    return HttpResponse(\"<h1> Hello World </h1>\") # string de código HTM"
   ]
  },
  {
   "cell_type": "markdown",
   "metadata": {},
   "source": [
    "jan () {}\n",
    "\n",
    "Si abrimos la misma página en incognito vemos:\n",
    "\n",
    "AnonymousUser () {}\n",
    "\n",
    "Ya que en icognito no estamos logeados."
   ]
  },
  {
   "cell_type": "markdown",
   "metadata": {},
   "source": [
    "Obviamente este HTML es demasiado simple, si hacemos inspect en chrome veremos que solo hay HTML en el body, nada en el head.\n",
    "\n",
    "Podemos usar el motor de plantilla de Django para override el HttpResponse simple que tenemos ahora.\n",
    "\n",
    "----\n",
    "# Plantillas de Django \n",
    "\n",
    "En vez de usar Strings en el HttpResponse usamos django render."
   ]
  },
  {
   "cell_type": "code",
   "execution_count": null,
   "metadata": {},
   "outputs": [],
   "source": [
    "def home_view(request, *args, **kwargs):\n",
    "    print(request.user, args, kwargs)\n",
    "    # return HttpResponse(\"<h1> Hello World </h1>\") # string de código HTM\n",
    "    return render(request, \"home.html\", {})"
   ]
  },
  {
   "cell_type": "markdown",
   "metadata": {},
   "source": [
    "Como podemos ver, nos aparece un error, creamos una carpeta para los templates.\n",
    "\n",
    "Aquí iran todos nuestros template, por ejemplo creamos **home.html** y añadimos el código que teniamos antes en HttpRequest."
   ]
  },
  {
   "cell_type": "code",
   "execution_count": null,
   "metadata": {},
   "outputs": [],
   "source": [
    "<h1> Hello World </h1>\n",
    "\n",
    "<p> Esto es un template </p>"
   ]
  },
  {
   "cell_type": "markdown",
   "metadata": {},
   "source": [
    "Aún queda un paso, en settings.py, TEMPLATES, añadimos nuestro directorio. Puede ser un path absoluto:"
   ]
  },
  {
   "cell_type": "code",
   "execution_count": null,
   "metadata": {},
   "outputs": [],
   "source": [
    "'DIRS': ['/Users/janjimenezserra/Desktop/Teaching/aplicacionesPython/django/src/templates'],"
   ]
  },
  {
   "cell_type": "markdown",
   "metadata": {},
   "source": [
    "<div>\n",
    "<img src=\"cursoImagenes/views2.png\" width=\"100\"/>\n",
    "</div>"
   ]
  },
  {
   "cell_type": "markdown",
   "metadata": {},
   "source": [
    "Pero mejor usar el directorio base:"
   ]
  },
  {
   "cell_type": "code",
   "execution_count": null,
   "metadata": {},
   "outputs": [],
   "source": [
    "'DIRS': [os.path.join(BASE_DIR, \"templates\")],"
   ]
  },
  {
   "cell_type": "markdown",
   "metadata": {},
   "source": [
    "Hacer lo mismo para las otras páginas.\n",
    "\n",
    "Django hace el proceso de renderizar los templates para que el navegador pueda leer directamente el HTML. Date cuenta que ya no necesitamos el .html en la URL como se hacia antiguamente."
   ]
  },
  {
   "cell_type": "markdown",
   "metadata": {},
   "source": [
    "## Conceptos básicos de templates"
   ]
  },
  {
   "cell_type": "code",
   "execution_count": null,
   "metadata": {},
   "outputs": [],
   "source": [
    "<h1> Hello World </h1>\n",
    "{{ request.user }} \n",
    "<p> Esto es un template </p>"
   ]
  },
  {
   "cell_type": "markdown",
   "metadata": {},
   "source": [
    "Entre braquets podemos añadir datos, como el nombre del usuario. En el navegador nos aperecerá el usuario logeado y en icognito el usuario anónimo.\n",
    "\n",
    "Otro ejemplo:"
   ]
  },
  {
   "cell_type": "code",
   "execution_count": null,
   "metadata": {},
   "outputs": [],
   "source": [
    "<h1> Hello World </h1>\n",
    "{{ request.user }}\n",
    "{{ request.user.is_authenticated }}\n",
    "<p> Esto es un template </p>"
   ]
  },
  {
   "cell_type": "markdown",
   "metadata": {},
   "source": [
    "¿Qué pasa si queremos añadir metadata, o css, o un barra para navegar? **Herencias** \n",
    "\n",
    "Primero crear un archivo en templates llamado **base.html**:"
   ]
  },
  {
   "cell_type": "code",
   "execution_count": null,
   "metadata": {},
   "outputs": [],
   "source": [
    "<!doctype html>\n",
    "<html>\n",
    "<head>\n",
    "    <title>\n",
    "        Curso Mataró introducción a Django\n",
    "    </title>\n",
    "</head>\n",
    "<body>\n",
    "\n",
    "</body>\n",
    "</html>"
   ]
  },
  {
   "cell_type": "markdown",
   "metadata": {},
   "source": [
    "Dentro del body añadimos:"
   ]
  },
  {
   "cell_type": "code",
   "execution_count": null,
   "metadata": {},
   "outputs": [],
   "source": [
    "<body>\n",
    "    {% block content %}\n",
    "    modificarme\n",
    "    {% endblock %}\n",
    "</body>"
   ]
  },
  {
   "cell_type": "markdown",
   "metadata": {},
   "source": [
    "En los demás templates añadirmos el bloque de contenido, dentro modificamos con lo que tenga que aparecer en la página. También añadir **extends** para decir que esta página hereda a otra."
   ]
  },
  {
   "cell_type": "code",
   "execution_count": null,
   "metadata": {},
   "outputs": [],
   "source": [
    "{% extends 'base.html' %}\n",
    "{% block content %}\n",
    "    <h1> Hello World </h1>\n",
    "\n",
    "    <p> Esto es un template </p>\n",
    "{% endblock %}"
   ]
  },
  {
   "cell_type": "markdown",
   "metadata": {},
   "source": [
    "<div>\n",
    "<img src=\"cursoImagenes/views3.png\" width=\"100\"/>\n",
    "</div>"
   ]
  },
  {
   "cell_type": "markdown",
   "metadata": {},
   "source": [
    "Fijaos como el título de la página es el que hemos puesto en base.html.\n",
    "\n",
    "Hacer lo mismo para el resto. content es solo una variable que he creado, la podemos llamar como queramos."
   ]
  },
  {
   "cell_type": "markdown",
   "metadata": {},
   "source": [
    "Para añadir una barra de navegación simple en base.html:"
   ]
  },
  {
   "cell_type": "code",
   "execution_count": null,
   "metadata": {},
   "outputs": [],
   "source": [
    "<!doctype html>\n",
    "<html>\n",
    "<head>\n",
    "    <title>\n",
    "        Curso Mataró introducción a Django\n",
    "    </title>\n",
    "</head>\n",
    "<body>\n",
    "    <h1> Esto es una barra de navegación </h1>\n",
    "    {% block content %}\n",
    "    modificarme\n",
    "    {% endblock %}\n",
    "</body>\n",
    "</html>"
   ]
  },
  {
   "cell_type": "markdown",
   "metadata": {},
   "source": [
    "Esta aparecerá en todas las páginas.\n",
    "\n",
    "Nos ayuda a no repetir código."
   ]
  },
  {
   "cell_type": "markdown",
   "metadata": {},
   "source": [
    "### Include\n",
    "\n",
    "Podemos separar la barra de navegación en otro archivo. **navbar.html**"
   ]
  },
  {
   "cell_type": "code",
   "execution_count": null,
   "metadata": {},
   "outputs": [],
   "source": [
    "<nav>\n",
    "    <ul>\n",
    "        <li>Home</li>\n",
    "        <li>Contacto</li>\n",
    "        <li>Sobre</li>\n",
    "    </ul>\n",
    "</nav>"
   ]
  },
  {
   "cell_type": "markdown",
   "metadata": {},
   "source": [
    "En base.html podemos añadir este archivo:"
   ]
  },
  {
   "cell_type": "code",
   "execution_count": null,
   "metadata": {},
   "outputs": [],
   "source": [
    "<!doctype html>\n",
    "<html>\n",
    "<head>\n",
    "    <title>\n",
    "        Curso Mataró introducción a Django\n",
    "    </title>\n",
    "</head>\n",
    "<body>\n",
    "    {% include 'navbar.html' %}\n",
    "    {% block content %}\n",
    "        modificarme\n",
    "    {% endblock %}\n",
    "</body>\n",
    "</html>"
   ]
  },
  {
   "cell_type": "markdown",
   "metadata": {},
   "source": [
    "-----\n",
    "## Renderizar contexto en nuestras plantillas\n",
    "\n",
    "El objetivo de las plantillas en Django es poder ver datos de nuestro back-end, de nuestra base de datos -> **context**.\n",
    "\n",
    "Si recordamos en views.py, el return render(request, \"home.html\", {})\n",
    "Dejamos {} sin nada. Esto es el context.\n",
    "\n",
    "Django recoje el template y el contexto, los junta, y tenemos nuestra página web de HTML normal.\n",
    "\n",
    "Por ejemplo en **about_view** haremos un diccionario."
   ]
  },
  {
   "cell_type": "code",
   "execution_count": null,
   "metadata": {},
   "outputs": [],
   "source": [
    "def about_view(request, *args, **kwargs):\n",
    "    mi_context = {\n",
    "        \"mi_texto\": \"Esto es sobre nosotros\",\n",
    "        \"mi_numero\": 123\n",
    "    }\n",
    "    return render(request, \"about.html\", mi_context)"
   ]
  },
  {
   "cell_type": "markdown",
   "metadata": {},
   "source": [
    "En about.html"
   ]
  },
  {
   "cell_type": "code",
   "execution_count": null,
   "metadata": {},
   "outputs": [],
   "source": [
    "{% extends 'base.html' %}\n",
    "{% block content %}\n",
    "<h1> Sobre </h1>\n",
    "<p>\n",
    "    {{ mi_texto }}\n",
    "</p>\n",
    "{% endblock %}"
   ]
  },
  {
   "cell_type": "markdown",
   "metadata": {},
   "source": [
    "Lo mismo con el número."
   ]
  },
  {
   "cell_type": "markdown",
   "metadata": {},
   "source": [
    "Si intentamos añadir una lista, vemos que se ve como un String. Si lo queremos ver como HTML lists, necesitamos un For Loop.\n",
    "\n",
    "### For Loop in a Template"
   ]
  },
  {
   "cell_type": "code",
   "execution_count": null,
   "metadata": {},
   "outputs": [],
   "source": [
    "{% extends 'base.html' %}\n",
    "{% block content %}\n",
    "<h1> Sobre </h1>\n",
    "<p>\n",
    "    {{ mi_texto }}, {{ mi_numero }}\n",
    "</p>\n",
    "<ul>\n",
    "    {% for mi_item in mi_lista %}\n",
    "        <li>{{ mi_item }}</li>\n",
    "    {% endfor %}\n",
    "</ul>\n",
    "{% endblock %}"
   ]
  },
  {
   "cell_type": "markdown",
   "metadata": {},
   "source": [
    "Para añadir el índice:"
   ]
  },
  {
   "cell_type": "code",
   "execution_count": null,
   "metadata": {},
   "outputs": [],
   "source": [
    "<ul>\n",
    "    {% for mi_item in mi_lista %}\n",
    "        <li>{{ forloop.counter }} - {{ mi_item }}</li>\n",
    "    {% endfor %}\n",
    "</ul>"
   ]
  },
  {
   "cell_type": "markdown",
   "metadata": {},
   "source": [
    "<div>\n",
    "<img src=\"cursoImagenes/views4.png\" width=\"200\"/>\n",
    "</div>"
   ]
  },
  {
   "cell_type": "markdown",
   "metadata": {},
   "source": [
    "Esto sigue siendo hard-coded, necesitamos otras habilidades para llegar a mostrar datos de la BBDD.\n",
    "\n",
    "### If/Else en templates\n",
    "\n",
    "Normalmente dejar toda la lógica en el view.\n",
    "\n",
    "Siempre ir con cuidado con el nombre de las variables. Si añadimos a mi_lista 'mi_texto' al hacer el if dentro del forloop que pasa?"
   ]
  },
  {
   "cell_type": "code",
   "execution_count": null,
   "metadata": {},
   "outputs": [],
   "source": [
    "mi_contexto = {\n",
    "    \"mi_texto\": \"Esto es sobre nosotros\",\n",
    "    \"mi_numero\": 123,\n",
    "    \"mi_lista\": [123, 456, 789, 'mi_texto']\n",
    "}"
   ]
  },
  {
   "cell_type": "markdown",
   "metadata": {},
   "source": [
    "Para if/else, podemos añadir un boolean en el contexto:"
   ]
  },
  {
   "cell_type": "code",
   "execution_count": null,
   "metadata": {},
   "outputs": [],
   "source": [
    "mi_contexto = {\n",
    "    \"mi_texto\": \"Esto es sobre nosotros\",\n",
    "    \"mi_numero\": 123,\n",
    "    \"mi_lista\": [123, 456, 789, 'abc'],\n",
    "    \"es_verdad\": True\n",
    "}"
   ]
  },
  {
   "cell_type": "markdown",
   "metadata": {},
   "source": [
    "En about.html"
   ]
  },
  {
   "cell_type": "code",
   "execution_count": null,
   "metadata": {},
   "outputs": [],
   "source": [
    "{% extends 'base.html' %}\n",
    "{% block content %}\n",
    "<h1> Sobre </h1>\n",
    "<p>\n",
    "    {{ mi_texto }}, {{ mi_numero }}\n",
    "</p>\n",
    "<ul>\n",
    "    {% for mi_item in mi_lista %}\n",
    "        {% if mi_item == 789 %}\n",
    "            <li>{{ forloop.counter }} - {{ mi_item|add:11 }}</li>\n",
    "        {% else %}\n",
    "            <li>{{ forloop.counter }} - {{ mi_item }}</li>\n",
    "        {% endif %}\n",
    "    {% endfor %}\n",
    "</ul>\n",
    "{% endblock %}"
   ]
  },
  {
   "cell_type": "markdown",
   "metadata": {},
   "source": [
    "Esto añadirá 11 a 789 = 800.\n",
    "\n",
    "Para else if se hace con {% elif mi_item == 789 %}\n",
    "\n",
    "Cada variable en el contexto es un template **tag**. Por eso podemos añadir  {{ mi_item|add:11 }}\n",
    "\n",
    "### Template Tags\n",
    "\n",
    "Built-in django template tags.\n",
    "\n",
    "https://docs.djangoproject.com/en/3.1/ref/templates/builtins/\n",
    "\n",
    "Aquí encontraremos extends, include, etc.\n",
    "\n",
    "| se refiere al filtro https://docs.djangoproject.com/en/3.1/ref/templates/builtins/#filter\n",
    "\n",
    "Por ejemplo:"
   ]
  },
  {
   "cell_type": "code",
   "execution_count": null,
   "metadata": {},
   "outputs": [],
   "source": [
    " mi_contexto = {\n",
    "        \"titulo\": \"sobre nosotros\",\n",
    "        \"mi_texto\": \"Esto es sobre nosotros\",\n",
    "        \"mi_numero\": 123,\n",
    "        \"mi_lista\": [123, 456, 789, 'abc'],\n",
    "        \"es_verdad\": True\n",
    "    }"
   ]
  },
  {
   "cell_type": "code",
   "execution_count": null,
   "metadata": {},
   "outputs": [],
   "source": [
    "<h1> {{ titulo|capfirst }} </h1>"
   ]
  },
  {
   "cell_type": "markdown",
   "metadata": {},
   "source": [
    "Nos asegura que la primera letra esta capitalizada."
   ]
  },
  {
   "cell_type": "markdown",
   "metadata": {},
   "source": [
    "también se puede stackear:"
   ]
  },
  {
   "cell_type": "code",
   "execution_count": null,
   "metadata": {},
   "outputs": [],
   "source": [
    "<h1> {{ titulo|capfirst|upper }} </h1>"
   ]
  },
  {
   "cell_type": "markdown",
   "metadata": {},
   "source": [
    "<div>\n",
    "<img src=\"cursoImagenes/views5.png\" width=\"200\"/>\n",
    "</div>"
   ]
  },
  {
   "cell_type": "markdown",
   "metadata": {},
   "source": [
    "Ahora estamos preparados para renderizar datos de nuestra BBDD\n",
    "\n",
    "### Renderizar datos de los modelos "
   ]
  },
  {
   "cell_type": "markdown",
   "metadata": {},
   "source": [
    "Volvemos a la consola:"
   ]
  },
  {
   "cell_type": "code",
   "execution_count": null,
   "metadata": {},
   "outputs": [],
   "source": [
    "python manage.py shell\n",
    ">>>from productos.models import Producto\n",
    ">>>Producto.objects.get(id=1)\n",
    "<Producto: Producto object (1)>"
   ]
  },
  {
   "cell_type": "markdown",
   "metadata": {},
   "source": [
    "Nos devuelve el producto con id 1\n",
    "\n",
    "para ver todos los comandos:"
   ]
  },
  {
   "cell_type": "code",
   "execution_count": null,
   "metadata": {},
   "outputs": [],
   "source": [
    ">>> obj = Producto.objects.get(id=1)\n",
    ">>> dir(obj)"
   ]
  },
  {
   "cell_type": "markdown",
   "metadata": {},
   "source": [
    "Para ver nuestros atributos de los modelos "
   ]
  },
  {
   "cell_type": "code",
   "execution_count": null,
   "metadata": {},
   "outputs": [],
   "source": [
    "AttributeError: 'Producto' object has no attribute 'title'\n",
    ">>> obj.titulo\n",
    "'Producto Nuevo'"
   ]
  },
  {
   "cell_type": "markdown",
   "metadata": {},
   "source": [
    "¿Cómo hacemos esto en nuestro código? Vamos a productos/views.py\n",
    "\n",
    "La funcion para renderizar el detalle de un producto:"
   ]
  },
  {
   "cell_type": "code",
   "execution_count": null,
   "metadata": {},
   "outputs": [],
   "source": [
    "from django.shortcuts import render\n",
    "from .models import Producto\n",
    "\n",
    "def producto_detalle_view(request):\n",
    "    obj = Producto.objects.get(id=1)\n",
    "    contexto = {\n",
    "        'titulo': obj.titulo,\n",
    "        'descripcion': obj.descripcion\n",
    "    }\n",
    "    return render(request, \"product/detalle.html\", contexto)"
   ]
  },
  {
   "cell_type": "markdown",
   "metadata": {},
   "source": [
    "El id aparece en /admin en la URL cuando clickeas en uno de los productos, pero nosotros no hemos puesto ninguna ID en los atributos? Django automaticamente le pone una ID. Se puede ver en los archivos de migrations."
   ]
  },
  {
   "cell_type": "markdown",
   "metadata": {},
   "source": [
    "Creamos un nuevo template, dentro de un nuevo folder: templates/producto/detalle.html"
   ]
  },
  {
   "cell_type": "code",
   "execution_count": null,
   "metadata": {},
   "outputs": [],
   "source": [
    "{% extends 'base.html' %}\n",
    "{% block content %}\n",
    "<h1>Item</h1>\n",
    "{% endblock %}"
   ]
  },
  {
   "cell_type": "markdown",
   "metadata": {},
   "source": [
    "Recordad de añadir la URL en primerproyecto/urls.py"
   ]
  },
  {
   "cell_type": "code",
   "execution_count": null,
   "metadata": {},
   "outputs": [],
   "source": [
    "from django.contrib import admin\n",
    "from django.urls import path\n",
    "from paginas.views import home_view, contact_view, about_view\n",
    "from productos.views import producto_detalle_view\n",
    "\n",
    "urlpatterns = [\n",
    "    path('', home_view, name='home'),\n",
    "    path('contact/', contact_view, name='contact'),\n",
    "    path('about/', about_view, name='about'),\n",
    "    path('admin/', admin.site.urls),\n",
    "    path('product/', producto_detalle_view),\n",
    "]"
   ]
  },
  {
   "cell_type": "markdown",
   "metadata": {},
   "source": [
    "Confirmar que en el navegador aparece. Ahora añadimos el objeto que pasamos por el contexto en el template."
   ]
  },
  {
   "cell_type": "code",
   "execution_count": null,
   "metadata": {},
   "outputs": [],
   "source": [
    "{% extends 'base.html' %}\n",
    "{% block content %}\n",
    "<h1>{{ titulo }}</h1>\n",
    "<p>{{ descripcion }}</p>\n",
    "{% endblock %}"
   ]
  },
  {
   "cell_type": "markdown",
   "metadata": {},
   "source": [
    "<div>\n",
    "<img src=\"cursoImagenes/views6.png\" width=\"200\"/>\n",
    "</div>"
   ]
  },
  {
   "cell_type": "markdown",
   "metadata": {},
   "source": [
    "En productos/views.py hay codigo ineficiente!! podemos enviar el objeto directamente como contexto."
   ]
  },
  {
   "cell_type": "code",
   "execution_count": null,
   "metadata": {},
   "outputs": [],
   "source": [
    "def producto_detalle_view(request):\n",
    "    obj = Producto.objects.get(id=1)\n",
    "    contexto = {\n",
    "        'producto': obj\n",
    "    }\n",
    "    return render(request, \"producto/detalle.html\", contexto)\n"
   ]
  },
  {
   "cell_type": "code",
   "execution_count": null,
   "metadata": {},
   "outputs": [],
   "source": [
    "{% extends 'base.html' %}\n",
    "{% block content %}\n",
    "<h1>{{ producto.obtitulo }}</h1>\n",
    "<p>{{ producto.descripcion }}</p>\n",
    "{% endblock %}"
   ]
  },
  {
   "cell_type": "markdown",
   "metadata": {},
   "source": [
    "Mejor! "
   ]
  },
  {
   "cell_type": "markdown",
   "metadata": {},
   "source": [
    "Otra manera de renderizar templates es creando dentro de cada app sus propios templates, por ejemplo: productos/templates/producto/producto_detalle.html\n",
    "\n",
    "Copiar pegar del detalle.html anterior y añadir algo de código para diferenciarlos."
   ]
  },
  {
   "cell_type": "code",
   "execution_count": null,
   "metadata": {},
   "outputs": [],
   "source": [
    "{% extends 'base.html' %}\n",
    "{% block content %}\n",
    "<h1>In App template: {{ producto.titulo }}</h1>\n",
    "<p>{{ producto.descripcion }}</p>\n",
    "{% endblock %}"
   ]
  },
  {
   "cell_type": "markdown",
   "metadata": {},
   "source": [
    "cambiar también en productos/views.py para que no salga un error."
   ]
  },
  {
   "cell_type": "code",
   "execution_count": null,
   "metadata": {},
   "outputs": [],
   "source": [
    "def producto_detalle_view(request):\n",
    "    obj = Producto.objects.get(id=1)\n",
    "    contexto = {\n",
    "        'producto': obj\n",
    "    }\n",
    "    return render(request, \"producto/producto_detalle.html\", contexto)\n"
   ]
  },
  {
   "cell_type": "markdown",
   "metadata": {},
   "source": [
    "Ya podemos borrar el folder en templates, mejor dejar cada template en cada app por si trabajamos en equipos."
   ]
  },
  {
   "cell_type": "markdown",
   "metadata": {},
   "source": [
    "----\n",
    "# Formulario de modelos en Django *(Tercera Hora)*\n",
    "\n",
    "Queremos permitir al usuario guardar datos en la BBDD sin usar admin.py o la terminal, por eso usamos Django Model Forms.\n",
    "\n",
    "Primero crear **forms.py** en productos/"
   ]
  },
  {
   "cell_type": "code",
   "execution_count": null,
   "metadata": {},
   "outputs": [],
   "source": [
    "from django import forms\n",
    "from .models import Producto\n",
    "\n",
    "class ProductoForm(forms.ModelForm):\n",
    "    class Meta:\n",
    "        model = Producto\n",
    "        fields = [\n",
    "            'titulo',\n",
    "            'descripcion',\n",
    "            'precio'\n",
    "        ]"
   ]
  },
  {
   "cell_type": "markdown",
   "metadata": {},
   "source": [
    "Cuando tenemos el formulario hecho, lo tenemos que renderizar en views.py"
   ]
  },
  {
   "cell_type": "code",
   "execution_count": null,
   "metadata": {},
   "outputs": [],
   "source": [
    "from django.shortcuts import render\n",
    "from .models import Producto\n",
    "from .forms import ProductoForm\n",
    "\n",
    "def producto_detalle_view(request):\n",
    "    obj = Producto.objects.get(id=1)\n",
    "    contexto = {\n",
    "        'producto': obj\n",
    "    }\n",
    "    return render(request, \"producto/producto_detalle.html\", contexto)\n",
    "\n",
    "def producto_create_view(request):\n",
    "    form = ProductoForm(request.POST or None)\n",
    "    if form.is_valid():\n",
    "        form.save()\n",
    "\n",
    "    contexto = {\n",
    "        'form': form\n",
    "    }\n",
    "    return render(request, \"producto/producto_crear.html\", contexto)"
   ]
  },
  {
   "cell_type": "markdown",
   "metadata": {},
   "source": [
    "No os preocupeis si no entendeis parte del código ahora, iremos en más detalla luego.\n",
    "\n",
    "Falta crear el template."
   ]
  },
  {
   "cell_type": "code",
   "execution_count": null,
   "metadata": {},
   "outputs": [],
   "source": [
    "{% extends 'base.html' %}\n",
    "{% block content %}\n",
    "<form method=\"POST\"> {% csrf_token %}\n",
    "    {{ form.as_p }}\n",
    "    <input type=\"submit\" value=\"Save\">\n",
    "</form>\n",
    "{% endblock %}"
   ]
  },
  {
   "cell_type": "markdown",
   "metadata": {},
   "source": [
    "Y crear la URL."
   ]
  },
  {
   "cell_type": "code",
   "execution_count": null,
   "metadata": {},
   "outputs": [],
   "source": [
    "from productos.views import producto_detalle_view, producto_create_view\n",
    "\n",
    "urlpatterns = [\n",
    "    path('', home_view, name='home'),\n",
    "    path('contact/', contact_view, name='contact'),\n",
    "    path('about/', about_view, name='about'),\n",
    "    path('admin/', admin.site.urls),\n",
    "    path('product/', producto_detalle_view),\n",
    "    path('create/', producto_create_view),\n",
    "]\n"
   ]
  },
  {
   "cell_type": "markdown",
   "metadata": {},
   "source": [
    "<div>\n",
    "<img src=\"cursoImagenes/views7.png\" width=\"400\"/>\n",
    "</div>"
   ]
  },
  {
   "cell_type": "markdown",
   "metadata": {},
   "source": [
    "Puede que aparezca un error de NULL, mirar en el modelo si tenemos un Field requerido que no lo hemos puesto."
   ]
  },
  {
   "cell_type": "markdown",
   "metadata": {},
   "source": [
    "-----\n",
    "## Raw HTML Form\n",
    "\n",
    "Aunque no lo parezca, la manera en la que hemos hecho el formulario es la mas simple que nos ofrece Django (los inputs aparecen automaticamente gracias a Django). Para entenderlo, lo haremos diferente empezando por el HTML.\n",
    "\n",
    "Cambiamos a un HTML más entendible."
   ]
  },
  {
   "cell_type": "code",
   "execution_count": null,
   "metadata": {},
   "outputs": [],
   "source": [
    "{% extends 'base.html' %}\n",
    "{% block content %}\n",
    "<form method=\"POST\"> \n",
    "    <input type=\"text\" name=\"titulo\">\n",
    "    <input type=\"submit\" value=\"Save\">\n",
    "</form>\n",
    "{% endblock %}"
   ]
  },
  {
   "cell_type": "markdown",
   "metadata": {},
   "source": [
    "Y cambiamos el view a uno más simple:"
   ]
  },
  {
   "cell_type": "code",
   "execution_count": null,
   "metadata": {},
   "outputs": [],
   "source": [
    "def producto_create_view(request):\n",
    "    contexto = {}\n",
    "    return render(request, \"producto/producto_crear.html\", contexto)"
   ]
  },
  {
   "cell_type": "markdown",
   "metadata": {},
   "source": [
    "Nos aparece un error (FORBIDDEN) cuando añadimos un título y guardamos, si cambiamos el metodo del HTML a GET, vemos como el título aparece en la URL. Esto es similar a cuando haces una búsqueda en google. Si añadimos:"
   ]
  },
  {
   "cell_type": "code",
   "execution_count": null,
   "metadata": {},
   "outputs": [],
   "source": [
    "<form method=\"GET\" action=\"/search\">"
   ]
  },
  {
   "cell_type": "markdown",
   "metadata": {},
   "source": [
    "Vemos como nos cambia la URL a search/?titulo=x. Action nos permite enviarlo a una nueva URL. Por ejemplo si usamos google:"
   ]
  },
  {
   "cell_type": "code",
   "execution_count": null,
   "metadata": {},
   "outputs": [],
   "source": [
    "{% extends 'base.html' %}\n",
    "{% block content %}\n",
    "<form method=\"GET\" action=\"http://www.google.com/search\">\n",
    "    <input type=\"text\" name=\"q\" placeholder=\"Your search\">\n",
    "    <input type=\"submit\" value=\"Save\">\n",
    "</form>\n",
    "{% endblock %}"
   ]
  },
  {
   "cell_type": "markdown",
   "metadata": {},
   "source": [
    "Veremos como la búsqueda nos envia a google.\n",
    "\n",
    "Volvemos al HTML de antes pero añadimos csrf_token. (token de seguridad)"
   ]
  },
  {
   "cell_type": "code",
   "execution_count": null,
   "metadata": {},
   "outputs": [],
   "source": [
    "{% extends 'base.html' %}\n",
    "{% block content %}\n",
    "<form method=\"POST\" action=\".\">{% csrf_token %}\n",
    "    <input type=\"text\" name=\"titulo\" placeholder=\"Tu título\">\n",
    "    <input type=\"submit\" value=\"Save\">\n",
    "</form>\n",
    "{% endblock %}"
   ]
  },
  {
   "cell_type": "markdown",
   "metadata": {},
   "source": [
    "Ahora parece que los datos se estan enviando.\n",
    "\n",
    "¿Qué es GET/POST?\n",
    "\n",
    "GET - Cuando vamos a cualquier URL, estamos pidiendo información del servidor de la web.\n",
    "\n",
    "POST - Si queremos guardar datos o enviarlos al servidor, usamos POST.\n",
    "\n",
    "Si en el view añadimos:"
   ]
  },
  {
   "cell_type": "code",
   "execution_count": null,
   "metadata": {},
   "outputs": [],
   "source": [
    "def producto_create_view(request):\n",
    "    print(request.GET)\n",
    "    print(request.POST)\n",
    "    contexto = {}\n",
    "    return render(request, \"producto/producto_crear.html\", contexto)"
   ]
  },
  {
   "cell_type": "markdown",
   "metadata": {},
   "source": [
    "Veremos en la terminal la petición.\n",
    "\n",
    "Nunca enviar información con GET, ya que se podria modificar datos simplemente desde la URL.\n",
    "\n",
    "Podemos ver solo el título de esta manera:"
   ]
  },
  {
   "cell_type": "code",
   "execution_count": null,
   "metadata": {},
   "outputs": [],
   "source": [
    "def producto_create_view(request):\n",
    "    mi_nuevo_titulo = request.POST.get('titulo')\n",
    "    print(mi_nuevo_titulo)\n",
    "    contexto = {}\n",
    "    return render(request, \"producto/producto_crear.html\", contexto)"
   ]
  },
  {
   "cell_type": "markdown",
   "metadata": {},
   "source": [
    "¿Por qué no usamos este método? No se usa por seguridad, ya que no podemos verificar que los datos que nos envian són correctos antes de que lleguen al servidor."
   ]
  },
  {
   "cell_type": "markdown",
   "metadata": {},
   "source": [
    "-----\n",
    "## Pure Django Form\n",
    "\n",
    "Primero comentamos los anteriores métodos de views.py y recreamos uno simple:"
   ]
  },
  {
   "cell_type": "code",
   "execution_count": null,
   "metadata": {},
   "outputs": [],
   "source": [
    "def producto_create_view(request):\n",
    "    contexto = {}\n",
    "    return render(request, \"producto/producto_crear.html\", contexto)"
   ]
  },
  {
   "cell_type": "markdown",
   "metadata": {},
   "source": [
    "En forms.py, creamos otra funcion:"
   ]
  },
  {
   "cell_type": "code",
   "execution_count": null,
   "metadata": {},
   "outputs": [],
   "source": [
    "class PuroProductoForm(forms.Form):\n",
    "    titulo      = forms.CharField()\n",
    "    descripcion = forms.CharField()\n",
    "    price       = forms.DecimalField()"
   ]
  },
  {
   "cell_type": "markdown",
   "metadata": {},
   "source": [
    "Similar a los parametros del modelo, por ejemplo TextField() no existe para forms asi que usamos CharField(). \n",
    "\n",
    "Volvemos a las views para modificar la funcion con la nueva funcion de forms."
   ]
  },
  {
   "cell_type": "code",
   "execution_count": null,
   "metadata": {},
   "outputs": [],
   "source": [
    "from .forms import ProductoForm, PuroProductoForm\n",
    "\n",
    "def producto_detalle_view(request):\n",
    "    obj = Producto.objects.get(id=1)\n",
    "    contexto = {\n",
    "        'producto': obj\n",
    "    }\n",
    "    return render(request, \"producto/producto_detalle.html\", contexto)\n",
    "\n",
    "def producto_create_view(request):\n",
    "    mi_form = PuroProductoForm(request.POST)\n",
    "    contexto = {\n",
    "        \"form\": mi_form\n",
    "    }\n",
    "    return render(request, \"producto/producto_crear.html\", contexto)"
   ]
  },
  {
   "cell_type": "markdown",
   "metadata": {},
   "source": [
    "Y por último modificamos el HTML"
   ]
  },
  {
   "cell_type": "code",
   "execution_count": null,
   "metadata": {},
   "outputs": [],
   "source": [
    "{% extends 'base.html' %}\n",
    "{% block content %}\n",
    "<form method=\"POST\" action=\".\">{% csrf_token %}\n",
    "    {{ form.as_p }}\n",
    "    <input type=\"submit\" value=\"Save\">\n",
    "</form>\n",
    "{% endblock %}"
   ]
  },
  {
   "cell_type": "markdown",
   "metadata": {},
   "source": [
    ".as_p lo renderiza dentro de un parágrafo, .as_ul lo enseñará como una lista."
   ]
  },
  {
   "cell_type": "markdown",
   "metadata": {},
   "source": [
    "<div>\n",
    "<img src=\"cursoImagenes/views8.png\" width=\"200\"/>\n",
    "</div>"
   ]
  },
  {
   "cell_type": "markdown",
   "metadata": {},
   "source": [
    "Esto nos da errores de validación, nos lo proporciona Django y es muy útil. Más seguridad que HTML.\n",
    "\n",
    "Por ejemplo si cambiamos el HTML del precio a type=\"text\", Django seguirá requiriendo un número y nos aparecerá la validación directamente en el cliente.\n",
    "\n",
    "Si lo hacemos de esta manera (con Puro Django Forms), es mejor añadir declaraciones if tal que:"
   ]
  },
  {
   "cell_type": "code",
   "execution_count": null,
   "metadata": {},
   "outputs": [],
   "source": [
    "def producto_create_view(request):\n",
    "    mi_form = PuroProductoForm()\n",
    "    if request.method == \"POST\":\n",
    "        mi_form = PuroProductoForm(request.POST)\n",
    "        if mi_form.is_valid():\n",
    "            print(mi_form.cleaned_data)\n",
    "            Producto.objects.create(**mi_form.cleaned_data)\n",
    "        else:\n",
    "            print(mi_form.errors)\n",
    "\n",
    "    contexto = {\n",
    "        \"form\": mi_form\n",
    "    }\n",
    "    return render(request, \"producto/producto_crear.html\", contexto)"
   ]
  },
  {
   "cell_type": "markdown",
   "metadata": {},
   "source": [
    "Con Producto.objects.create(**mi_form.cleaned_data) creamos el producto, con los asteriscos indicamos que son argumentos que pasaremos.\n",
    "\n",
    "Vemos que se crea el producto que pasamos:"
   ]
  },
  {
   "cell_type": "code",
   "execution_count": null,
   "metadata": {},
   "outputs": [],
   "source": [
    "{'titulo': 'Producto #4', 'descripcion': 'sdadsasd', 'precio': Decimal('22')}\n",
    "[31/Jan/2021 11:16:31] \"POST /create/ HTTP/1.1\" 200 840"
   ]
  },
  {
   "cell_type": "markdown",
   "metadata": {},
   "source": [
    "Podemos hacer mucho mas con los atributos de forms.Form\n",
    "\n",
    "### Form Widgets\n",
    "\n",
    "Por ejemplo:"
   ]
  },
  {
   "cell_type": "code",
   "execution_count": null,
   "metadata": {},
   "outputs": [],
   "source": [
    "class PuroProductoForm(forms.Form):\n",
    "    titulo      = forms.CharField()\n",
    "    descripcion = forms.CharField(required=False)\n",
    "    precio       = forms.DecimalField()"
   ]
  },
  {
   "cell_type": "markdown",
   "metadata": {},
   "source": [
    "El default es True asi que no hace falta ponerlo, si quereis ver los defaults, estan en: https://docs.djangoproject.com/en/3.1/ref/forms/fields/"
   ]
  },
  {
   "cell_type": "code",
   "execution_count": null,
   "metadata": {},
   "outputs": [],
   "source": [
    "class PuroProductoForm(forms.Form):\n",
    "    titulo      = forms.CharField(label='')\n",
    "    descripcion = forms.CharField(required=False, widget=forms.Textarea)\n",
    "    precio       = forms.DecimalField(initial=199.99)"
   ]
  },
  {
   "cell_type": "markdown",
   "metadata": {},
   "source": [
    "Ahora se verá más similar a lo que queremos.\n",
    "\n",
    "Dentro de widgets podemos crear neustros propios customizados:"
   ]
  },
  {
   "cell_type": "code",
   "execution_count": null,
   "metadata": {},
   "outputs": [],
   "source": [
    "class PuroProductoForm(forms.Form):\n",
    "    titulo      = forms.CharField(label='', widget=forms.TextInput(attrs={\"placeholder\": \"Your title\"}))\n",
    "    descripcion = forms.CharField(required=False,\n",
    "                                  widget=forms.Textarea(\n",
    "                                      attrs={\n",
    "                                          \"class\": \"nueva-class-nombre dos\",\n",
    "                                          \"id\": \"mi-id-para-text-area\",\n",
    "                                          \"cols\": 100\n",
    "                                      }\n",
    "                                  )\n",
    "                                  )\n",
    "    precio       = forms.DecimalField(initial=199.99)"
   ]
  },
  {
   "cell_type": "markdown",
   "metadata": {},
   "source": [
    "<div>\n",
    "<img src=\"cursoImagenes/views9.png\" width=\"200\"/>\n",
    "</div>"
   ]
  },
  {
   "cell_type": "markdown",
   "metadata": {},
   "source": [
    "Nuestro Form es muy similar al automatico, pero faltan las validaciones.\n",
    "\n",
    "## Form Validation Methods\n",
    "\n",
    "Django ya tiene muchas validaciones automáticas. Por eso usamos forms.ModelForm, y podemos hacer 'override' con los widget forms: Por ejemplo el título:"
   ]
  },
  {
   "cell_type": "code",
   "execution_count": null,
   "metadata": {},
   "outputs": [],
   "source": [
    "from django import forms\n",
    "from .models import Producto\n",
    "\n",
    "class ProductoForm(forms.ModelForm):\n",
    "    titulo      = forms.CharField(label='', widget=forms.TextInput(attrs={\"placeholder\": \"Your title\"}))\n",
    "    class Meta:\n",
    "        model = Producto\n",
    "        fields = [\n",
    "            'titulo',\n",
    "            'descripcion',\n",
    "            'precio'\n",
    "        ]\n",
    "\n",
    "class PuroProductoForm(forms.Form):\n",
    "    titulo      = forms.CharField(label='', widget=forms.TextInput(attrs={\"placeholder\": \"Your title\"}))\n",
    "    descripcion = forms.CharField(required=False,\n",
    "                                  widget=forms.Textarea(\n",
    "                                      attrs={\n",
    "                                          \"class\": \"nueva-class-nombre dos\",\n",
    "                                          \"id\": \"mi-id-para-text-area\",\n",
    "                                          \"cols\": 100\n",
    "                                      }\n",
    "                                  )\n",
    "                                  )\n",
    "    precio       = forms.DecimalField(initial=199.99)"
   ]
  },
  {
   "cell_type": "markdown",
   "metadata": {},
   "source": [
    "Volvemos a la funcion de views.py inicial y la modificamos un poco:"
   ]
  },
  {
   "cell_type": "code",
   "execution_count": null,
   "metadata": {},
   "outputs": [],
   "source": [
    "def producto_create_view(request):\n",
    "    form = ProductoForm(request.POST or None)\n",
    "    if form.is_valid():\n",
    "        form.save()\n",
    "        form = ProductoForm()\n",
    "\n",
    "    contexto = {\n",
    "        'form': form\n",
    "    }\n",
    "    return render(request, \"producto/producto_crear.html\", contexto)"
   ]
  },
  {
   "cell_type": "markdown",
   "metadata": {},
   "source": [
    "form = ProductoForm(request.POST or None), es como un if/else donde si no es \"POST\", no hacemos nada.\n",
    "\n",
    "Vemos que funciona, asi que podemos hacer lo mismo con los demas atributos en forms.py y comentar la funcion PuroProductoForm()"
   ]
  },
  {
   "cell_type": "code",
   "execution_count": null,
   "metadata": {},
   "outputs": [],
   "source": [
    "from django import forms\n",
    "from .models import Producto\n",
    "\n",
    "class ProductoForm(forms.ModelForm):\n",
    "    titulo = forms.CharField(label='', widget=forms.TextInput(attrs={\"placeholder\": \"Your title\"}))\n",
    "    descripcion = forms.CharField(required=False,\n",
    "                                  widget=forms.Textarea(\n",
    "                                          attrs={\n",
    "                                              \"class\": \"nueva-class-nombre dos\",\n",
    "                                              \"id\": \"mi-id-para-text-area\",\n",
    "                                              \"cols\": 100\n",
    "                                          }\n",
    "                                      )\n",
    "                                  )\n",
    "    precio = forms.DecimalField(initial=199.99)\n",
    "    class Meta:\n",
    "        model = Producto\n",
    "        fields = [\n",
    "            'titulo',\n",
    "            'descripcion',\n",
    "            'precio'\n",
    "        ]\n",
    "\n",
    "# class PuroProductoForm(forms.Form):\n",
    "#     titulo      = forms.CharField(label='', widget=forms.TextInput(attrs={\"placeholder\": \"Your title\"}))\n",
    "#     descripcion = forms.CharField(required=False,\n",
    "#                                   widget=forms.Textarea(\n",
    "#                                       attrs={\n",
    "#                                           \"class\": \"nueva-class-nombre dos\",\n",
    "#                                           \"id\": \"mi-id-para-text-area\",\n",
    "#                                           \"cols\": 100\n",
    "#                                       }\n",
    "#                                   )\n",
    "#                                   )\n",
    "#     precio       = forms.DecimalField(initial=199.99)\n"
   ]
  },
  {
   "cell_type": "markdown",
   "metadata": {},
   "source": [
    "Llegamos a un punto donde entendemos lo que ocurre inicialmente y nuestra funcion es robusta pero customizable.\n",
    "\n",
    "Si queremos otra validación, por ejemplo que el título contenga la palabra \"Producto\":"
   ]
  },
  {
   "cell_type": "code",
   "execution_count": null,
   "metadata": {},
   "outputs": [],
   "source": [
    "class ProductoForm(forms.ModelForm):\n",
    "    titulo = forms.CharField(label='', widget=forms.TextInput(attrs={\"placeholder\": \"Your title\"}))\n",
    "    descripcion = forms.CharField(required=False,\n",
    "                                  widget=forms.Textarea(\n",
    "                                      attrs={\n",
    "                                          \"class\": \"nueva-class-nombre dos\",\n",
    "                                          \"id\": \"mi-id-para-text-area\",\n",
    "                                          \"cols\": 100\n",
    "                                      }\n",
    "                                  )\n",
    "                                  )\n",
    "    precio = forms.DecimalField(initial=199.99)\n",
    "    class Meta:\n",
    "        model = Producto\n",
    "        fields = [\n",
    "            'titulo',\n",
    "            'descripcion',\n",
    "            'precio'\n",
    "        ]\n",
    "\n",
    "    def clean_titulo(self, *args, **kwargs):\n",
    "        titulo = self.cleaned_data.get(\"titulo\")\n",
    "        if not \"Producto\" in titulo:\n",
    "            raise forms.ValidationError(\"No contiene la palabra Producto, no es valido\")\n",
    "        else:\n",
    "            return titulo"
   ]
  },
  {
   "cell_type": "markdown",
   "metadata": {},
   "source": [
    "Añadimos args y kwargs si hacemos override y no estamos seguros de que es necesario (clean_+nombre de atributo es un metodo que ya existe). Miramos si existe \"Producto\" en titulo, si existe le dejamos pasar, si no raise error."
   ]
  },
  {
   "cell_type": "markdown",
   "metadata": {},
   "source": [
    "<div>\n",
    "<img src=\"cursoImagenes/views10.png\" width=\"200\"/>\n",
    "</div>"
   ]
  },
  {
   "cell_type": "markdown",
   "metadata": {},
   "source": [
    "Si te das cuenta, podriamos canviar forms.ModelForm a simplemente forms.Form, ya que hemos implementado todas las funcionalidades que necesitamos automáticas de ModelForms."
   ]
  },
  {
   "cell_type": "markdown",
   "metadata": {},
   "source": [
    "------\n",
    "## Valores inciales\n",
    "\n",
    "Podemos añadir valores iniciales (default) en views.py tal que:"
   ]
  },
  {
   "cell_type": "code",
   "execution_count": null,
   "metadata": {},
   "outputs": [],
   "source": [
    "def producto_create_view(request):\n",
    "    initial_data = {\n",
    "        'titulo': \"Producto x\"\n",
    "    }\n",
    "    \n",
    "    form = ProductoForm(request.POST or None, initial=initial_data)\n",
    "    if form.is_valid():\n",
    "        form.save()\n",
    "        form = ProductoForm()\n",
    "\n",
    "    contexto = {\n",
    "        'form': form\n",
    "    }\n",
    "    return render(request, \"producto/producto_crear.html\", contexto)"
   ]
  },
  {
   "cell_type": "markdown",
   "metadata": {},
   "source": [
    "------\n",
    "## Modificar valores\n",
    "\n",
    "Crear URL \"/modify\" en urls.py, despues nueva funcion views.py:"
   ]
  },
  {
   "cell_type": "code",
   "execution_count": null,
   "metadata": {},
   "outputs": [],
   "source": [
    "def producto_modify_view(request):\n",
    "    obj = Producto.objects.get(id=1)\n",
    "    form = ProductoForm(request.POST or None, instance=obj)\n",
    "    if form.is_valid():\n",
    "        form.save()\n",
    "        form = ProductoForm()\n",
    "\n",
    "    contexto = {\n",
    "        'form': form\n",
    "    }\n",
    "    return render(request, \"producto/producto_crear.html\", contexto)"
   ]
  },
  {
   "cell_type": "markdown",
   "metadata": {},
   "source": [
    "De momento reusamos el HTML de crear y modificamos el producto con id=1.\n",
    "\n",
    "si vamos a http://127.0.0.1:8000/modify veremos el producto con id=1 en pantalla, si modificamos algo como el precio, también se modificara en la BBDD."
   ]
  },
  {
   "cell_type": "markdown",
   "metadata": {},
   "source": [
    "<div>\n",
    "    <img src=\"cursoImagenes/views11.png\" width=\"200\"/>\n",
    "    <img src=\"cursoImagenes/views12.png\" width=\"200\"/>\n",
    "</div>"
   ]
  },
  {
   "cell_type": "markdown",
   "metadata": {},
   "source": [
    "Obviamente esto no es ideal, tenemos que poder decirle a la web que producto modificar.\n",
    "\n",
    "-----\n",
    "# Dynamic URL Routing\n",
    "\n",
    "En views.py, creamos un metodo casi igual que product_detalle_view(request):"
   ]
  },
  {
   "cell_type": "code",
   "execution_count": null,
   "metadata": {},
   "outputs": [],
   "source": [
    "from django.shortcuts import render\n",
    "from .models import Producto\n",
    "from .forms import ProductoForm\n",
    "\n",
    "def producto_detalle_view(request):\n",
    "    obj = Producto.objects.get(id=1)\n",
    "    contexto = {\n",
    "        'producto': obj\n",
    "    }\n",
    "    return render(request, \"producto/producto_detalle.html\", contexto)\n",
    "\n",
    "def producto_detalle_dynamic_view(request, id):\n",
    "    obj = Producto.objects.get(id=id)\n",
    "    contexto = {\n",
    "        'producto': obj\n",
    "    }\n",
    "    return render(request, \"producto/producto_detalle.html\", contexto)"
   ]
  },
  {
   "cell_type": "markdown",
   "metadata": {},
   "source": [
    "En URL, creamos uno dinamico."
   ]
  },
  {
   "cell_type": "code",
   "execution_count": null,
   "metadata": {},
   "outputs": [],
   "source": [
    "urlpatterns = [\n",
    "    path('', home_view, name='home'),\n",
    "    path('contact/', contact_view, name='contact'),\n",
    "    path('about/', about_view, name='about'),\n",
    "    path('admin/', admin.site.urls),\n",
    "    path('product/', producto_detalle_view),\n",
    "    path('product/<int:id>/', producto_detalle_dynamic_view),\n",
    "    path('create/', producto_create_view),\n",
    "    path('modify/', producto_modify_view),\n",
    "]"
   ]
  },
  {
   "cell_type": "markdown",
   "metadata": {},
   "source": [
    "<div>\n",
    "    <img src=\"cursoImagenes/views13.png\" width=\"200\"/>\n",
    "</div>"
   ]
  },
  {
   "cell_type": "markdown",
   "metadata": {},
   "source": [
    "------\n",
    "## Handle DoesNotExist\n",
    "\n",
    "Si enviamos un object ID de producto que no existe, nos sale un error, pero queremos que ese error sea PageNotFound, lo hacemos tal que:"
   ]
  },
  {
   "cell_type": "code",
   "execution_count": null,
   "metadata": {},
   "outputs": [],
   "source": [
    "from django.shortcuts import render, get_object_or_404\n",
    "from .models import Producto\n",
    "from .forms import ProductoForm\n",
    "\n",
    "def producto_detalle_dynamic_view(request, id):\n",
    "    #obj = Producto.objects.get(id=id)\n",
    "    obj = get_object_or_404(Producto, id=id)\n",
    "    contexto = {\n",
    "        'producto': obj\n",
    "    }\n",
    "    return render(request, \"producto/producto_detalle.html\", contexto)"
   ]
  },
  {
   "cell_type": "markdown",
   "metadata": {},
   "source": [
    "También lo podemos hacer con un try/except."
   ]
  },
  {
   "cell_type": "code",
   "execution_count": null,
   "metadata": {},
   "outputs": [],
   "source": [
    "from django.shortcuts import render, get_object_or_404\n",
    "from django.http import Http404\n",
    "from .models import Producto\n",
    "from .forms import ProductoForm\n",
    "\n",
    "def producto_detalle_dynamic_view(request, id):\n",
    "    #obj = Producto.objects.get(id=id)\n",
    "    #obj = get_object_or_404(Producto, id=id)\n",
    "    try:\n",
    "        obj = Producto.objects.get(id=id)\n",
    "    except Producto.DoesNotExist:\n",
    "        raise Http404\n",
    "    contexto = {\n",
    "        'producto': obj\n",
    "    }\n",
    "    return render(request, \"producto/producto_detalle.html\", contexto)"
   ]
  },
  {
   "cell_type": "markdown",
   "metadata": {},
   "source": [
    "-----\n",
    "# Borrar objeto de la BBDD\n",
    "\n",
    "El mismo proceso, template:"
   ]
  },
  {
   "cell_type": "code",
   "execution_count": null,
   "metadata": {},
   "outputs": [],
   "source": [
    "{% extends 'base.html' %}\n",
    "{% block content %}\n",
    "<form action=\"./delete\" method=\"POST\">{% csrf_token %}\n",
    "    <h1>¿Seguro que quieres borrar el producto \"{{ producto.titulo }}\"</h1>\n",
    "    <p>\n",
    "        <input type=\"submit\" value=\"Yes\" />\n",
    "        <a href=\"../../\">Cancel</a>\n",
    "    </p>\n",
    "\n",
    "</form>\n",
    "{% endblock %}"
   ]
  },
  {
   "cell_type": "markdown",
   "metadata": {},
   "source": [
    "URL en urls.py."
   ]
  },
  {
   "cell_type": "code",
   "execution_count": null,
   "metadata": {},
   "outputs": [],
   "source": [
    "from productos.views import (\n",
    "    producto_detalle_view,\n",
    "    producto_create_view,\n",
    "    producto_modify_view,\n",
    "    producto_detalle_dynamic_view,\n",
    "    producto_delete_view\n",
    ")\n",
    "\n",
    "urlpatterns = [\n",
    "    path('', home_view, name='home'),\n",
    "    path('contact/', contact_view, name='contact'),\n",
    "    path('about/', about_view, name='about'),\n",
    "    path('admin/', admin.site.urls),\n",
    "    path('product/<int:id>/', producto_detalle_dynamic_view),\n",
    "    path('product/<int:id>/delete', producto_delete_view),\n",
    "    path('create/', producto_create_view),\n",
    "    path('modify/', producto_modify_view),\n",
    "]"
   ]
  },
  {
   "cell_type": "markdown",
   "metadata": {},
   "source": [
    "Y el método en views.py"
   ]
  },
  {
   "cell_type": "code",
   "execution_count": null,
   "metadata": {},
   "outputs": [],
   "source": [
    "def producto_delete_view(request, id):\n",
    "    obj = get_object_or_404(Producto, id=id)\n",
    "    #POST request, también se usa DELETE\n",
    "    if request.method == \"POST\":\n",
    "        # confirmamos\n",
    "        obj.delete()\n",
    "    contexto = {\n",
    "        'producto': obj\n",
    "    }\n",
    "    return render(request, \"producto/producto_delete.html\", contexto)"
   ]
  },
  {
   "cell_type": "markdown",
   "metadata": {},
   "source": [
    "<div>\n",
    "    <img src=\"cursoImagenes/views14.png\" width=\"200\"/>\n",
    "</div>"
   ]
  },
  {
   "cell_type": "markdown",
   "metadata": {},
   "source": [
    "Para redireccionar en el servidor después de borrar el producto:"
   ]
  },
  {
   "cell_type": "code",
   "execution_count": null,
   "metadata": {},
   "outputs": [],
   "source": [
    "from django.shortcuts import render, get_object_or_404, redirect\n",
    "from django.http import Http404\n",
    "from .models import Producto\n",
    "from .forms import ProductoForm\n",
    "\n",
    "def producto_delete_view(request, id):\n",
    "    obj = get_object_or_404(Producto, id=id)\n",
    "    #POST request, también se usa DELETE\n",
    "    if request.method == \"POST\":\n",
    "        # confirmamos\n",
    "        obj.delete()\n",
    "        return redirect(\"../../\")\n",
    "    contexto = {\n",
    "        'producto': obj\n",
    "    }\n",
    "    return render(request, \"producto/producto_delete.html\", contexto)"
   ]
  },
  {
   "cell_type": "markdown",
   "metadata": {},
   "source": [
    "------\n",
    "# Ver lista de objetos de la BBDD\n",
    "\n",
    "View:"
   ]
  },
  {
   "cell_type": "code",
   "execution_count": null,
   "metadata": {},
   "outputs": [],
   "source": [
    "def producto_list_view(request):\n",
    "    queryset = Producto.objects.all() # lista de objetos\n",
    "    contexto = {\n",
    "        'object_list': queryset\n",
    "    }\n",
    "    return render(request, \"producto/producto_list.html\", contexto)"
   ]
  },
  {
   "cell_type": "markdown",
   "metadata": {},
   "source": [
    "Template:"
   ]
  },
  {
   "cell_type": "code",
   "execution_count": null,
   "metadata": {},
   "outputs": [],
   "source": [
    "{% extends 'base.html' %}\n",
    "{% block content %}\n",
    "{% for instance in object_list %}\n",
    "<p>{{ instance.id }} - {{ instance.titulo }}</p>\n",
    "{% endfor %}\n",
    "{% endblock %}"
   ]
  },
  {
   "cell_type": "markdown",
   "metadata": {},
   "source": [
    "URL:"
   ]
  },
  {
   "cell_type": "code",
   "execution_count": null,
   "metadata": {},
   "outputs": [],
   "source": [
    "from productos.views import (\n",
    "    producto_detalle_view,\n",
    "    producto_create_view,\n",
    "    producto_modify_view,\n",
    "    producto_detalle_dynamic_view,\n",
    "    producto_delete_view,\n",
    "    producto_list_view\n",
    ")\n",
    "\n",
    "urlpatterns = [\n",
    "    path('', home_view, name='home'),\n",
    "    path('contact/', contact_view, name='contact'),\n",
    "    path('about/', about_view, name='about'),\n",
    "    path('admin/', admin.site.urls),\n",
    "    path('product/<int:id>/', producto_detalle_dynamic_view),\n",
    "    path('product/<int:id>/delete', producto_delete_view),\n",
    "    path('create/', producto_create_view),\n",
    "    path('modify/', producto_modify_view),\n",
    "    path('list/', producto_list_view),\n",
    "]"
   ]
  },
  {
   "cell_type": "markdown",
   "metadata": {},
   "source": [
    "<div>\n",
    "    <img src=\"cursoImagenes/views15.png\" width=\"200\"/>\n",
    "</div>"
   ]
  },
  {
   "cell_type": "markdown",
   "metadata": {},
   "source": [
    "Podemos mejorarlo wrapeando el titulo en un link a la página de cada producto."
   ]
  },
  {
   "cell_type": "code",
   "execution_count": null,
   "metadata": {},
   "outputs": [],
   "source": [
    "{% extends 'base.html' %}\n",
    "{% block content %}\n",
    "{% for instance in object_list %}\n",
    "<p>{{ instance.id }} - <a href=\"/product/{{ instance.id }}/\"> {{ instance.titulo }} </a> </p>\n",
    "{% endfor %}\n",
    "{% endblock %}"
   ]
  },
  {
   "cell_type": "markdown",
   "metadata": {},
   "source": [
    "El problema de esto es que si se cambia la URL, no queremos ir a los templates para cambiarlo también. Por eso en models.py podemos añadir:"
   ]
  },
  {
   "cell_type": "code",
   "execution_count": null,
   "metadata": {},
   "outputs": [],
   "source": [
    "from django.db import models\n",
    "\n",
    "class Producto(models.Model):\n",
    "    titulo      = models.CharField(max_length=120) # obligatorio añadir max_length\n",
    "    descripcion = models.TextField(blank=True, null=True)\n",
    "    precio      = models.DecimalField(decimal_places=2, max_digits=10000) # buscar en docs por un field de decimiles\n",
    "    resumen     = models.TextField(blank=False, null=False)\n",
    "    destacado   = models.BooleanField(default=False)\n",
    "\n",
    "    def get_absolute_url(self):\n",
    "        return f\"/product/{self.id}\""
   ]
  },
  {
   "cell_type": "markdown",
   "metadata": {},
   "source": [
    "Así que en el template podemos poner:"
   ]
  },
  {
   "cell_type": "code",
   "execution_count": null,
   "metadata": {},
   "outputs": [],
   "source": [
    "{% extends 'base.html' %}\n",
    "{% block content %}\n",
    "{% for instance in object_list %}\n",
    "<p>{{ instance.id }} - <a href=\"{{ instance.get_absolute_url }}\"> {{ instance.titulo }} </a> </p>\n",
    "{% endfor %}\n",
    "{% endblock %}"
   ]
  },
  {
   "cell_type": "markdown",
   "metadata": {},
   "source": [
    "-----\n",
    "# Django URLs Reverse *{Cuarta Hora}*\n",
    "\n",
    "Podemos añadir nombres a las URLs:"
   ]
  },
  {
   "cell_type": "code",
   "execution_count": null,
   "metadata": {},
   "outputs": [],
   "source": [
    "urlpatterns = [\n",
    "    path('', home_view, name='home'),\n",
    "    path('contact/', contact_view, name='contact'),\n",
    "    path('about/', about_view, name='about'),\n",
    "    path('admin/', admin.site.urls),\n",
    "    path('product/<int:id>/', producto_detalle_dynamic_view, name=\"product-detail\"),\n",
    "    path('product/<int:id>/delete', producto_delete_view, name=\"product-delete\"),\n",
    "    path('create/', producto_create_view),\n",
    "    path('modify/', producto_modify_view),\n",
    "    path('list/', producto_list_view, name=\"product-list\"),\n",
    "]"
   ]
  },
  {
   "cell_type": "markdown",
   "metadata": {},
   "source": [
    "Lo usamos en get_absolut_url"
   ]
  },
  {
   "cell_type": "code",
   "execution_count": null,
   "metadata": {},
   "outputs": [],
   "source": [
    "from django.db import models\n",
    "from django.urls import reverse\n",
    "\n",
    "class Producto(models.Model):\n",
    "    titulo      = models.CharField(max_length=120) # obligatorio añadir max_length\n",
    "    descripcion = models.TextField(blank=True, null=True)\n",
    "    precio      = models.DecimalField(decimal_places=2, max_digits=10000) # buscar en docs por un field de decimiles\n",
    "    resumen     = models.TextField(blank=False, null=False)\n",
    "    destacado   = models.BooleanField(default=False)\n",
    "\n",
    "    def get_absolute_url(self):\n",
    "        #return f\"/product/{self.id}\"\n",
    "        return reverse(\"product-detail\", kwargs={\"id\": self.id})"
   ]
  },
  {
   "cell_type": "markdown",
   "metadata": {},
   "source": [
    "Funcionará igual, pero ahora solo necesitamos cambiar en urls.py, totalmente dinamico.\n",
    "\n",
    "-----\n",
    "# In-app URLs\n",
    "\n",
    "También es buena idea mover las URLs en cada app.\n",
    "\n",
    "Para eso, creamos /productos/urls.py"
   ]
  },
  {
   "cell_type": "code",
   "execution_count": null,
   "metadata": {},
   "outputs": [],
   "source": [
    "from django.urls import path\n",
    "from .views import (\n",
    "    producto_detalle_view,\n",
    "    producto_create_view,\n",
    "    producto_modify_view,\n",
    "    producto_detalle_dynamic_view,\n",
    "    producto_delete_view,\n",
    "    producto_list_view\n",
    ")\n",
    "\n",
    "app_name = 'productos'\n",
    "urlpatterns = [\n",
    "    path('<int:id>/', producto_detalle_dynamic_view, name=\"product-detail\"),\n",
    "    path('<int:id>/delete', producto_delete_view, name=\"product-delete\"),\n",
    "    path('create/', producto_create_view),\n",
    "    path('modify/', producto_modify_view),\n",
    "    path('', producto_list_view, name=\"product-list\"),\n",
    "]"
   ]
  },
  {
   "cell_type": "markdown",
   "metadata": {},
   "source": [
    "I en el urls.py general, "
   ]
  },
  {
   "cell_type": "code",
   "execution_count": null,
   "metadata": {},
   "outputs": [],
   "source": [
    "from django.contrib import admin\n",
    "from django.urls import path, include\n",
    "from paginas.views import home_view, contact_view, about_view\n",
    "\n",
    "urlpatterns = [\n",
    "    path('', home_view, name='home'),\n",
    "    path('contact/', contact_view, name='contact'),\n",
    "    path('about/', about_view, name='about'),\n",
    "    path('admin/', admin.site.urls),\n",
    "\n",
    "    path('productos/', include('productos.urls'))\n",
    "]\n"
   ]
  },
  {
   "cell_type": "markdown",
   "metadata": {},
   "source": [
    "Y en el reverse URL del modelo"
   ]
  },
  {
   "cell_type": "code",
   "execution_count": null,
   "metadata": {},
   "outputs": [],
   "source": [
    "from django.db import models\n",
    "from django.urls import reverse\n",
    "\n",
    "class Producto(models.Model):\n",
    "    titulo      = models.CharField(max_length=120) # obligatorio añadir max_length\n",
    "    descripcion = models.TextField(blank=True, null=True)\n",
    "    precio      = models.DecimalField(decimal_places=2, max_digits=10000) # buscar en docs por un field de decimiles\n",
    "    resumen     = models.TextField(blank=False, null=False)\n",
    "    destacado   = models.BooleanField(default=False)\n",
    "\n",
    "    def get_absolute_url(self):\n",
    "        #return f\"/product/{self.id}\"\n",
    "        return reverse(\"productos:product-detail\", kwargs={\"id\": self.id})"
   ]
  },
  {
   "cell_type": "markdown",
   "metadata": {},
   "source": [
    "------\n",
    "# Class Based Views\n",
    "\n",
    "Usando clases de Django nos facilita el trabajo, por ejemplo lista de productos:"
   ]
  },
  {
   "cell_type": "code",
   "execution_count": null,
   "metadata": {},
   "outputs": [],
   "source": [
    "from django.views.generic import (\n",
    "    CreateView,\n",
    "    DetailView,\n",
    "    ListView,\n",
    "    UpdateView,\n",
    "    ListView,\n",
    "    DeleteView\n",
    ")\n",
    "\n",
    "class ProductoListView(ListView):\n",
    "    queryset = Producto.objects.all()\n",
    "\n",
    "# def producto_list_view(request):\n",
    "#     queryset = Producto.objects.all() # lista de objetos\n",
    "#     contexto = {\n",
    "#         'object_list': queryset\n",
    "#     }\n",
    "#     return render(request, \"producto/producto_list.html\", contexto)\n"
   ]
  },
  {
   "cell_type": "markdown",
   "metadata": {},
   "source": [
    "Y en las productos/urls.py"
   ]
  },
  {
   "cell_type": "code",
   "execution_count": null,
   "metadata": {},
   "outputs": [],
   "source": [
    "from django.urls import path\n",
    "from .views import (\n",
    "    producto_detalle_view,\n",
    "    producto_create_view,\n",
    "    producto_modify_view,\n",
    "    producto_detalle_dynamic_view,\n",
    "    producto_delete_view,\n",
    "    ProductoListView\n",
    ")\n",
    "\n",
    "app_name = 'productos'\n",
    "urlpatterns = [\n",
    "    path('<int:id>/', producto_detalle_dynamic_view, name=\"product-detail\"),\n",
    "    path('<int:id>/delete', producto_delete_view, name=\"product-delete\"),\n",
    "    path('create/', producto_create_view),\n",
    "    path('modify/', producto_modify_view),\n",
    "    path('', ProductoListView.as_view(), name=\"product-list\"),\n",
    "]"
   ]
  },
  {
   "cell_type": "markdown",
   "metadata": {},
   "source": [
    "Veremos un error de que no tenemos el template, ya que Django automaticamente busca un template en productos/producto_list.html.\n",
    "\n",
    "Para modificar la URL:"
   ]
  },
  {
   "cell_type": "code",
   "execution_count": null,
   "metadata": {},
   "outputs": [],
   "source": [
    "class ProductoListView(ListView):\n",
    "    template_name = 'producto/producto_list.html'\n",
    "    queryset = Producto.objects.all() #<productos>/<modelname>_list.html\n"
   ]
  },
  {
   "cell_type": "markdown",
   "metadata": {},
   "source": [
    "Ahora ya funciona.\n",
    "\n",
    "Lo podemos hacer para las demás views. Mucho mas simple!"
   ]
  },
  {
   "cell_type": "markdown",
   "metadata": {},
   "source": [
    "------\n",
    "# Tu turno!\n",
    "\n",
    "1. Crea una nueva App llamada Blog\n",
    "2. Añade 'Blog' a tu proyecto de Django (settings.py)\n",
    "3. Crea un Modelo llamado 'Article' con (recuerad el get_absolute_url):\n",
    "     ```python\n",
    "    title   = models.CharField(max_length=120)\n",
    "    content = models.TextField()\n",
    "    active  = models.BooleanField(default=True)\n",
    "     ```     \n",
    "4. Ejecuta migraciones:\n",
    "    4.1. python manage.py makemigrations\n",
    "    4.2. python manage.py migrate\n",
    "5. Crea un ModelForm simple para Article:\n",
    "    ```python\n",
    "    from django import forms\n",
    "    from .models import Article\n",
    "\n",
    "    class ArticleModelForm(forms.ModelForm):\n",
    "        class Meta:\n",
    "            model = Article\n",
    "            fields =[\n",
    "                'title',\n",
    "                'content',\n",
    "                'active',\n",
    "            ]\n",
    "      ```     \n",
    "6. Crea templates 'article_list.html' & 'article_detail.html' \n",
    "7. Añade y guarda un Article desde el Admin\n",
    "8. Hacer una class based view para la lista de Article en la url '/blog'"
   ]
  },
  {
   "cell_type": "markdown",
   "metadata": {},
   "source": [
    "-----\n",
    "## DetailView\n",
    "\n",
    "blog/views.py"
   ]
  },
  {
   "cell_type": "code",
   "execution_count": null,
   "metadata": {},
   "outputs": [],
   "source": [
    "class ArticleDetailView(DetailView):\n",
    "    template_name = 'articles/article_detail.html'\n",
    "    #queryset = Article.objects.all()\n",
    "\n",
    "    def get_object(self):\n",
    "        id_ = self.kwargs.get(\"id\")\n",
    "        return get_object_or_404(Article, id=id_)"
   ]
  },
  {
   "cell_type": "markdown",
   "metadata": {},
   "source": [
    "Con kwargs cogemos el valor que pasamos desde el cliente.\n",
    "\n",
    "Mas simple, pero sin lo de antes no entenderiamos que esta pasando.\n",
    "\n",
    "En blog/urls.py"
   ]
  },
  {
   "cell_type": "code",
   "execution_count": null,
   "metadata": {},
   "outputs": [],
   "source": [
    "    path('<int:id>/', ArticleDetailView.as_view(), name='article-detail'),"
   ]
  },
  {
   "cell_type": "markdown",
   "metadata": {},
   "source": [
    "-----\n",
    "## CreateView\n",
    "\n",
    "blog/views.py"
   ]
  },
  {
   "cell_type": "code",
   "execution_count": null,
   "metadata": {},
   "outputs": [],
   "source": [
    "class ArticleCreateView(CreateView):\n",
    "    template_name = 'articles/article_create.html'\n",
    "    form_class = ArticleModelForm\n",
    "    queryset = Article.objects.all() # <blog>/<modelname>_list.html\n",
    "    #success_url = '/'\n",
    "\n",
    "    def form_valid(self, form):\n",
    "        print(form.cleaned_data)\n",
    "        return super().form_valid(form)\n",
    "\n",
    "    #def get_success_url(self):\n",
    "    #    return '/'"
   ]
  },
  {
   "cell_type": "markdown",
   "metadata": {},
   "source": [
    "Template"
   ]
  },
  {
   "cell_type": "code",
   "execution_count": null,
   "metadata": {},
   "outputs": [],
   "source": [
    "{% extends 'base.html' %}\n",
    "{% block content %}\n",
    "<form action='.' method='POST'>{% csrf_token %}\n",
    "    {{ form.as_p }}\n",
    "    <input type='submit' value='Save' />\n",
    "</form>\n",
    "{% endblock %}"
   ]
  },
  {
   "cell_type": "markdown",
   "metadata": {},
   "source": [
    "En blog/urls.py"
   ]
  },
  {
   "cell_type": "code",
   "execution_count": null,
   "metadata": {},
   "outputs": [],
   "source": [
    "    path('create/', ArticleCreateView.as_view(), name='article-create'),"
   ]
  },
  {
   "cell_type": "markdown",
   "metadata": {},
   "source": [
    "-----\n",
    "## UpdateView\n",
    "\n",
    "blog/views.py"
   ]
  },
  {
   "cell_type": "code",
   "execution_count": null,
   "metadata": {},
   "outputs": [],
   "source": [
    "class ArticleUpdateView(UpdateView):\n",
    "    template_name = 'articles/article_create.html'\n",
    "    form_class = ArticleModelForm\n",
    "\n",
    "    def get_object(self):\n",
    "        id_ = self.kwargs.get(\"id\")\n",
    "        return get_object_or_404(Article, id=id_)\n",
    "\n",
    "    def form_valid(self, form):\n",
    "        print(form.cleaned_data)\n",
    "        return super().form_valid(form)"
   ]
  },
  {
   "cell_type": "markdown",
   "metadata": {},
   "source": [
    "Template, same as create."
   ]
  },
  {
   "cell_type": "markdown",
   "metadata": {},
   "source": [
    "En blog/urls.py"
   ]
  },
  {
   "cell_type": "code",
   "execution_count": null,
   "metadata": {},
   "outputs": [],
   "source": [
    "    path('update/', ArticleUpdateView.as_view(), name='article-update'),"
   ]
  },
  {
   "cell_type": "markdown",
   "metadata": {},
   "source": [
    "-----\n",
    "## DeleteView\n",
    "\n",
    "blog/views.py"
   ]
  },
  {
   "cell_type": "code",
   "execution_count": null,
   "metadata": {},
   "outputs": [],
   "source": [
    "class ArticleDeleteView(DeleteView):\n",
    "    template_name = 'articles/article_delete.html'\n",
    "    \n",
    "    def get_object(self):\n",
    "        id_ = self.kwargs.get(\"id\")\n",
    "        return get_object_or_404(Article, id=id_)\n",
    "\n",
    "    def get_success_url(self):\n",
    "        return reverse('articles:article-list')"
   ]
  },
  {
   "cell_type": "markdown",
   "metadata": {},
   "source": [
    "Importante el URL cuando se borra.\n",
    "\n",
    "Template"
   ]
  },
  {
   "cell_type": "code",
   "execution_count": null,
   "metadata": {},
   "outputs": [],
   "source": [
    "{% extends 'base.html' %}\n",
    "{% block content %}\n",
    "<form action='.' method='POST'>{% csrf_token %}\n",
    "    <h1>Do you want to delete the post \"{{ object.title }}\"?</h1>\n",
    "    <p><input type='submit' value='Yes' />  <a href='../'>Cancel</a></p>\n",
    "</form>\n",
    "{% endblock %}"
   ]
  },
  {
   "cell_type": "markdown",
   "metadata": {},
   "source": [
    "En blog/urls.py"
   ]
  },
  {
   "cell_type": "code",
   "execution_count": null,
   "metadata": {},
   "outputs": [],
   "source": [
    "    path('<int:id>/delete/', ArticleDeleteView.as_view(), name='article-delete'),"
   ]
  },
  {
   "cell_type": "markdown",
   "metadata": {},
   "source": [
    "-----\n",
    "# Function based View to class based View\n",
    "\n",
    "Por último os queria enseñar como cambiar una views.py de funciones a clases.\n",
    "\n",
    "ver /courses"
   ]
  },
  {
   "cell_type": "markdown",
   "metadata": {},
   "source": [
    "**También añadir las URLs en el navbar**"
   ]
  },
  {
   "cell_type": "code",
   "execution_count": null,
   "metadata": {},
   "outputs": [],
   "source": [
    "<nav>\n",
    "    <ul>\n",
    "        <li><a href=\"/\">Home</a></li>\n",
    "        <li><a href=\"/contact\">Contacto</a></li>\n",
    "        <li><a href=\"/about\">Sobre</a></li>\n",
    "        <li><a href=\"/productos\">Productos</a></li>\n",
    "    </ul>\n",
    "</nav>"
   ]
  }
 ],
 "metadata": {
  "kernelspec": {
   "display_name": "Python 3",
   "language": "python",
   "name": "python3"
  },
  "language_info": {
   "codemirror_mode": {
    "name": "ipython",
    "version": 3
   },
   "file_extension": ".py",
   "mimetype": "text/x-python",
   "name": "python",
   "nbconvert_exporter": "python",
   "pygments_lexer": "ipython3",
   "version": "3.9.0"
  }
 },
 "nbformat": 4,
 "nbformat_minor": 4
}
