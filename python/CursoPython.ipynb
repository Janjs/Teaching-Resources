{
 "cells": [
  {
   "cell_type": "markdown",
   "metadata": {},
   "source": [
    "# Introducción\n",
    "\n",
    "* Sobre mi\n",
    "* Porque Python\n",
    "\n",
    "Python is a programming language. Like other languages, it gives us a way to communicate ideas. In the case of a programming language, these ideas are “commands” that people use to communicate with a computer!\n",
    "\n",
    "We convey our commands to the computer by writing them in a text file using a programming language. These files are called programs. Running a program means telling a computer to read the text file, translate it to the set of operations that it understands, and perform those actions.\n",
    "\n",
    "Popularity: https://madnight.github.io/githut/#/pull_requests/2020/4\n",
    "\n",
    "The Python programming language has a wide range of syntactical constructions, standard library functions, and interactive development environment features. Fortunately, you can ignore most of that; you just need to learn enough to write some handy little programs.\n",
    "\n",
    "You will, however, have to learn some basic programming concepts before you can do anything. Like a wizard in training, you might think these concepts seem arcane and tedious, but with some knowledge and practice, you’ll be able to command your computer like a magic wand and perform incredible feats.\n",
    "\n",
    "* Cómo haré este curso, no tengais miedo a preguntar y interrumpirme. ¿Catalan o castellano?\n",
    "* Recomendaciones antes de empezar a aprender:\n",
    "    * Aprender a aprender eficientemente: stack overflow\n",
    "    * Mapear el proceso.\n",
    "    * Identificar tus objetivos y hacer un seguimiento de ellos.\n",
    "    * Escribir el proceso.\n",
    "    * Mucha paciencia\n",
    "    * Pensar en una idea y hacerla realidad\n",
    "* Pensad que hay una transición entre aprender a través de universidades y grados a aprender por nosotros mismos.\n",
    "* Aunque no nos queramos dedicar a la programación, esta classe puede ser muy interesante para entender los conceptos básicos, TODAS las empresas actualmente usan algun tipo de programación.\n",
    "    \n",
    "\n",
    "## 1. Installar Python\n",
    "\n",
    "* Abrir navegador\n",
    "* https://www.python.org/downloads/\n",
    "* Descargar última versión de Python 3\n",
    "\n",
    "Hay dos Python: Python 2 y Python 3. La diferencia es que Python 2 es \"legacy\", Python 3 es la versión actual. Pros y cons de usar uno u otro. Usaremos Python 3.\n",
    "\n",
    "https://tutorial.djangogirls.org/es/python_installation/\n",
    "\n",
    "si no se puede, usar online:\n",
    "https://www.w3schools.com/python/trypython.asp?filename=demo_compiler\n",
    "\n",
    "Comprobar que lo tenemos instalado:\n",
    "* Mac: Terminal\n",
    "* Windows: PowerShell (terminal)\n",
    "\n",
    "## 2. Elegir editor de texto o entorno de desarrollo integrado IDE \n",
    "\n",
    "Cualquier editor sirve\n",
    "Ventajas de usar IDE: Especializado para escribir código Python, recibir feedback (errores) y ejecutar código.\n",
    "\n",
    "Opciones: \n",
    "* Text Editor / Terminal (enseñar ejemplo)\n",
    "* VSCode\n",
    "* Jupyter / Google Collab (enseñar ejemplo)\n",
    "* PyCharm: https://www.jetbrains.com/es-es/pycharm/\n",
    "\n",
    "**Abrir carpeta de python sin nada dentro en PyCharm"
   ]
  },
  {
   "cell_type": "markdown",
   "metadata": {},
   "source": [
    "# Ajustes y \"Hello World\" hola\n",
    "\n",
    "* Abrir PyCharm\n",
    "* New Project\n",
    "* Nombre y localización del proyecto y interpretador de Python. \n",
    "* Crear Python file\n",
    "\n",
    "Empezamos:"
   ]
  },
  {
   "cell_type": "code",
   "execution_count": 1,
   "metadata": {},
   "outputs": [
    {
     "name": "stdout",
     "output_type": "stream",
     "text": [
      "Hola Mundo\n"
     ]
    }
   ],
   "source": [
    "print(\"Hola Mundo\")"
   ]
  },
  {
   "cell_type": "markdown",
   "metadata": {},
   "source": [
    "-----\n",
    "# Escribir tu primer programa\n",
    "\n",
    "Programar en Python es dar instrucciones al ordenador, el ordenador las ejecutará, eso es la *programación*.\n",
    "\n",
    "Dibujar un triangulo usando print() (Salida por pantalla)"
   ]
  },
  {
   "cell_type": "code",
   "execution_count": 2,
   "metadata": {},
   "outputs": [
    {
     "name": "stdout",
     "output_type": "stream",
     "text": [
      "   /|\n",
      "  / |\n",
      " /  |\n",
      "/___|\n"
     ]
    }
   ],
   "source": [
    "print(\"   /|\")\n",
    "print(\"  / |\")\n",
    "print(\" /  |\")\n",
    "print(\"/___|\")"
   ]
  },
  {
   "cell_type": "markdown",
   "metadata": {},
   "source": [
    "La consola: Le decimos a python que escriba algo en la consola con print(). Para ver lo que nuestro programa esta haciendo.\n",
    "Python mira tus instrucción en orden, cada línea es una instrucción*. "
   ]
  },
  {
   "cell_type": "code",
   "execution_count": 3,
   "metadata": {},
   "outputs": [
    {
     "name": "stdout",
     "output_type": "stream",
     "text": [
      "   /|\n",
      "  / |\n",
      "/___|\n",
      " /  |\n"
     ]
    }
   ],
   "source": [
    "print(\"   /|\")\n",
    "print(\"  / |\")\n",
    "print(\"/___|\")\n",
    "print(\" /  |\")"
   ]
  },
  {
   "cell_type": "markdown",
   "metadata": {},
   "source": [
    "El orden **importa**"
   ]
  },
  {
   "cell_type": "markdown",
   "metadata": {},
   "source": [
    "-------\n",
    "# Variables y Tipos de datos\n",
    "\n",
    "Trabajos con datos, en Python esos datos se pueden guardar en lo que llamamos **variables**.\n",
    "\n",
    "Variables son contenidores donde ponemos nuestros valores de datos.\n",
    "\n",
    "Facilita trabajar con los datos en nuestro programa."
   ]
  },
  {
   "cell_type": "code",
   "execution_count": 4,
   "metadata": {},
   "outputs": [
    {
     "name": "stdout",
     "output_type": "stream",
     "text": [
      "Hace tiempo habia un hombre llamado Juan, \n",
      "tenia 70 años. \n",
      "Le gustaba mucho que le llamaran Juan, \n",
      "Pero no le gustaba tener 70 años. \n"
     ]
    }
   ],
   "source": [
    "print(\"Hace tiempo habia un hombre llamado Juan, \")\n",
    "print(\"tenia 70 años. \")\n",
    "print(\"Le gustaba mucho que le llamaran Juan, \")\n",
    "print(\"Pero no le gustaba tener 70 años. \")"
   ]
  },
  {
   "cell_type": "markdown",
   "metadata": {},
   "source": [
    "Si queremos cambiar el nombre, hay que cambiar todos los valores donde aparezca -> Ineficiente\n",
    "Por eso usamos **variables**!\n",
    "Usamos a variable para guardar el nombre y la edad."
   ]
  },
  {
   "cell_type": "markdown",
   "metadata": {},
   "source": [
    "Para crear una variable Python requiere:\n",
    "* Nombre de la variable\n",
    "* Valor"
   ]
  },
  {
   "cell_type": "code",
   "execution_count": 5,
   "metadata": {},
   "outputs": [
    {
     "name": "stdout",
     "output_type": "stream",
     "text": [
      "Hace tiempo habia un hombre llamado Juan, \n",
      "tenia 70 años. \n",
      "Le gustaba mucho que le llamaran Juan, \n",
      "Pero no le gustaba tener 70 años. \n"
     ]
    }
   ],
   "source": [
    "nombre_personaje  = \"Juan\"\n",
    "edad_personaje = \"70\"\n",
    "\n",
    "print(\"Hace tiempo habia un hombre llamado \" + nombre_personaje + \", \")\n",
    "print(\"tenia \"+ edad_personaje +\" años. \")\n",
    "print(\"Le gustaba mucho que le llamaran \"+ nombre_personaje +\", \")\n",
    "print(\"Pero no le gustaba tener \"+ edad_personaje+\" años. \")"
   ]
  },
  {
   "cell_type": "markdown",
   "metadata": {},
   "source": [
    "Ahora podemos cambiar los datos fácilmente. Podemos modificar la variable cuando queramos."
   ]
  },
  {
   "cell_type": "code",
   "execution_count": 6,
   "metadata": {},
   "outputs": [
    {
     "name": "stdout",
     "output_type": "stream",
     "text": [
      "Hace tiempo habia un hombre llamado Juan, \n",
      "tenia 35 años. \n",
      "Le gustaba mucho que le llamaran Peter, \n",
      "Pero no le gustaba tener 35 años. \n"
     ]
    }
   ],
   "source": [
    "nombre_personaje  = \"Juan\"\n",
    "edad_personaje = \"35\"\n",
    "\n",
    "print(\"Hace tiempo habia un hombre llamado \" + nombre_personaje + \", \")\n",
    "print(\"tenia \"+ edad_personaje +\" años. \")\n",
    "\n",
    "nombre_personaje  = \"Peter\"\n",
    "print(\"Le gustaba mucho que le llamaran \"+ nombre_personaje +\", \")\n",
    "print(\"Pero no le gustaba tener \"+ edad_personaje+\" años. \")"
   ]
  },
  {
   "cell_type": "markdown",
   "metadata": {},
   "source": [
    "## Tipos de variables\n",
    " \n",
    "* **Strings**: Podemos guardar texto en variables llamadas \"String\". En Python: str.\n",
    "* **Integers**: También podemos guardar números, o \"Integers\". No necesitamos comillas. En Python: int.\n",
    "* **Floats**: Si queremos decimales. En Python: float.\n",
    "* **Booleans**: verdad o mentira, True or False. En Python: bool\n",
    "* ..."
   ]
  },
  {
   "cell_type": "markdown",
   "metadata": {},
   "source": [
    "Boolean comparar en 0s y 1s "
   ]
  },
  {
   "cell_type": "code",
   "execution_count": 7,
   "metadata": {},
   "outputs": [],
   "source": [
    "nombre_personaje  = \"Juan\"\n",
    "edad_personaje = 35\n",
    "es_hombre = True"
   ]
  },
  {
   "cell_type": "markdown",
   "metadata": {},
   "source": [
    "-------\n",
    "## Strings"
   ]
  },
  {
   "cell_type": "code",
   "execution_count": 8,
   "metadata": {},
   "outputs": [
    {
     "name": "stdout",
     "output_type": "stream",
     "text": [
      "Curso Mataro\n"
     ]
    }
   ],
   "source": [
    "print(\"Curso Mataro\")"
   ]
  },
  {
   "cell_type": "code",
   "execution_count": 9,
   "metadata": {},
   "outputs": [
    {
     "name": "stdout",
     "output_type": "stream",
     "text": [
      "Curso\" Mataro\n"
     ]
    }
   ],
   "source": [
    "print(\"Curso\\\" Mataro\")"
   ]
  },
  {
   "cell_type": "code",
   "execution_count": 10,
   "metadata": {},
   "outputs": [
    {
     "name": "stdout",
     "output_type": "stream",
     "text": [
      "Curso Mataro\n"
     ]
    }
   ],
   "source": [
    "frase = \"Curso Mataro\"\n",
    "print(frase)"
   ]
  },
  {
   "cell_type": "markdown",
   "metadata": {},
   "source": [
    "Concatenación:"
   ]
  },
  {
   "cell_type": "code",
   "execution_count": 11,
   "metadata": {},
   "outputs": [
    {
     "name": "stdout",
     "output_type": "stream",
     "text": [
      "Curso Mataro está bien\n"
     ]
    }
   ],
   "source": [
    "print(frase + \" está bien\")"
   ]
  },
  {
   "cell_type": "markdown",
   "metadata": {},
   "source": [
    "### Functions (Métodos o funciones)\n",
    "\n",
    "Colección de código que hace algo."
   ]
  },
  {
   "cell_type": "code",
   "execution_count": 12,
   "metadata": {},
   "outputs": [
    {
     "name": "stdout",
     "output_type": "stream",
     "text": [
      "curso mataro\n"
     ]
    }
   ],
   "source": [
    "print(frase.lower())"
   ]
  },
  {
   "cell_type": "code",
   "execution_count": 13,
   "metadata": {},
   "outputs": [
    {
     "name": "stdout",
     "output_type": "stream",
     "text": [
      "CURSO MATARO\n"
     ]
    }
   ],
   "source": [
    "print(frase.upper())"
   ]
  },
  {
   "cell_type": "code",
   "execution_count": 14,
   "metadata": {},
   "outputs": [
    {
     "name": "stdout",
     "output_type": "stream",
     "text": [
      "False\n"
     ]
    }
   ],
   "source": [
    "print(frase.isupper())"
   ]
  },
  {
   "cell_type": "code",
   "execution_count": 15,
   "metadata": {},
   "outputs": [
    {
     "name": "stdout",
     "output_type": "stream",
     "text": [
      "True\n"
     ]
    }
   ],
   "source": [
    "print(frase.upper().isupper())"
   ]
  },
  {
   "cell_type": "code",
   "execution_count": 16,
   "metadata": {},
   "outputs": [
    {
     "name": "stdout",
     "output_type": "stream",
     "text": [
      "12\n"
     ]
    }
   ],
   "source": [
    "print(len(frase))"
   ]
  },
  {
   "cell_type": "code",
   "execution_count": 17,
   "metadata": {},
   "outputs": [
    {
     "name": "stdout",
     "output_type": "stream",
     "text": [
      "C\n"
     ]
    }
   ],
   "source": [
    "print(frase[0])"
   ]
  },
  {
   "cell_type": "markdown",
   "metadata": {},
   "source": [
    "**Empieza en el 0 !!**"
   ]
  },
  {
   "cell_type": "code",
   "execution_count": 18,
   "metadata": {},
   "outputs": [
    {
     "name": "stdout",
     "output_type": "stream",
     "text": [
      "Curso Mataro\n"
     ]
    }
   ],
   "source": [
    "print(frase)"
   ]
  },
  {
   "cell_type": "code",
   "execution_count": 19,
   "metadata": {},
   "outputs": [
    {
     "name": "stdout",
     "output_type": "stream",
     "text": [
      "M\n"
     ]
    }
   ],
   "source": [
    "print(frase[6])"
   ]
  },
  {
   "cell_type": "markdown",
   "metadata": {},
   "source": [
    "### Parámetros"
   ]
  },
  {
   "cell_type": "code",
   "execution_count": 20,
   "metadata": {},
   "outputs": [
    {
     "name": "stdout",
     "output_type": "stream",
     "text": [
      "6\n"
     ]
    }
   ],
   "source": [
    "print(frase.index(\"M\"))"
   ]
  },
  {
   "cell_type": "code",
   "execution_count": 21,
   "metadata": {},
   "outputs": [
    {
     "name": "stdout",
     "output_type": "stream",
     "text": [
      "Tutorial Mataro\n"
     ]
    }
   ],
   "source": [
    "print(frase.replace(\"Curso\", \"Tutorial\"))"
   ]
  },
  {
   "cell_type": "markdown",
   "metadata": {},
   "source": [
    "------\n",
    "## Integers (Números)\n",
    "\n",
    "- `()` parentheses, for grouping\n",
    "- `**` exponent\n",
    "- `*`, `/` multiplication and division\n",
    "- `+`, `-` addition and subtraction\n",
    "- `==`, `!=`, `<`, `<=`, `>`, `>=` comparisons"
   ]
  },
  {
   "cell_type": "code",
   "execution_count": 22,
   "metadata": {},
   "outputs": [
    {
     "name": "stdout",
     "output_type": "stream",
     "text": [
      "2\n"
     ]
    }
   ],
   "source": [
    "print(2)"
   ]
  },
  {
   "cell_type": "code",
   "execution_count": 23,
   "metadata": {},
   "outputs": [
    {
     "name": "stdout",
     "output_type": "stream",
     "text": [
      "2.0987\n"
     ]
    }
   ],
   "source": [
    "print(2.0987)"
   ]
  },
  {
   "cell_type": "code",
   "execution_count": 24,
   "metadata": {},
   "outputs": [
    {
     "name": "stdout",
     "output_type": "stream",
     "text": [
      "-2.0987\n"
     ]
    }
   ],
   "source": [
    "print(-2.0987)"
   ]
  },
  {
   "cell_type": "code",
   "execution_count": 25,
   "metadata": {},
   "outputs": [
    {
     "name": "stdout",
     "output_type": "stream",
     "text": [
      "7\n"
     ]
    }
   ],
   "source": [
    "print( 3 + 4 )"
   ]
  },
  {
   "cell_type": "code",
   "execution_count": 26,
   "metadata": {},
   "outputs": [
    {
     "name": "stdout",
     "output_type": "stream",
     "text": [
      "-1.5\n"
     ]
    }
   ],
   "source": [
    "print(3 - 4.5)"
   ]
  },
  {
   "cell_type": "code",
   "execution_count": 27,
   "metadata": {},
   "outputs": [
    {
     "name": "stdout",
     "output_type": "stream",
     "text": [
      "3.0\n"
     ]
    }
   ],
   "source": [
    "print(6 / 2)"
   ]
  },
  {
   "cell_type": "code",
   "execution_count": 28,
   "metadata": {},
   "outputs": [
    {
     "name": "stdout",
     "output_type": "stream",
     "text": [
      "17\n"
     ]
    }
   ],
   "source": [
    "print(3 * 4 + 5)"
   ]
  },
  {
   "cell_type": "code",
   "execution_count": 29,
   "metadata": {},
   "outputs": [
    {
     "name": "stdout",
     "output_type": "stream",
     "text": [
      "27\n"
     ]
    }
   ],
   "source": [
    "print(3 * (4 + 5))"
   ]
  },
  {
   "cell_type": "code",
   "execution_count": 30,
   "metadata": {},
   "outputs": [
    {
     "name": "stdout",
     "output_type": "stream",
     "text": [
      "1\n"
     ]
    }
   ],
   "source": [
    "print(10 % 3)"
   ]
  },
  {
   "cell_type": "code",
   "execution_count": 31,
   "metadata": {},
   "outputs": [
    {
     "name": "stdout",
     "output_type": "stream",
     "text": [
      "5\n"
     ]
    }
   ],
   "source": [
    "mi_num = 5\n",
    "print(mi_num)"
   ]
  },
  {
   "cell_type": "code",
   "execution_count": 32,
   "metadata": {},
   "outputs": [
    {
     "ename": "TypeError",
     "evalue": "unsupported operand type(s) for +: 'int' and 'str'",
     "output_type": "error",
     "traceback": [
      "\u001b[0;31m---------------------------------------------------------------------------\u001b[0m",
      "\u001b[0;31mTypeError\u001b[0m                                 Traceback (most recent call last)",
      "\u001b[0;32m<ipython-input-32-6632bc84006c>\u001b[0m in \u001b[0;36m<module>\u001b[0;34m\u001b[0m\n\u001b[0;32m----> 1\u001b[0;31m \u001b[0mprint\u001b[0m\u001b[0;34m(\u001b[0m\u001b[0mmi_num\u001b[0m \u001b[0;34m+\u001b[0m \u001b[0;34m\" mi número favorito\"\u001b[0m\u001b[0;34m)\u001b[0m\u001b[0;34m\u001b[0m\u001b[0;34m\u001b[0m\u001b[0m\n\u001b[0m",
      "\u001b[0;31mTypeError\u001b[0m: unsupported operand type(s) for +: 'int' and 'str'"
     ]
    }
   ],
   "source": [
    "print(mi_num + \" mi número favorito\")"
   ]
  },
  {
   "cell_type": "code",
   "execution_count": 60,
   "metadata": {},
   "outputs": [
    {
     "name": "stdout",
     "output_type": "stream",
     "text": [
      "5 mi número favorito\n"
     ]
    }
   ],
   "source": [
    "print(str(mi_num) + \" mi número favorito\")"
   ]
  },
  {
   "cell_type": "markdown",
   "metadata": {},
   "source": [
    "### Functiones "
   ]
  },
  {
   "cell_type": "code",
   "execution_count": 62,
   "metadata": {},
   "outputs": [
    {
     "name": "stdout",
     "output_type": "stream",
     "text": [
      "5\n"
     ]
    }
   ],
   "source": [
    "mi_num = -5\n",
    "print(abs(mi_num))"
   ]
  },
  {
   "cell_type": "code",
   "execution_count": 65,
   "metadata": {},
   "outputs": [
    {
     "name": "stdout",
     "output_type": "stream",
     "text": [
      "9\n"
     ]
    }
   ],
   "source": [
    "print(pow(3, 2))"
   ]
  },
  {
   "cell_type": "code",
   "execution_count": 66,
   "metadata": {},
   "outputs": [
    {
     "name": "stdout",
     "output_type": "stream",
     "text": [
      "6\n"
     ]
    }
   ],
   "source": [
    "print(max(4, 6))"
   ]
  },
  {
   "cell_type": "code",
   "execution_count": 67,
   "metadata": {},
   "outputs": [
    {
     "name": "stdout",
     "output_type": "stream",
     "text": [
      "4\n"
     ]
    }
   ],
   "source": [
    "print(min(4, 6))"
   ]
  },
  {
   "cell_type": "markdown",
   "metadata": {},
   "source": [
    "Errudinir"
   ]
  },
  {
   "cell_type": "code",
   "execution_count": 69,
   "metadata": {},
   "outputs": [
    {
     "name": "stdout",
     "output_type": "stream",
     "text": [
      "3\n",
      "4\n"
     ]
    }
   ],
   "source": [
    "print(round(3.2))\n",
    "print(round(3.7))"
   ]
  },
  {
   "cell_type": "markdown",
   "metadata": {},
   "source": [
    "## Importar mas functiones"
   ]
  },
  {
   "cell_type": "code",
   "execution_count": 71,
   "metadata": {},
   "outputs": [
    {
     "name": "stdout",
     "output_type": "stream",
     "text": [
      "3\n"
     ]
    }
   ],
   "source": [
    "from math import *\n",
    "\n",
    "print(floor(3.7))"
   ]
  },
  {
   "cell_type": "code",
   "execution_count": 72,
   "metadata": {},
   "outputs": [
    {
     "name": "stdout",
     "output_type": "stream",
     "text": [
      "6.0\n"
     ]
    }
   ],
   "source": [
    "print(sqrt(36)) # arrel cuadrada"
   ]
  },
  {
   "cell_type": "markdown",
   "metadata": {},
   "source": [
    "Hay muchas mas funciones: https://docs.python.org/3/library/math.html"
   ]
  },
  {
   "cell_type": "markdown",
   "metadata": {},
   "source": [
    "------\n",
    "## Input"
   ]
  },
  {
   "cell_type": "markdown",
   "metadata": {},
   "source": [
    "Recibir información del usuario."
   ]
  },
  {
   "cell_type": "code",
   "execution_count": 74,
   "metadata": {},
   "outputs": [
    {
     "name": "stdin",
     "output_type": "stream",
     "text": [
      " Hola\n"
     ]
    },
    {
     "data": {
      "text/plain": [
       "'Hola'"
      ]
     },
     "execution_count": 74,
     "metadata": {},
     "output_type": "execute_result"
    }
   ],
   "source": [
    "input()"
   ]
  },
  {
   "cell_type": "code",
   "execution_count": 75,
   "metadata": {},
   "outputs": [
    {
     "name": "stdin",
     "output_type": "stream",
     "text": [
      "¿Como te llamas? Jan\n"
     ]
    },
    {
     "data": {
      "text/plain": [
       "'Jan'"
      ]
     },
     "execution_count": 75,
     "metadata": {},
     "output_type": "execute_result"
    }
   ],
   "source": [
    "input(\"¿Como te llamas?\")"
   ]
  },
  {
   "cell_type": "code",
   "execution_count": 77,
   "metadata": {},
   "outputs": [
    {
     "name": "stdin",
     "output_type": "stream",
     "text": [
      "¿Cómo te llamas? Jan\n"
     ]
    },
    {
     "name": "stdout",
     "output_type": "stream",
     "text": [
      "Hola Jan!\n"
     ]
    }
   ],
   "source": [
    "nombre = input(\"¿Cómo te llamas?\")\n",
    "print(\"Hola \"+nombre+\"!\")"
   ]
  },
  {
   "cell_type": "code",
   "execution_count": 81,
   "metadata": {},
   "outputs": [
    {
     "name": "stdin",
     "output_type": "stream",
     "text": [
      "¿Cuántos años tienes? 23\n"
     ]
    },
    {
     "name": "stdout",
     "output_type": "stream",
     "text": [
      "Tienes 23 años.\n"
     ]
    }
   ],
   "source": [
    "edad = input(\"¿Cuántos años tienes?\")\n",
    "print(\"Tienes \"+edad+\" años.\")"
   ]
  },
  {
   "cell_type": "markdown",
   "metadata": {},
   "source": [
    "## Crear una calculadora básica"
   ]
  },
  {
   "cell_type": "markdown",
   "metadata": {},
   "source": [
    "Conseguir dos números del usuario y printear el resulta de la suma."
   ]
  },
  {
   "cell_type": "code",
   "execution_count": 84,
   "metadata": {},
   "outputs": [
    {
     "name": "stdin",
     "output_type": "stream",
     "text": [
      "Introduce un número: 2\n",
      "Introduce otro número: 3\n"
     ]
    },
    {
     "name": "stdout",
     "output_type": "stream",
     "text": [
      "23\n"
     ]
    }
   ],
   "source": [
    "num1 = input(\"Introduce un número:\")\n",
    "num2 = input(\"Introduce otro número:\")\n",
    "resultado = num1 + num2\n",
    "print(resultado)"
   ]
  },
  {
   "cell_type": "markdown",
   "metadata": {},
   "source": [
    "Problema? Python convierte el input a String. Tenemos que cambiarlo a int (número)."
   ]
  },
  {
   "cell_type": "code",
   "execution_count": 85,
   "metadata": {},
   "outputs": [
    {
     "name": "stdin",
     "output_type": "stream",
     "text": [
      "Introduce un número: 2\n",
      "Introduce otro número: 3\n"
     ]
    },
    {
     "name": "stdout",
     "output_type": "stream",
     "text": [
      "5\n"
     ]
    }
   ],
   "source": [
    "num1 = input(\"Introduce un número:\")\n",
    "num2 = input(\"Introduce otro número:\")\n",
    "resultado = int(num1) + int(num2)\n",
    "print(resultado)"
   ]
  },
  {
   "cell_type": "markdown",
   "metadata": {},
   "source": [
    "Otro problema... decimales!!"
   ]
  },
  {
   "cell_type": "code",
   "execution_count": 86,
   "metadata": {},
   "outputs": [
    {
     "name": "stdin",
     "output_type": "stream",
     "text": [
      "Introduce un número: 2\n",
      "Introduce otro número: 3.5\n"
     ]
    },
    {
     "ename": "ValueError",
     "evalue": "invalid literal for int() with base 10: '3.5'",
     "output_type": "error",
     "traceback": [
      "\u001b[0;31m---------------------------------------------------------------------------\u001b[0m",
      "\u001b[0;31mValueError\u001b[0m                                Traceback (most recent call last)",
      "\u001b[0;32m<ipython-input-86-f33ecbbeb0c1>\u001b[0m in \u001b[0;36m<module>\u001b[0;34m\u001b[0m\n\u001b[1;32m      1\u001b[0m \u001b[0mnum1\u001b[0m \u001b[0;34m=\u001b[0m \u001b[0minput\u001b[0m\u001b[0;34m(\u001b[0m\u001b[0;34m\"Introduce un número:\"\u001b[0m\u001b[0;34m)\u001b[0m\u001b[0;34m\u001b[0m\u001b[0;34m\u001b[0m\u001b[0m\n\u001b[1;32m      2\u001b[0m \u001b[0mnum2\u001b[0m \u001b[0;34m=\u001b[0m \u001b[0minput\u001b[0m\u001b[0;34m(\u001b[0m\u001b[0;34m\"Introduce otro número:\"\u001b[0m\u001b[0;34m)\u001b[0m\u001b[0;34m\u001b[0m\u001b[0;34m\u001b[0m\u001b[0m\n\u001b[0;32m----> 3\u001b[0;31m \u001b[0mresultado\u001b[0m \u001b[0;34m=\u001b[0m \u001b[0mint\u001b[0m\u001b[0;34m(\u001b[0m\u001b[0mnum1\u001b[0m\u001b[0;34m)\u001b[0m \u001b[0;34m+\u001b[0m \u001b[0mint\u001b[0m\u001b[0;34m(\u001b[0m\u001b[0mnum2\u001b[0m\u001b[0;34m)\u001b[0m\u001b[0;34m\u001b[0m\u001b[0;34m\u001b[0m\u001b[0m\n\u001b[0m\u001b[1;32m      4\u001b[0m \u001b[0mprint\u001b[0m\u001b[0;34m(\u001b[0m\u001b[0mresultado\u001b[0m\u001b[0;34m)\u001b[0m\u001b[0;34m\u001b[0m\u001b[0;34m\u001b[0m\u001b[0m\n",
      "\u001b[0;31mValueError\u001b[0m: invalid literal for int() with base 10: '3.5'"
     ]
    }
   ],
   "source": [
    "num1 = input(\"Introduce un número:\")\n",
    "num2 = input(\"Introduce otro número:\")\n",
    "resultado = int(num1) + int(num2)\n",
    "print(resultado)"
   ]
  },
  {
   "cell_type": "code",
   "execution_count": 87,
   "metadata": {},
   "outputs": [
    {
     "name": "stdin",
     "output_type": "stream",
     "text": [
      "Introduce un número: 2\n",
      "Introduce otro número: 3.5\n"
     ]
    },
    {
     "name": "stdout",
     "output_type": "stream",
     "text": [
      "5.5\n"
     ]
    }
   ],
   "source": [
    "num1 = input(\"Introduce un número:\")\n",
    "num2 = input(\"Introduce otro número:\")\n",
    "resultado = float(num1) + float(num2)\n",
    "print(resultado)"
   ]
  },
  {
   "cell_type": "code",
   "execution_count": 88,
   "metadata": {},
   "outputs": [
    {
     "name": "stdin",
     "output_type": "stream",
     "text": [
      "Introduce un número: 2\n",
      "Introduce otro número: 3\n"
     ]
    },
    {
     "name": "stdout",
     "output_type": "stream",
     "text": [
      "5.0\n"
     ]
    }
   ],
   "source": [
    "num1 = float(input(\"Introduce un número:\"))\n",
    "num2 = float(input(\"Introduce otro número:\"))\n",
    "resultado = num1 + num2\n",
    "print(resultado)"
   ]
  },
  {
   "cell_type": "markdown",
   "metadata": {},
   "source": [
    "-----\n",
    "## Juego \"MadLibs\" \n",
    "\n",
    "Juego donde introduces nombres, verbos, colores, y otras palabras, y pones esas palabras en una historia.\n",
    "\n",
    "https://www.google.com/search?q=madlibs&rlz=1C5CHFA_enES859ES859&sxsrf=ALeKk02bs-cKucn04nuZGLejz7bNNeqOew:1611067727728&source=lnms&tbm=isch&sa=X&ved=2ahUKEwjP1_r8nqjuAhXO0aQKHcuTABUQ_AUoAXoECAsQAw&biw=1441&bih=708#imgrc=VB7lSfI59Rm3dM"
   ]
  },
  {
   "cell_type": "code",
   "execution_count": 2,
   "metadata": {},
   "outputs": [
    {
     "name": "stdout",
     "output_type": "stream",
     "text": [
      "Las rosas son rojas\n",
      "Las violetas azules\n",
      "algunos poemas riman\n",
      "pero este no\n"
     ]
    }
   ],
   "source": [
    "print(\"Las rosas son rojas\")\n",
    "print(\"Las violetas azules\")\n",
    "print(\"algunos poemas riman\")\n",
    "print(\"pero este no\")"
   ]
  },
  {
   "cell_type": "code",
   "execution_count": 4,
   "metadata": {},
   "outputs": [
    {
     "name": "stdout",
     "output_type": "stream",
     "text": [
      "Las rosas son {color}\n",
      "{nombre plural} azules\n",
      "algunos poemas {verbo}\n",
      "pero este no\n"
     ]
    }
   ],
   "source": [
    "print(\"Las rosas son {color}\")\n",
    "print(\"{nombre plural} azules\")\n",
    "print(\"algunos poemas {verbo}\")\n",
    "print(\"pero este no\")"
   ]
  },
  {
   "cell_type": "code",
   "execution_count": 6,
   "metadata": {},
   "outputs": [
    {
     "name": "stdin",
     "output_type": "stream",
     "text": [
      "Introduce un color:  magenta\n",
      "Introduce un nombre plural:  Pantalones\n",
      "Introduce un verbo terminado en -an:  cantan\n"
     ]
    },
    {
     "name": "stdout",
     "output_type": "stream",
     "text": [
      "Las rosas son magenta\n",
      "Pantalones azules\n",
      "algunos poemas cantan\n",
      "pero este no\n"
     ]
    }
   ],
   "source": [
    "color = input(\"Introduce un color: \")\n",
    "nombre_plural = input(\"Introduce un nombre plural: \")\n",
    "verbo = input(\"Introduce un verbo terminado en -an: \")\n",
    "print(\"Las rosas son \"+color)\n",
    "print(nombre_plural+\" azules\")\n",
    "print(\"algunos poemas \"+verbo)\n",
    "print(\"pero este no\")"
   ]
  },
  {
   "cell_type": "markdown",
   "metadata": {},
   "source": [
    "----\n",
    "## Listas  *(Segunda hora)*\n",
    "\n",
    "Creamos una lista como creamos una variable"
   ]
  },
  {
   "cell_type": "code",
   "execution_count": 11,
   "metadata": {},
   "outputs": [
    {
     "name": "stdout",
     "output_type": "stream",
     "text": [
      "['Juan', 'Peter', 'Oscar']\n"
     ]
    }
   ],
   "source": [
    "amigos = [\"Juan\", \"Peter\", \"Oscar\"]\n",
    "print(amigos)"
   ]
  },
  {
   "cell_type": "markdown",
   "metadata": {},
   "source": [
    "Sirve para guardar mas valores en una sola variable.\n",
    "\n",
    "Si queremos un valor en concreto tenemos que saber su índice.\n",
    "amigos = [\"Juan\", \"Peter\", \"Oscar\"]\n",
    "índices =    0        1        2"
   ]
  },
  {
   "cell_type": "code",
   "execution_count": 13,
   "metadata": {},
   "outputs": [
    {
     "name": "stdout",
     "output_type": "stream",
     "text": [
      "Juan\n"
     ]
    }
   ],
   "source": [
    "print(amigos[0])"
   ]
  },
  {
   "cell_type": "code",
   "execution_count": 14,
   "metadata": {},
   "outputs": [
    {
     "name": "stdout",
     "output_type": "stream",
     "text": [
      "Oscar\n"
     ]
    }
   ],
   "source": [
    "print(amigos[-1]) "
   ]
  },
  {
   "cell_type": "code",
   "execution_count": 15,
   "metadata": {},
   "outputs": [
    {
     "name": "stdout",
     "output_type": "stream",
     "text": [
      "['Peter', 'Oscar']\n"
     ]
    }
   ],
   "source": [
    "print(amigos[1:])"
   ]
  },
  {
   "cell_type": "code",
   "execution_count": 17,
   "metadata": {},
   "outputs": [
    {
     "name": "stdout",
     "output_type": "stream",
     "text": [
      "['Juan', 'Peter', 'Oscar', 'Maria', 'Marta']\n"
     ]
    }
   ],
   "source": [
    "amigos = [\"Juan\", \"Peter\", \"Oscar\", \"Maria\", \"Marta\"]\n",
    "print(amigos)"
   ]
  },
  {
   "cell_type": "code",
   "execution_count": 19,
   "metadata": {},
   "outputs": [
    {
     "name": "stdout",
     "output_type": "stream",
     "text": [
      "['Peter', 'Oscar', 'Maria']\n"
     ]
    }
   ],
   "source": [
    "print(amigos[1:4])"
   ]
  },
  {
   "cell_type": "code",
   "execution_count": 20,
   "metadata": {},
   "outputs": [],
   "source": [
    "amigos[1] = \"Inés\""
   ]
  },
  {
   "cell_type": "code",
   "execution_count": 21,
   "metadata": {},
   "outputs": [
    {
     "name": "stdout",
     "output_type": "stream",
     "text": [
      "['Juan', 'Inés', 'Oscar', 'Maria', 'Marta']\n"
     ]
    }
   ],
   "source": [
    "print(amigos)"
   ]
  },
  {
   "cell_type": "markdown",
   "metadata": {},
   "source": [
    "### Funciones de Listas"
   ]
  },
  {
   "cell_type": "code",
   "execution_count": 37,
   "metadata": {},
   "outputs": [
    {
     "name": "stdout",
     "output_type": "stream",
     "text": [
      "[4, 8, 15, 16, 23, 42]\n"
     ]
    }
   ],
   "source": [
    "amigos = [\"Juan\", \"Peter\", \"Oscar\", \"Maria\", \"Marta\"]\n",
    "nums = [4, 8, 15, 16, 23, 42]\n",
    "print(numeros_importantes)"
   ]
  },
  {
   "cell_type": "markdown",
   "metadata": {},
   "source": [
    "Añadir un valor:"
   ]
  },
  {
   "cell_type": "code",
   "execution_count": 38,
   "metadata": {},
   "outputs": [
    {
     "name": "stdout",
     "output_type": "stream",
     "text": [
      "[4, 8, 15, 16, 23, 42, 2]\n"
     ]
    }
   ],
   "source": [
    "nums.append(2)\n",
    "print(nums)"
   ]
  },
  {
   "cell_type": "code",
   "execution_count": 39,
   "metadata": {},
   "outputs": [
    {
     "name": "stdout",
     "output_type": "stream",
     "text": [
      "['Juan', 'Peter', 'Oscar', 'Maria', 'Marta', 'Inés']\n"
     ]
    }
   ],
   "source": [
    "amigos.append(\"Inés\")\n",
    "print(amigos)"
   ]
  },
  {
   "cell_type": "code",
   "execution_count": 40,
   "metadata": {},
   "outputs": [
    {
     "name": "stdout",
     "output_type": "stream",
     "text": [
      "['Juan', 'Peter', 'Oscar', 'Maria', 'Marta', 'Inés', 4, 8, 15, 16, 23, 42, 2]\n"
     ]
    }
   ],
   "source": [
    "amigos.extend(nums)\n",
    "print(amigos)"
   ]
  },
  {
   "cell_type": "code",
   "execution_count": 46,
   "metadata": {},
   "outputs": [
    {
     "name": "stdout",
     "output_type": "stream",
     "text": [
      "['Juan', 'Inés', 'Peter', 'Oscar', 'Maria', 'Marta']\n"
     ]
    }
   ],
   "source": [
    "amigos = [\"Juan\", \"Peter\", \"Oscar\", \"Maria\", \"Marta\"]\n",
    "amigos.insert(1, \"Inés\")\n",
    "print(amigos)"
   ]
  },
  {
   "cell_type": "code",
   "execution_count": 47,
   "metadata": {},
   "outputs": [
    {
     "name": "stdout",
     "output_type": "stream",
     "text": [
      "['Juan', 'Inés', 'Oscar', 'Maria', 'Marta']\n"
     ]
    }
   ],
   "source": [
    "amigos.remove(\"Peter\")\n",
    "print(amigos)"
   ]
  },
  {
   "cell_type": "code",
   "execution_count": 48,
   "metadata": {},
   "outputs": [
    {
     "name": "stdout",
     "output_type": "stream",
     "text": [
      "['Juan', 'Inés', 'Oscar', 'Maria']\n"
     ]
    }
   ],
   "source": [
    "amigos.pop()\n",
    "print(amigos)"
   ]
  },
  {
   "cell_type": "code",
   "execution_count": 49,
   "metadata": {},
   "outputs": [
    {
     "name": "stdout",
     "output_type": "stream",
     "text": [
      "[]\n"
     ]
    }
   ],
   "source": [
    "amigos.clear()\n",
    "print(amigos)"
   ]
  },
  {
   "cell_type": "code",
   "execution_count": 51,
   "metadata": {},
   "outputs": [
    {
     "name": "stdout",
     "output_type": "stream",
     "text": [
      "3\n"
     ]
    }
   ],
   "source": [
    "amigos = [\"Juan\", \"Peter\", \"Oscar\", \"Maria\", \"Marta\"]\n",
    "print(amigos.index(\"Maria\"))"
   ]
  },
  {
   "cell_type": "code",
   "execution_count": 52,
   "metadata": {},
   "outputs": [
    {
     "ename": "ValueError",
     "evalue": "'Inés' is not in list",
     "output_type": "error",
     "traceback": [
      "\u001b[0;31m---------------------------------------------------------------------------\u001b[0m",
      "\u001b[0;31mValueError\u001b[0m                                Traceback (most recent call last)",
      "\u001b[0;32m<ipython-input-52-99cb23565e9b>\u001b[0m in \u001b[0;36m<module>\u001b[0;34m\u001b[0m\n\u001b[0;32m----> 1\u001b[0;31m \u001b[0mprint\u001b[0m\u001b[0;34m(\u001b[0m\u001b[0mamigos\u001b[0m\u001b[0;34m.\u001b[0m\u001b[0mindex\u001b[0m\u001b[0;34m(\u001b[0m\u001b[0;34m\"Inés\"\u001b[0m\u001b[0;34m)\u001b[0m\u001b[0;34m)\u001b[0m\u001b[0;34m\u001b[0m\u001b[0;34m\u001b[0m\u001b[0m\n\u001b[0m",
      "\u001b[0;31mValueError\u001b[0m: 'Inés' is not in list"
     ]
    }
   ],
   "source": [
    "print(amigos.index(\"Inés\"))"
   ]
  },
  {
   "cell_type": "code",
   "execution_count": 53,
   "metadata": {},
   "outputs": [
    {
     "name": "stdout",
     "output_type": "stream",
     "text": [
      "2\n"
     ]
    }
   ],
   "source": [
    "amigos = [\"Juan\", \"Peter\", \"Peter\", \"Maria\", \"Marta\"]\n",
    "print(amigos.count(\"Peter\"))"
   ]
  },
  {
   "cell_type": "code",
   "execution_count": 54,
   "metadata": {},
   "outputs": [
    {
     "name": "stdout",
     "output_type": "stream",
     "text": [
      "['Juan', 'Maria', 'Marta', 'Peter', 'Peter']\n"
     ]
    }
   ],
   "source": [
    "amigos.sort()\n",
    "print(amigos)"
   ]
  },
  {
   "cell_type": "code",
   "execution_count": 55,
   "metadata": {},
   "outputs": [
    {
     "name": "stdout",
     "output_type": "stream",
     "text": [
      "[2, 4, 8, 15, 16, 23, 42]\n"
     ]
    }
   ],
   "source": [
    "nums.sort()\n",
    "print(nums)"
   ]
  },
  {
   "cell_type": "code",
   "execution_count": 56,
   "metadata": {},
   "outputs": [
    {
     "name": "stdout",
     "output_type": "stream",
     "text": [
      "[42, 23, 16, 15, 8, 4, 2]\n"
     ]
    }
   ],
   "source": [
    "nums.reverse()\n",
    "print(nums)"
   ]
  },
  {
   "cell_type": "code",
   "execution_count": 57,
   "metadata": {},
   "outputs": [
    {
     "name": "stdout",
     "output_type": "stream",
     "text": [
      "['Juan', 'Maria', 'Marta', 'Peter', 'Peter']\n"
     ]
    }
   ],
   "source": [
    "amigos2 = amigos.copy()\n",
    "print(amigos2)"
   ]
  },
  {
   "cell_type": "markdown",
   "metadata": {},
   "source": [
    "------\n",
    "## Tuplas (Tuples)\n",
    "\n",
    "Otra estructura de datos similar a listas. La diferencia es que las Tuplas son inmutables (no se pueden modificar)."
   ]
  },
  {
   "cell_type": "code",
   "execution_count": 59,
   "metadata": {},
   "outputs": [
    {
     "name": "stdout",
     "output_type": "stream",
     "text": [
      "4\n"
     ]
    }
   ],
   "source": [
    "coordenadas = (4, 5)\n",
    "print(coordenadas[0])"
   ]
  },
  {
   "cell_type": "code",
   "execution_count": 60,
   "metadata": {},
   "outputs": [
    {
     "ename": "TypeError",
     "evalue": "'tuple' object does not support item assignment",
     "output_type": "error",
     "traceback": [
      "\u001b[0;31m---------------------------------------------------------------------------\u001b[0m",
      "\u001b[0;31mTypeError\u001b[0m                                 Traceback (most recent call last)",
      "\u001b[0;32m<ipython-input-60-3035da2c1e32>\u001b[0m in \u001b[0;36m<module>\u001b[0;34m\u001b[0m\n\u001b[0;32m----> 1\u001b[0;31m \u001b[0mcoordenadas\u001b[0m\u001b[0;34m[\u001b[0m\u001b[0;36m0\u001b[0m\u001b[0;34m]\u001b[0m \u001b[0;34m=\u001b[0m \u001b[0;36m3\u001b[0m\u001b[0;34m\u001b[0m\u001b[0;34m\u001b[0m\u001b[0m\n\u001b[0m",
      "\u001b[0;31mTypeError\u001b[0m: 'tuple' object does not support item assignment"
     ]
    }
   ],
   "source": [
    "coordenadas[0] = 3"
   ]
  },
  {
   "cell_type": "code",
   "execution_count": 62,
   "metadata": {},
   "outputs": [
    {
     "name": "stdout",
     "output_type": "stream",
     "text": [
      "[(4, 5), (6, 7), (80, 34)]\n"
     ]
    }
   ],
   "source": [
    "coordenadas = [(4, 5), (6, 7), (80, 34)]\n",
    "print(coordenadas)"
   ]
  },
  {
   "cell_type": "markdown",
   "metadata": {},
   "source": [
    "----\n",
    "## Funciones\n",
    "\n",
    "Collección de código con una **función**, que se puede reusar cuando uno quiera.\n",
    "\n",
    "Para crear una función:\n",
    "* Ponerle un nombre que describa que hace la función.\n",
    "* entre paréntesis, poner los parámetros.\n",
    "* dos puntos, a partir de ahí empieza el código de tu función.\n",
    "* todo el código que este dentro de la función tiene que estar ensangrentado. \n",
    "* cuando termine el sangrentado, termina la función."
   ]
  },
  {
   "cell_type": "code",
   "execution_count": 65,
   "metadata": {},
   "outputs": [],
   "source": [
    "def di_hola():\n",
    "    print(\"Hola usuario\")"
   ]
  },
  {
   "cell_type": "markdown",
   "metadata": {},
   "source": [
    "¿Por qué no aperece el print? Tenemos que **llamar** a la función."
   ]
  },
  {
   "cell_type": "code",
   "execution_count": 66,
   "metadata": {},
   "outputs": [
    {
     "name": "stdout",
     "output_type": "stream",
     "text": [
      "Hola usuario\n"
     ]
    }
   ],
   "source": [
    "di_hola()"
   ]
  },
  {
   "cell_type": "markdown",
   "metadata": {},
   "source": [
    "Flow de las funciones:"
   ]
  },
  {
   "cell_type": "code",
   "execution_count": 68,
   "metadata": {},
   "outputs": [
    {
     "name": "stdout",
     "output_type": "stream",
     "text": [
      "Arriba\n",
      "Hola usuario\n",
      "Abajo\n"
     ]
    }
   ],
   "source": [
    "print(\"Arriba\")\n",
    "di_hola()\n",
    "print(\"Abajo\")"
   ]
  },
  {
   "cell_type": "markdown",
   "metadata": {},
   "source": [
    "### Parámetros\n",
    "\n",
    "Variables (información) que le damos a la función."
   ]
  },
  {
   "cell_type": "code",
   "execution_count": 72,
   "metadata": {},
   "outputs": [
    {
     "name": "stdout",
     "output_type": "stream",
     "text": [
      "Hola Juan\n"
     ]
    }
   ],
   "source": [
    "def di_hola(nombre):\n",
    "    print(\"Hola \"+nombre)\n",
    "    \n",
    "di_hola(\"Juan\")"
   ]
  },
  {
   "cell_type": "code",
   "execution_count": 73,
   "metadata": {},
   "outputs": [
    {
     "name": "stdout",
     "output_type": "stream",
     "text": [
      "Hola Juan de 23 años.\n"
     ]
    }
   ],
   "source": [
    "def di_hola(nombre, edad):\n",
    "    print(\"Hola \"+nombre+\" de \"+str(edad)+\" años.\")\n",
    "    \n",
    "di_hola(\"Juan\", 23)"
   ]
  },
  {
   "cell_type": "markdown",
   "metadata": {},
   "source": [
    "### Declaración Return\n",
    "\n",
    "Si queremos que nuestra función nos devuelva algún valor."
   ]
  },
  {
   "cell_type": "code",
   "execution_count": 77,
   "metadata": {},
   "outputs": [
    {
     "name": "stdout",
     "output_type": "stream",
     "text": [
      "None\n"
     ]
    }
   ],
   "source": [
    "def cubo(num): \n",
    "    num*num*num\n",
    "    \n",
    "print(cubo(3))"
   ]
  },
  {
   "cell_type": "markdown",
   "metadata": {},
   "source": [
    "¿Por qué no muestra el valor elevado a 3? "
   ]
  },
  {
   "cell_type": "code",
   "execution_count": 78,
   "metadata": {},
   "outputs": [
    {
     "name": "stdout",
     "output_type": "stream",
     "text": [
      "27\n"
     ]
    }
   ],
   "source": [
    "def cubo(num): \n",
    "    return num*num*num\n",
    "    \n",
    "print(cubo(3))"
   ]
  },
  {
   "cell_type": "code",
   "execution_count": 79,
   "metadata": {},
   "outputs": [
    {
     "name": "stdout",
     "output_type": "stream",
     "text": [
      "27\n"
     ]
    }
   ],
   "source": [
    "def cubo(num): \n",
    "    return num*num*num\n",
    "    \n",
    "result = cubo(3)\n",
    "print(result)"
   ]
  },
  {
   "cell_type": "markdown",
   "metadata": {},
   "source": [
    "Remarcar que no se puede poner código después de un Return."
   ]
  },
  {
   "cell_type": "markdown",
   "metadata": {},
   "source": [
    "------\n",
    "## Declaración If\n",
    "\n",
    "Estructura de Python (y todos los demás lenguages de programación) que nos permite hacer decisiones, introduce lógica a nuestros programas.\n",
    "\n",
    "Usuando **If** podemos ejecutar código cuando una condición es verdad (**True**) or otro código cuando es mentira (**False**).\n",
    "\n",
    "Mirar if.txt para entenderlo mejor."
   ]
  },
  {
   "cell_type": "code",
   "execution_count": 81,
   "metadata": {},
   "outputs": [
    {
     "name": "stdout",
     "output_type": "stream",
     "text": [
      "Eres un hombre\n"
     ]
    }
   ],
   "source": [
    "es_hombre = True\n",
    "\n",
    "if es_hombre:\n",
    "    print(\"Eres un hombre\")"
   ]
  },
  {
   "cell_type": "code",
   "execution_count": 83,
   "metadata": {},
   "outputs": [],
   "source": [
    "es_hombre = False\n",
    "\n",
    "if es_hombre:\n",
    "    print(\"Eres un hombre\")"
   ]
  },
  {
   "cell_type": "markdown",
   "metadata": {},
   "source": [
    "**Else**"
   ]
  },
  {
   "cell_type": "code",
   "execution_count": 84,
   "metadata": {},
   "outputs": [
    {
     "name": "stdout",
     "output_type": "stream",
     "text": [
      "No eres un hombre\n"
     ]
    }
   ],
   "source": [
    "es_hombre = False\n",
    "\n",
    "if es_hombre:\n",
    "    print(\"Eres un hombre\")\n",
    "else:\n",
    "    print(\"No eres un hombre\")"
   ]
  },
  {
   "cell_type": "markdown",
   "metadata": {},
   "source": [
    "**or**"
   ]
  },
  {
   "cell_type": "code",
   "execution_count": 90,
   "metadata": {},
   "outputs": [
    {
     "name": "stdout",
     "output_type": "stream",
     "text": [
      "Eres un hombre, alto o las dos cosas\n"
     ]
    }
   ],
   "source": [
    "es_hombre = True\n",
    "es_alto = False\n",
    "\n",
    "if es_hombre or es_alto:\n",
    "    print(\"Eres un hombre, alto o las dos cosas\")\n",
    "else:\n",
    "    print(\"No eres ni hombre ni alto\")"
   ]
  },
  {
   "cell_type": "markdown",
   "metadata": {},
   "source": [
    "**and**"
   ]
  },
  {
   "cell_type": "code",
   "execution_count": 91,
   "metadata": {},
   "outputs": [
    {
     "name": "stdout",
     "output_type": "stream",
     "text": [
      "No eres hombre o no eres alto o las dos cosas\n"
     ]
    }
   ],
   "source": [
    "es_hombre = True\n",
    "es_alto = False\n",
    "\n",
    "if es_hombre and es_alto:\n",
    "    print(\"Eres un hombre alto\")\n",
    "else:\n",
    "    print(\"No eres hombre o no eres alto o las dos cosas\")"
   ]
  },
  {
   "cell_type": "markdown",
   "metadata": {},
   "source": [
    "**elif** (else if) y **not**"
   ]
  },
  {
   "cell_type": "code",
   "execution_count": 93,
   "metadata": {},
   "outputs": [
    {
     "name": "stdout",
     "output_type": "stream",
     "text": [
      "Eres un hombre bajo\n"
     ]
    }
   ],
   "source": [
    "es_hombre = True\n",
    "es_alto = False\n",
    "\n",
    "if es_hombre and es_alto:\n",
    "    print(\"Eres un hombre alto\")\n",
    "elif es_hombre and not(es_alto):\n",
    "    print(\"Eres un hombre bajo\")\n",
    "elif not(es_hombre) and es_alto:\n",
    "    print(\"No eres un hombre, pero eres alto\")\n",
    "else:\n",
    "    print(\"No eres ni hombre ni alto\")"
   ]
  },
  {
   "cell_type": "markdown",
   "metadata": {},
   "source": [
    "### Operadores de comparación\n",
    "\n",
    "Podemos usarlos para comparar valores que no sean booleans en un **if**.\n",
    "\n",
    "- comparison operators (return either `True` or `False`)\n",
    "  - **`==`** (equal to)\n",
    "  - **`!=`** (not equal to)\n",
    "  - **`<`** (less than)\n",
    "  - **`<=`** (less than or equal to)\n",
    "  - **`>`** (greater than)\n",
    "  - **`>=`** (greater than or equal to)\n"
   ]
  },
  {
   "cell_type": "code",
   "execution_count": 12,
   "metadata": {},
   "outputs": [
    {
     "name": "stdout",
     "output_type": "stream",
     "text": [
      "5\n"
     ]
    }
   ],
   "source": [
    "def max_num(num1, num2, num3):\n",
    "    if num1 > num2 and num1 > num3:\n",
    "        return num1\n",
    "    elif num2 > num1 and num2 > num3:\n",
    "        return num2\n",
    "    else: \n",
    "        return num3\n",
    "\n",
    "print(max_num(3, 5, 4))"
   ]
  },
  {
   "cell_type": "markdown",
   "metadata": {},
   "source": [
    "Podemos comparar Strings también o cualquier variable."
   ]
  },
  {
   "cell_type": "markdown",
   "metadata": {},
   "source": [
    "## Mejorando la calculadora *(Tercera hora)*"
   ]
  },
  {
   "cell_type": "markdown",
   "metadata": {},
   "source": [
    "Esta calculadora podrá hacer más operaciones y nos ensenyará a usar **if** de forma pràctica."
   ]
  },
  {
   "cell_type": "markdown",
   "metadata": {},
   "source": [
    "* Input del usuario.\n",
    "* Convertir valores.\n",
    "* Condiciones operador.\n",
    "* Hacer operación y print."
   ]
  },
  {
   "cell_type": "code",
   "execution_count": 2,
   "metadata": {},
   "outputs": [
    {
     "name": "stdin",
     "output_type": "stream",
     "text": [
      "Introduce el primer número:  6\n",
      "Introduce el operador:  *\n",
      "Introduce el segundo número:  5.23\n"
     ]
    },
    {
     "name": "stdout",
     "output_type": "stream",
     "text": [
      "31.380000000000003\n"
     ]
    }
   ],
   "source": [
    "num1 = float(input(\"Introduce el primer número: \"))\n",
    "op = input(\"Introduce el operador: \")\n",
    "num2 = float(input(\"Introduce el segundo número: \"))\n",
    "\n",
    "if op == \"+\":\n",
    "    print(num1 + num2)\n",
    "elif op == \"-\":\n",
    "    print(num1 - num2)\n",
    "elif op == \"/\":\n",
    "    print(num1 / num2)\n",
    "elif op == \"*\":\n",
    "    print(num1 * num2)\n",
    "else:\n",
    "    print(\"Operador inválido\")"
   ]
  },
  {
   "cell_type": "markdown",
   "metadata": {},
   "source": [
    "# Diccionarios\n",
    "\n",
    "Estructura especial de Python que nos permite guardar información en pares de \"key\" - \"value\", llave - valor. Diccionario tiene palabras con su definición, de ahí viene el nombre, \"palabra\" == \"key\", \"definición\" == \"value\".\n",
    "\n",
    "1. Definir diccionarió\n",
    "2. brackets { } \n",
    "3. Definir \"palabras\" => \"key\"-\"value\". \"key\" tiene que ser **único**"
   ]
  },
  {
   "cell_type": "code",
   "execution_count": 6,
   "metadata": {},
   "outputs": [],
   "source": [
    "conversion_dia = {\n",
    "    \"lu\": \"lunes\",\n",
    "    \"ma\": \"martes\",\n",
    "    \"mi\": \"miércoles\",\n",
    "    \"ju\": \"jueves\",\n",
    "    \"vi\": \"viernes\"\n",
    "}"
   ]
  },
  {
   "cell_type": "code",
   "execution_count": 7,
   "metadata": {},
   "outputs": [
    {
     "name": "stdout",
     "output_type": "stream",
     "text": [
      "lunes\n"
     ]
    }
   ],
   "source": [
    "print(conversion_dia[\"lu\"])"
   ]
  },
  {
   "cell_type": "code",
   "execution_count": 8,
   "metadata": {},
   "outputs": [
    {
     "name": "stdout",
     "output_type": "stream",
     "text": [
      "jueves\n"
     ]
    }
   ],
   "source": [
    "print(conversion_dia.get(\"ju\"))"
   ]
  },
  {
   "cell_type": "code",
   "execution_count": 10,
   "metadata": {},
   "outputs": [
    {
     "name": "stdout",
     "output_type": "stream",
     "text": [
      "llave no válida\n"
     ]
    }
   ],
   "source": [
    "print(conversion_dia.get(\"en\", \"llave no válida\"))"
   ]
  },
  {
   "cell_type": "markdown",
   "metadata": {},
   "source": [
    "Las llaves también pueden ser ints"
   ]
  },
  {
   "cell_type": "code",
   "execution_count": 11,
   "metadata": {},
   "outputs": [
    {
     "name": "stdout",
     "output_type": "stream",
     "text": [
      "lunes\n"
     ]
    }
   ],
   "source": [
    "conversion_dia = {\n",
    "    0: \"lunes\",\n",
    "    1: \"martes\",\n",
    "    2: \"miércoles\",\n",
    "    3: \"jueves\",\n",
    "    4: \"viernes\"\n",
    "}\n",
    "print(conversion_dia[0])"
   ]
  },
  {
   "cell_type": "markdown",
   "metadata": {},
   "source": [
    "----\n",
    "# While loops"
   ]
  },
  {
   "cell_type": "markdown",
   "metadata": {},
   "source": [
    "Bucles que nos permiten repetir y ejecutar un bloque de código multiples veces."
   ]
  },
  {
   "cell_type": "code",
   "execution_count": 15,
   "metadata": {},
   "outputs": [
    {
     "name": "stdout",
     "output_type": "stream",
     "text": [
      "1\n",
      "2\n",
      "3\n",
      "4\n",
      "5\n",
      "6\n",
      "7\n",
      "8\n",
      "9\n",
      "10\n",
      "Final del loop\n"
     ]
    }
   ],
   "source": [
    "i = 1\n",
    "\n",
    "while i <= 10: # condición\n",
    "    print(i)\n",
    "    i += 1     # i = i + 1\n",
    "\n",
    "print(\"Final del loop\")"
   ]
  },
  {
   "cell_type": "markdown",
   "metadata": {},
   "source": [
    "## Juego de Adivinación"
   ]
  },
  {
   "cell_type": "code",
   "execution_count": 1,
   "metadata": {},
   "outputs": [
    {
     "name": "stdin",
     "output_type": "stream",
     "text": [
      "Adivina un animal:  perro\n",
      "Adivina un animal:  gato\n",
      "Adivina un animal:  girafa\n"
     ]
    },
    {
     "name": "stdout",
     "output_type": "stream",
     "text": [
      "tú ganas!!\n"
     ]
    }
   ],
   "source": [
    "palabra_secreta = \"girafa\"\n",
    "intento = \"\"\n",
    "\n",
    "while intento != palabra_secreta:\n",
    "    intento = input(\"Adivina un animal: \")\n",
    "    \n",
    "print(\"tú ganas!!\")"
   ]
  },
  {
   "cell_type": "code",
   "execution_count": 5,
   "metadata": {},
   "outputs": [
    {
     "name": "stdin",
     "output_type": "stream",
     "text": [
      "Adivina un animal:  perro\n",
      "Adivina un animal:  gato\n",
      "Adivina un animal:  burro\n"
     ]
    },
    {
     "name": "stdout",
     "output_type": "stream",
     "text": [
      "no tienes más intentos, pierdes :(\n"
     ]
    }
   ],
   "source": [
    "palabra_secreta = \"girafa\"\n",
    "intento = \"\"\n",
    "n_intentos = 0\n",
    "limite_intentos = 3\n",
    "no_mas_intentos = False\n",
    "\n",
    "while intento != palabra_secreta and not(no_mas_intentos):\n",
    "    if n_intentos < limite_intentos:\n",
    "        intento = input(\"Adivina un animal: \")\n",
    "        n_intentos += 1\n",
    "    else:\n",
    "        no_mas_intentos = True\n",
    "    \n",
    "if no_mas_intentos:\n",
    "    print(\"no tienes más intentos, pierdes :(\")\n",
    "else:\n",
    "    print(\"tú ganas!!\")"
   ]
  },
  {
   "cell_type": "markdown",
   "metadata": {},
   "source": [
    "-----\n",
    "# For loops\n",
    "\n",
    "Ahora tenemos una variable en cada loop."
   ]
  },
  {
   "cell_type": "code",
   "execution_count": 6,
   "metadata": {},
   "outputs": [
    {
     "name": "stdout",
     "output_type": "stream",
     "text": [
      "C\n",
      "u\n",
      "r\n",
      "s\n",
      "o\n",
      " \n",
      "M\n",
      "a\n",
      "t\n",
      "a\n",
      "r\n",
      "ó\n"
     ]
    }
   ],
   "source": [
    "for letra in \"Curso Mataró\":\n",
    "    print(letra)"
   ]
  },
  {
   "cell_type": "code",
   "execution_count": 7,
   "metadata": {},
   "outputs": [
    {
     "name": "stdout",
     "output_type": "stream",
     "text": [
      "Juan\n",
      "Peter\n",
      "Maria\n"
     ]
    }
   ],
   "source": [
    "amigos = [\"Juan\", \"Peter\", \"Maria\"]\n",
    "for amigo in amigos:\n",
    "    print(amigo)"
   ]
  },
  {
   "cell_type": "code",
   "execution_count": 8,
   "metadata": {},
   "outputs": [
    {
     "name": "stdout",
     "output_type": "stream",
     "text": [
      "0\n",
      "1\n",
      "2\n",
      "3\n",
      "4\n",
      "5\n",
      "6\n",
      "7\n",
      "8\n",
      "9\n"
     ]
    }
   ],
   "source": [
    "for índice in range(10):\n",
    "    print(índice)"
   ]
  },
  {
   "cell_type": "code",
   "execution_count": 9,
   "metadata": {},
   "outputs": [
    {
     "name": "stdout",
     "output_type": "stream",
     "text": [
      "3\n",
      "4\n",
      "5\n",
      "6\n",
      "7\n",
      "8\n",
      "9\n"
     ]
    }
   ],
   "source": [
    "for índice in range(3, 10):\n",
    "    print(índice)"
   ]
  },
  {
   "cell_type": "code",
   "execution_count": 11,
   "metadata": {},
   "outputs": [
    {
     "name": "stdout",
     "output_type": "stream",
     "text": [
      "Juan\n",
      "Peter\n",
      "Maria\n"
     ]
    }
   ],
   "source": [
    "for índice in range(len(amigos)):\n",
    "    print(amigos[índice])\n",
    "    # amigos[0], amigos[1], amigos[2]"
   ]
  },
  {
   "cell_type": "code",
   "execution_count": 12,
   "metadata": {},
   "outputs": [
    {
     "name": "stdout",
     "output_type": "stream",
     "text": [
      "primera iteración\n",
      "No es el primero\n",
      "No es el primero\n",
      "No es el primero\n",
      "No es el primero\n"
     ]
    }
   ],
   "source": [
    "for index in range(5):\n",
    "    if index == 0:\n",
    "        print(\"primera iteración\")\n",
    "    else:\n",
    "        print(\"No es el primero\")"
   ]
  },
  {
   "cell_type": "markdown",
   "metadata": {},
   "source": [
    "No tengas miedo de añadir lógica dentro del **for** loop para hacer tu programa más potente."
   ]
  },
  {
   "cell_type": "markdown",
   "metadata": {},
   "source": [
    "## Ejemplo: Poténcias matemáticas"
   ]
  },
  {
   "cell_type": "code",
   "execution_count": 15,
   "metadata": {},
   "outputs": [
    {
     "name": "stdout",
     "output_type": "stream",
     "text": [
      "8\n"
     ]
    }
   ],
   "source": [
    "print(2**3)"
   ]
  },
  {
   "cell_type": "code",
   "execution_count": 16,
   "metadata": {},
   "outputs": [
    {
     "name": "stdout",
     "output_type": "stream",
     "text": [
      "8\n"
     ]
    }
   ],
   "source": [
    "def elevado_a(num_base, num_potencia):\n",
    "    resultado = 1\n",
    "    for index in range(num_potencia):\n",
    "        resultado = resultado * num_base\n",
    "    return resultado\n",
    "\n",
    "print(elevado_a(2, 3))"
   ]
  },
  {
   "cell_type": "markdown",
   "metadata": {},
   "source": [
    "-----\n",
    "# 2D lists y \"nested loops\""
   ]
  },
  {
   "cell_type": "markdown",
   "metadata": {},
   "source": [
    "Lista dentro de otra lista.\n",
    "\n",
    "Ejemplo con 4 filas y 3 columnas."
   ]
  },
  {
   "cell_type": "code",
   "execution_count": 17,
   "metadata": {},
   "outputs": [],
   "source": [
    "num_cuadrícula = [\n",
    "    [1, 2, 3],\n",
    "    [4, 5, 6],\n",
    "    [7, 8, 9],\n",
    "    [0]\n",
    "]"
   ]
  },
  {
   "cell_type": "code",
   "execution_count": 18,
   "metadata": {},
   "outputs": [
    {
     "name": "stdout",
     "output_type": "stream",
     "text": [
      "1\n"
     ]
    }
   ],
   "source": [
    "print(num_cuadrícula[0][0])"
   ]
  },
  {
   "cell_type": "code",
   "execution_count": 19,
   "metadata": {},
   "outputs": [
    {
     "name": "stdout",
     "output_type": "stream",
     "text": [
      "1\n",
      "2\n",
      "3\n",
      "4\n",
      "5\n",
      "6\n",
      "7\n",
      "8\n",
      "9\n",
      "0\n"
     ]
    }
   ],
   "source": [
    "for fila in num_cuadrícula:\n",
    "    for columna in fila:\n",
    "        print(columna)"
   ]
  },
  {
   "cell_type": "markdown",
   "metadata": {},
   "source": [
    "## Ejemplo: estupidificador  \n",
    "\n",
    "**vocales -> i**\n",
    "\n",
    "perro -> pirri \n",
    "\n",
    "gato -> giti"
   ]
  },
  {
   "cell_type": "code",
   "execution_count": 1,
   "metadata": {},
   "outputs": [
    {
     "name": "stdin",
     "output_type": "stream",
     "text": [
      "Escribe algo inteligente Soy muy inteligente\n"
     ]
    },
    {
     "name": "stdout",
     "output_type": "stream",
     "text": [
      "Siy miy intiliginti\n"
     ]
    }
   ],
   "source": [
    "def traductor_estupido(frase):\n",
    "    traducción = \"\"\n",
    "    for letra in frase:\n",
    "        if letra in \"AEIOUaeiou\":\n",
    "            traducción = traducción + \"i\"\n",
    "        else:\n",
    "            traducción = traducción + letra\n",
    "    return traducción\n",
    "\n",
    "frase = input(\"Escribe algo inteligente\")\n",
    "print(traductor_estupido(frase))"
   ]
  },
  {
   "cell_type": "markdown",
   "metadata": {},
   "source": [
    "------\n",
    "Lowercase / uppercase"
   ]
  },
  {
   "cell_type": "code",
   "execution_count": 1,
   "metadata": {},
   "outputs": [
    {
     "name": "stdin",
     "output_type": "stream",
     "text": [
      "Escribe algo inteligente algo inteligente\n"
     ]
    },
    {
     "name": "stdout",
     "output_type": "stream",
     "text": [
      "ilgi intiliginti\n"
     ]
    }
   ],
   "source": [
    "def traductor_estupido(frase):\n",
    "    traducción = \"\"\n",
    "    for letra in frase:\n",
    "        if letra.lower() in \"aeiou\":\n",
    "            if letra.isupper():\n",
    "                traducción = traducción + \"I\"\n",
    "            else:\n",
    "                traducción = traducción + \"i\"\n",
    "        else:\n",
    "            traducción = traducción + letra\n",
    "    return traducción\n",
    "\n",
    "frase = input(\"Escribe algo inteligente\")\n",
    "print(traductor_estupido(frase))"
   ]
  },
  {
   "cell_type": "markdown",
   "metadata": {},
   "source": [
    "-------"
   ]
  },
  {
   "cell_type": "markdown",
   "metadata": {},
   "source": [
    "# Comentarios *(Cuarta hora)*"
   ]
  },
  {
   "cell_type": "code",
   "execution_count": 5,
   "metadata": {},
   "outputs": [
    {
     "data": {
      "text/plain": [
       "'Comentarios son divertidos'"
      ]
     },
     "execution_count": 5,
     "metadata": {},
     "output_type": "execute_result"
    }
   ],
   "source": [
    "\"Comentarios son divertidos\""
   ]
  },
  {
   "cell_type": "markdown",
   "metadata": {},
   "source": [
    "Python ignora esta línea de código, no lo ejecuta.\n",
    "\n",
    "Sirve para nosotros, para explicar el código.\n",
    "\n",
    "Se usa con **#** "
   ]
  },
  {
   "cell_type": "code",
   "execution_count": 8,
   "metadata": {},
   "outputs": [],
   "source": [
    "# Comentarios son divertidos"
   ]
  },
  {
   "cell_type": "code",
   "execution_count": 9,
   "metadata": {},
   "outputs": [
    {
     "name": "stdout",
     "output_type": "stream",
     "text": [
      "Comentarios son divertidos \n"
     ]
    }
   ],
   "source": [
    "# Esto prints un string\n",
    "print(\"Comentarios son divertidos \")"
   ]
  },
  {
   "cell_type": "code",
   "execution_count": 11,
   "metadata": {},
   "outputs": [
    {
     "data": {
      "text/plain": [
       "'\\necwwfwe\\nfewfewf\\nwfwefwf\\n'"
      ]
     },
     "execution_count": 11,
     "metadata": {},
     "output_type": "execute_result"
    }
   ],
   "source": [
    "'''\n",
    "ecwwfwe\n",
    "fewfewf\n",
    "wfwefwf\n",
    "'''"
   ]
  },
  {
   "cell_type": "markdown",
   "metadata": {},
   "source": [
    "También sirve para debuggear"
   ]
  },
  {
   "cell_type": "markdown",
   "metadata": {},
   "source": [
    "------\n",
    "# Errores: Try / Except\n",
    "\n",
    "A veces el programa tendrá errores, para evitar que el programa no se pare cuando sucede un error, usamos **try** / **except**."
   ]
  },
  {
   "cell_type": "code",
   "execution_count": 13,
   "metadata": {},
   "outputs": [
    {
     "name": "stdin",
     "output_type": "stream",
     "text": [
      "Introduce un número 2\n"
     ]
    },
    {
     "name": "stdout",
     "output_type": "stream",
     "text": [
      "2\n"
     ]
    }
   ],
   "source": [
    "num = int(input(\"Introduce un número\"))\n",
    "print(num)"
   ]
  },
  {
   "cell_type": "code",
   "execution_count": 14,
   "metadata": {},
   "outputs": [
    {
     "name": "stdin",
     "output_type": "stream",
     "text": [
      "Introduce un número asdf\n"
     ]
    },
    {
     "ename": "ValueError",
     "evalue": "invalid literal for int() with base 10: 'asdf'",
     "output_type": "error",
     "traceback": [
      "\u001b[0;31m---------------------------------------------------------------------------\u001b[0m",
      "\u001b[0;31mValueError\u001b[0m                                Traceback (most recent call last)",
      "\u001b[0;32m<ipython-input-14-d5b8629935ad>\u001b[0m in \u001b[0;36m<module>\u001b[0;34m\u001b[0m\n\u001b[0;32m----> 1\u001b[0;31m \u001b[0mnum\u001b[0m \u001b[0;34m=\u001b[0m \u001b[0mint\u001b[0m\u001b[0;34m(\u001b[0m\u001b[0minput\u001b[0m\u001b[0;34m(\u001b[0m\u001b[0;34m\"Introduce un número\"\u001b[0m\u001b[0;34m)\u001b[0m\u001b[0;34m)\u001b[0m\u001b[0;34m\u001b[0m\u001b[0;34m\u001b[0m\u001b[0m\n\u001b[0m\u001b[1;32m      2\u001b[0m \u001b[0mprint\u001b[0m\u001b[0;34m(\u001b[0m\u001b[0mnum\u001b[0m\u001b[0;34m)\u001b[0m\u001b[0;34m\u001b[0m\u001b[0;34m\u001b[0m\u001b[0m\n",
      "\u001b[0;31mValueError\u001b[0m: invalid literal for int() with base 10: 'asdf'"
     ]
    }
   ],
   "source": [
    "num = int(input(\"Introduce un número\"))\n",
    "print(num)"
   ]
  },
  {
   "cell_type": "code",
   "execution_count": 15,
   "metadata": {},
   "outputs": [
    {
     "name": "stdin",
     "output_type": "stream",
     "text": [
      "Introduce un número asdf\n"
     ]
    },
    {
     "name": "stdout",
     "output_type": "stream",
     "text": [
      "No has introducido un número.\n"
     ]
    }
   ],
   "source": [
    "try:\n",
    "    num = int(input(\"Introduce un número\"))\n",
    "    print(num)\n",
    "except:\n",
    "    print(\"No has introducido un número.\")"
   ]
  },
  {
   "cell_type": "markdown",
   "metadata": {},
   "source": [
    "! warning en except. "
   ]
  },
  {
   "cell_type": "code",
   "execution_count": 16,
   "metadata": {},
   "outputs": [
    {
     "ename": "ZeroDivisionError",
     "evalue": "division by zero",
     "output_type": "error",
     "traceback": [
      "\u001b[0;31m---------------------------------------------------------------------------\u001b[0m",
      "\u001b[0;31mZeroDivisionError\u001b[0m                         Traceback (most recent call last)",
      "\u001b[0;32m<ipython-input-16-c452d0382902>\u001b[0m in \u001b[0;36m<module>\u001b[0;34m\u001b[0m\n\u001b[0;32m----> 1\u001b[0;31m \u001b[0mvalor\u001b[0m \u001b[0;34m=\u001b[0m \u001b[0;36m10\u001b[0m\u001b[0;34m/\u001b[0m\u001b[0;36m0\u001b[0m\u001b[0;34m\u001b[0m\u001b[0;34m\u001b[0m\u001b[0m\n\u001b[0m",
      "\u001b[0;31mZeroDivisionError\u001b[0m: division by zero"
     ]
    }
   ],
   "source": [
    "valor = 10/0"
   ]
  },
  {
   "cell_type": "markdown",
   "metadata": {},
   "source": [
    "ZeroDivisionError: division by zero"
   ]
  },
  {
   "cell_type": "code",
   "execution_count": 17,
   "metadata": {},
   "outputs": [
    {
     "name": "stdout",
     "output_type": "stream",
     "text": [
      "No has introducido un número.\n"
     ]
    }
   ],
   "source": [
    "try:\n",
    "    valor = 10/0\n",
    "    num = int(input(\"Introduce un número\"))\n",
    "    print(num)\n",
    "except:\n",
    "    print(\"No has introducido un número.\")"
   ]
  },
  {
   "cell_type": "markdown",
   "metadata": {},
   "source": [
    "El error esta en la división, no al introducir el número -> Especificar el error."
   ]
  },
  {
   "cell_type": "code",
   "execution_count": 18,
   "metadata": {},
   "outputs": [
    {
     "name": "stdout",
     "output_type": "stream",
     "text": [
      "No se puede dividir por 0.\n"
     ]
    }
   ],
   "source": [
    "try:\n",
    "    valor = 10/0\n",
    "    num = int(input(\"Introduce un número\"))\n",
    "    print(num)\n",
    "except ZeroDivisionError:\n",
    "    print(\"No se puede dividir por 0.\")\n",
    "except ValueError:\n",
    "    print(\"No has introducido un número.\")"
   ]
  },
  {
   "cell_type": "markdown",
   "metadata": {},
   "source": [
    "Podemos guardar el error con una variable con el **as**."
   ]
  },
  {
   "cell_type": "code",
   "execution_count": 20,
   "metadata": {},
   "outputs": [
    {
     "name": "stdout",
     "output_type": "stream",
     "text": [
      "division by zero\n"
     ]
    }
   ],
   "source": [
    "try:\n",
    "    valor = 10/0\n",
    "    num = int(input(\"Introduce un número\"))\n",
    "    print(num)\n",
    "except ZeroDivisionError as err:\n",
    "    print(err)\n",
    "except ValueError:\n",
    "    print(\"No has introducido un número.\")"
   ]
  },
  {
   "cell_type": "markdown",
   "metadata": {},
   "source": [
    "No es buena práctica usar el except solo, mejor usarlo con el error concreto."
   ]
  },
  {
   "cell_type": "markdown",
   "metadata": {},
   "source": [
    "-------\n",
    "# Archivos"
   ]
  },
  {
   "cell_type": "markdown",
   "metadata": {},
   "source": [
    "Declaración **open**, acepta nombre del archivo, dirección relativa, dirección absoluta."
   ]
  },
  {
   "cell_type": "code",
   "execution_count": 23,
   "metadata": {},
   "outputs": [
    {
     "data": {
      "text/plain": [
       "<_io.TextIOWrapper name='alumnos.txt' mode='r' encoding='UTF-8'>"
      ]
     },
     "execution_count": 23,
     "metadata": {},
     "output_type": "execute_result"
    }
   ],
   "source": [
    "open(\"alumnos.txt\")"
   ]
  },
  {
   "cell_type": "markdown",
   "metadata": {},
   "source": [
    "### Leer"
   ]
  },
  {
   "cell_type": "code",
   "execution_count": 25,
   "metadata": {},
   "outputs": [
    {
     "data": {
      "text/plain": [
       "<_io.TextIOWrapper name='alumnos.txt' mode='r' encoding='UTF-8'>"
      ]
     },
     "execution_count": 25,
     "metadata": {},
     "output_type": "execute_result"
    }
   ],
   "source": [
    "open(\"alumnos.txt\", \"r\")"
   ]
  },
  {
   "cell_type": "markdown",
   "metadata": {},
   "source": [
    "### Escribir"
   ]
  },
  {
   "cell_type": "code",
   "execution_count": 26,
   "metadata": {},
   "outputs": [
    {
     "data": {
      "text/plain": [
       "<_io.TextIOWrapper name='alumnos.txt' mode='w' encoding='UTF-8'>"
      ]
     },
     "execution_count": 26,
     "metadata": {},
     "output_type": "execute_result"
    }
   ],
   "source": [
    "open(\"alumnos.txt\", \"w\")"
   ]
  },
  {
   "cell_type": "markdown",
   "metadata": {},
   "source": [
    "### Append (Añadir)"
   ]
  },
  {
   "cell_type": "code",
   "execution_count": 27,
   "metadata": {},
   "outputs": [
    {
     "data": {
      "text/plain": [
       "<_io.TextIOWrapper name='alumnos.txt' mode='a' encoding='UTF-8'>"
      ]
     },
     "execution_count": 27,
     "metadata": {},
     "output_type": "execute_result"
    }
   ],
   "source": [
    "open(\"alumnos.txt\", \"a\")"
   ]
  },
  {
   "cell_type": "markdown",
   "metadata": {},
   "source": [
    "### Leer / Escribir"
   ]
  },
  {
   "cell_type": "code",
   "execution_count": 28,
   "metadata": {},
   "outputs": [
    {
     "data": {
      "text/plain": [
       "<_io.TextIOWrapper name='alumnos.txt' mode='r+' encoding='UTF-8'>"
      ]
     },
     "execution_count": 28,
     "metadata": {},
     "output_type": "execute_result"
    }
   ],
   "source": [
    "open(\"alumnos.txt\", \"r+\")"
   ]
  },
  {
   "cell_type": "markdown",
   "metadata": {},
   "source": [
    "Añadir archivo en una variable."
   ]
  },
  {
   "cell_type": "code",
   "execution_count": 34,
   "metadata": {},
   "outputs": [],
   "source": [
    "ar_alumnos = open(\"alumnos.txt\", \"r+\")"
   ]
  },
  {
   "cell_type": "markdown",
   "metadata": {},
   "source": [
    "**Importante cerrar el archivo**"
   ]
  },
  {
   "cell_type": "code",
   "execution_count": 35,
   "metadata": {},
   "outputs": [],
   "source": [
    "ar_alumnos.close()"
   ]
  },
  {
   "cell_type": "markdown",
   "metadata": {},
   "source": [
    "### Usando el archivo"
   ]
  },
  {
   "cell_type": "code",
   "execution_count": 38,
   "metadata": {},
   "outputs": [
    {
     "name": "stdout",
     "output_type": "stream",
     "text": [
      "False\n"
     ]
    }
   ],
   "source": [
    "ar_alumnos = open(\"alumnos.txt\", \"w\")\n",
    "print(ar_alumnos.readable())"
   ]
  },
  {
   "cell_type": "code",
   "execution_count": 45,
   "metadata": {},
   "outputs": [
    {
     "name": "stdout",
     "output_type": "stream",
     "text": [
      "True\n"
     ]
    }
   ],
   "source": [
    "ar_alumnos = open(\"alumnos.txt\", \"r\")\n",
    "print(ar_alumnos.readable())"
   ]
  },
  {
   "cell_type": "code",
   "execution_count": 46,
   "metadata": {},
   "outputs": [
    {
     "name": "stdout",
     "output_type": "stream",
     "text": [
      "Peter - 19 años\n",
      "Juan - 30 años\n",
      "Maria - 25 años\n",
      "Marta - 21 años\n"
     ]
    }
   ],
   "source": [
    "print(ar_alumnos.read())\n",
    "ar_alumnos.close()"
   ]
  },
  {
   "cell_type": "code",
   "execution_count": 49,
   "metadata": {},
   "outputs": [
    {
     "name": "stdout",
     "output_type": "stream",
     "text": [
      "Peter - 19 años\n",
      "\n"
     ]
    }
   ],
   "source": [
    "ar_alumnos = open(\"alumnos.txt\", \"r\")\n",
    "print(ar_alumnos.readline())\n",
    "ar_alumnos.close()"
   ]
  },
  {
   "cell_type": "markdown",
   "metadata": {},
   "source": [
    "Mejor usar readlines(), readlines() pone las lineas en una lista."
   ]
  },
  {
   "cell_type": "code",
   "execution_count": 50,
   "metadata": {},
   "outputs": [
    {
     "name": "stdout",
     "output_type": "stream",
     "text": [
      "['Peter - 19 años\\n', 'Juan - 30 años\\n', 'Maria - 25 años\\n', 'Marta - 21 años']\n"
     ]
    }
   ],
   "source": [
    "ar_alumnos = open(\"alumnos.txt\", \"r\")\n",
    "print(ar_alumnos.readlines())\n",
    "ar_alumnos.close()"
   ]
  },
  {
   "cell_type": "code",
   "execution_count": 51,
   "metadata": {},
   "outputs": [
    {
     "name": "stdout",
     "output_type": "stream",
     "text": [
      "Juan - 30 años\n",
      "\n"
     ]
    }
   ],
   "source": [
    "ar_alumnos = open(\"alumnos.txt\", \"r\")\n",
    "print(ar_alumnos.readlines()[1])\n",
    "ar_alumnos.close()"
   ]
  },
  {
   "cell_type": "code",
   "execution_count": 54,
   "metadata": {},
   "outputs": [
    {
     "name": "stdout",
     "output_type": "stream",
     "text": [
      "Peter - 19 años\n",
      "\n",
      "Juan - 30 años\n",
      "\n",
      "Maria - 25 años\n",
      "\n",
      "Marta - 21 años\n"
     ]
    }
   ],
   "source": [
    "ar_alumnos = open(\"alumnos.txt\", \"r\")\n",
    "for alumno in ar_alumnos.readlines():\n",
    "    print(alumno)\n",
    "ar_alumnos.close()"
   ]
  },
  {
   "cell_type": "markdown",
   "metadata": {},
   "source": [
    "## Escribir en archivos"
   ]
  },
  {
   "cell_type": "code",
   "execution_count": 55,
   "metadata": {},
   "outputs": [
    {
     "name": "stdout",
     "output_type": "stream",
     "text": [
      "Peter - 19 años\n",
      "Juan - 30 años\n",
      "Maria - 25 años\n",
      "Marta - 21 años\n"
     ]
    }
   ],
   "source": [
    "ar_alumnos = open(\"alumnos.txt\", \"r\")\n",
    "print(ar_alumnos.read())\n",
    "ar_alumnos.close()"
   ]
  },
  {
   "cell_type": "code",
   "execution_count": 60,
   "metadata": {},
   "outputs": [],
   "source": [
    "ar_alumnos = open(\"alumnos.txt\", \"a\")\n",
    "ar_alumnos.write(\"Marc - 23 años\")\n",
    "ar_alumnos.close()"
   ]
  },
  {
   "cell_type": "markdown",
   "metadata": {},
   "source": [
    "Cuidado al escribir."
   ]
  },
  {
   "cell_type": "code",
   "execution_count": 63,
   "metadata": {},
   "outputs": [
    {
     "name": "stdout",
     "output_type": "stream",
     "text": [
      "Marc - 23 años\n",
      "Juan - 30 años\n",
      "Maria - 25 años\n",
      "Marta - 21 años\n",
      "Marc - 23 añosMarc - 23 años\n"
     ]
    }
   ],
   "source": [
    "ar_alumnos = open(\"alumnos.txt\", \"a\")\n",
    "ar_alumnos.write(\"Marc - 23 años\")\n",
    "ar_alumnos.close()\n",
    "\n",
    "ar_alumnos = open(\"alumnos.txt\", \"r\")\n",
    "print(ar_alumnos.read())\n",
    "ar_alumnos.close()"
   ]
  },
  {
   "cell_type": "code",
   "execution_count": 64,
   "metadata": {},
   "outputs": [
    {
     "name": "stdout",
     "output_type": "stream",
     "text": [
      "Marc - 23 años\n",
      "Juan - 30 años\n",
      "Maria - 25 años\n",
      "Marta - 21 años\n",
      "Marc - 23 años\n",
      "Pol - 23 años\n"
     ]
    }
   ],
   "source": [
    "ar_alumnos = open(\"alumnos.txt\", \"a\")\n",
    "ar_alumnos.write(\"\\nPol - 23 años\")\n",
    "ar_alumnos.close()\n",
    "\n",
    "ar_alumnos = open(\"alumnos.txt\", \"r\")\n",
    "print(ar_alumnos.read())\n",
    "ar_alumnos.close()"
   ]
  },
  {
   "cell_type": "markdown",
   "metadata": {},
   "source": [
    "### Write instead of append "
   ]
  },
  {
   "cell_type": "code",
   "execution_count": 66,
   "metadata": {},
   "outputs": [
    {
     "name": "stdout",
     "output_type": "stream",
     "text": [
      "\n",
      "Pol - 23 años\n"
     ]
    }
   ],
   "source": [
    "ar_alumnos = open(\"alumnos.txt\", \"w\")\n",
    "ar_alumnos.write(\"\\nPol - 23 años\")\n",
    "ar_alumnos.close()\n",
    "\n",
    "ar_alumnos = open(\"alumnos.txt\", \"r\")\n",
    "print(ar_alumnos.read())\n",
    "ar_alumnos.close()"
   ]
  },
  {
   "cell_type": "markdown",
   "metadata": {},
   "source": [
    "**Si no existe, se crea un archivo nuevo**"
   ]
  },
  {
   "cell_type": "code",
   "execution_count": 67,
   "metadata": {},
   "outputs": [],
   "source": [
    "ar_alumnos = open(\"alumnosPol.txt\", \"w\")\n",
    "ar_alumnos.write(\"\\nPol - 23 años\")\n",
    "ar_alumnos.close()"
   ]
  },
  {
   "cell_type": "markdown",
   "metadata": {},
   "source": [
    "## Escribir HTML"
   ]
  },
  {
   "cell_type": "code",
   "execution_count": 68,
   "metadata": {},
   "outputs": [],
   "source": [
    "ar_alumnos = open(\"ejemploEscribirHTML.html\", \"w\")\n",
    "ar_alumnos.write(\"<p>Hola Mundo!</p>\")\n",
    "ar_alumnos.close()"
   ]
  },
  {
   "cell_type": "markdown",
   "metadata": {},
   "source": [
    "A Python se le da muy bien trabajar con archivos. Por eso se usa mucho en Big Data o Machine Learning."
   ]
  },
  {
   "cell_type": "markdown",
   "metadata": {},
   "source": [
    "-----\n",
    "# Librerias (modules, libraries) y Pip"
   ]
  },
  {
   "cell_type": "markdown",
   "metadata": {},
   "source": [
    "Escencialmente son archivos de python que podemos importar a nuestro archivo de python.\n",
    "\n",
    "Podemos acceder a las funciones, variables, todo lo que tenga el archivo externo a nuestro archivo.\n",
    "\n",
    "Mirar **herramientas.py**"
   ]
  },
  {
   "cell_type": "code",
   "execution_count": 70,
   "metadata": {},
   "outputs": [
    {
     "name": "stdout",
     "output_type": "stream",
     "text": [
      "['John Lennon', 'Paul McCartney', 'George Harrison', 'Ringo Star']\n"
     ]
    }
   ],
   "source": [
    "import herramientas\n",
    "\n",
    "print(herramientas.beatles)"
   ]
  },
  {
   "cell_type": "code",
   "execution_count": 71,
   "metadata": {},
   "outputs": [
    {
     "name": "stdout",
     "output_type": "stream",
     "text": [
      "3\n"
     ]
    }
   ],
   "source": [
    "print(herramientas.tirar_dado(10))"
   ]
  },
  {
   "cell_type": "markdown",
   "metadata": {},
   "source": [
    "Dónde encontrar librerias? https://docs.python.org/3/py-modindex.html\n",
    "\n",
    "Ahí puedes encontrar casi cualquier funcionalidad que se te ocurra.\n",
    "\n",
    "La comunidad de Python es gigante, si no lo encuentras en el link, en google alguien lo habrá hecho.\n",
    "\n",
    "Dónde se guardan estas librerias? Build-in (automáticamente en Python) o externos (Pip).\n",
    "\n",
    "En Pycharm se pueden encontrar en \"External libraries/Lib\".\n",
    "\n",
    "En algunas librerias de https://docs.python.org/3/py-modindex.html debajo del titulo pone dónde aparecen, si no sale quiere decir que son externos."
   ]
  },
  {
   "cell_type": "markdown",
   "metadata": {},
   "source": [
    "### Pip\n",
    "\n",
    "Como descargar librerias externas? Buscarlas en google, normalmente instalar con Pip.\n",
    "\n",
    "Pip es un administrador de paquetes que te permite descargar otras librerias, deberia estar en tus comandos de terminal cuando instalas Python.\n",
    "\n",
    "Por ejemplo, install numpy https://numpy.org/install/ . https://numpy.org/devdocs/user/whatisnumpy.html\n",
    "\n",
    "* Abrir terminal o command prompt\n",
    "* pip --version o pip3 -version\n",
    "* pip install numpy\n",
    "\n",
    "Se añade en \"Lib/site-packages\"\n",
    "\n",
    "Para desinstallar, pip uninstall numpy"
   ]
  },
  {
   "cell_type": "code",
   "execution_count": 81,
   "metadata": {},
   "outputs": [
    {
     "name": "stdout",
     "output_type": "stream",
     "text": [
      "[[1 2]\n",
      " [3 4]\n",
      " [5 6]]\n"
     ]
    }
   ],
   "source": [
    "import numpy as np\n",
    "\n",
    "a = np.array([1, 2, 3, 4, 5, 6])\n",
    "b = a.reshape(3, 2)\n",
    "print(b)"
   ]
  },
  {
   "cell_type": "markdown",
   "metadata": {},
   "source": [
    "-----\n",
    "4 good reasons to learn Python:\n",
    "\n",
    "1. Simple — Very easy to read and write.\n",
    "\n",
    "2. Versatile — You can build all sorts of things.\n",
    "\n",
    "3. In high demand — Companies all over the world need Python developers.\n",
    "\n",
    "And most important: \n",
    "\n",
    "4. It's the language of machine learning!"
   ]
  },
  {
   "cell_type": "markdown",
   "metadata": {},
   "source": [
    "-----\n",
    "## Ejemplo: estupidificador  \n",
    "\n",
    "**vocales -> i**\n",
    "\n",
    "perro -> pirri \n",
    "\n",
    "gato -> giti"
   ]
  },
  {
   "cell_type": "code",
   "execution_count": null,
   "metadata": {},
   "outputs": [],
   "source": [
    "def traductor_estupido(frase):\n",
    "    traducción = \"\"\n",
    "    for letra in frase:\n",
    "        if letra in \"AEIOUaeiou\":\n",
    "            traducción = traducción + \"i\"\n",
    "        else:\n",
    "            traducción = traducción + letra\n",
    "    return traducción\n",
    "\n",
    "frase = input(\"Escribe algo inteligente\")\n",
    "print(traductor_estupido(frase))"
   ]
  },
  {
   "cell_type": "markdown",
   "metadata": {},
   "source": [
    "------\n",
    "Lowercase / uppercase"
   ]
  },
  {
   "cell_type": "code",
   "execution_count": 3,
   "metadata": {},
   "outputs": [
    {
     "name": "stdin",
     "output_type": "stream",
     "text": [
      "Escribe algo inteligente Algo inteligente\n"
     ]
    },
    {
     "name": "stdout",
     "output_type": "stream",
     "text": [
      "Ilgi intiliginti\n"
     ]
    }
   ],
   "source": [
    "def traductor_estupido(frase):\n",
    "    traducción = \"\"\n",
    "    for letra in frase:\n",
    "        if letra.lower() in \"aeiou\":\n",
    "            if letra.isupper():\n",
    "                traducción = traducción + \"I\"\n",
    "            else:\n",
    "                traducción = traducción + \"i\"\n",
    "        else:\n",
    "            traducción = traducción + letra\n",
    "    return traducción\n",
    "\n",
    "frase = input(\"Escribe algo inteligente\")\n",
    "print(traductor_estupido(frase))"
   ]
  },
  {
   "cell_type": "markdown",
   "metadata": {},
   "source": [
    "-----\n",
    "# Clases y objetos\n",
    "\n",
    "Ayudan a ordenar y potenciar tu programa. En Python tratamos con datos, estos datos a veces no se pueden definir con simples variables (ints, strings, bool) ni con agrupaciones de variables (listas, tuplas) , piensa en un objeto en la vida real, un móvil por ejemplo.\n",
    "\n",
    "¿Cómo definimos un móvil en Python? En Python podemos crear tipos de variables -> clases."
   ]
  },
  {
   "cell_type": "markdown",
   "metadata": {},
   "source": [
    "Digamos que hacemos una aplicación para una universidad, necesitaremos una classe para un alumno. \n",
    "\n",
    "1. Usar **class** con nombre Alumno.\n",
    "2. Crear función __init__(self) -> Constructor!! Aquí definimos los atributos de un alumno (pueden ser simples variables, listas, otras clases...)"
   ]
  },
  {
   "cell_type": "code",
   "execution_count": 92,
   "metadata": {},
   "outputs": [],
   "source": [
    "class Alumno:\n",
    "    def __init__(self, nombre, grado, nota_media, es_repetidor): # string, string, float, bool\n",
    "        self.nombre = nombre\n",
    "        self.grado = grado\n",
    "        self.nota_media = nota_media\n",
    "        self.es_repetidor = es_repetidor"
   ]
  },
  {
   "cell_type": "markdown",
   "metadata": {},
   "source": [
    "La clase de alumno NO es un alumno, solo define lo que es un alumno, si creamos un alumno con sus atributos, estamos creando un **objeto** de alumno. Un objeto es una instancia de una clase."
   ]
  },
  {
   "cell_type": "markdown",
   "metadata": {},
   "source": [
    "Crear un objeto es similar a crear una variable."
   ]
  },
  {
   "cell_type": "code",
   "execution_count": 1,
   "metadata": {},
   "outputs": [],
   "source": [
    "from Alumno import Alumno\n",
    "\n",
    "alumno_peter = Alumno(\"Peter\", \"Informática\", 8.5, True)"
   ]
  },
  {
   "cell_type": "code",
   "execution_count": 2,
   "metadata": {},
   "outputs": [
    {
     "name": "stdout",
     "output_type": "stream",
     "text": [
      "Peter\n"
     ]
    }
   ],
   "source": [
    "print(alumno_peter.nombre)"
   ]
  },
  {
   "cell_type": "code",
   "execution_count": 3,
   "metadata": {},
   "outputs": [
    {
     "name": "stdout",
     "output_type": "stream",
     "text": [
      "9.9\n"
     ]
    }
   ],
   "source": [
    "lumno(\"Maria\", \"Informática\", 9.9, False)\n",
    "print(alumno_maria.nota_media)"
   ]
  },
  {
   "cell_type": "markdown",
   "metadata": {},
   "source": [
    "Cuando enviamos valores a la classe Alumno, llamamos a la clase constructora, que guarda los valores."
   ]
  },
  {
   "cell_type": "markdown",
   "metadata": {},
   "source": [
    "-----\n",
    "## Ejemplo: Questionario *(Quinta hora)*"
   ]
  },
  {
   "cell_type": "markdown",
   "metadata": {},
   "source": [
    "Classe pregunta en Pregunta.py"
   ]
  },
  {
   "cell_type": "code",
   "execution_count": 1,
   "metadata": {},
   "outputs": [],
   "source": [
    "enunciado_preguntas = [\n",
    "    \"¿De qué color son las manzanas?\\n(a) Rojas/Verdes\\n(b) Moradas\\n(c) Orange\\n\\n\",\n",
    "    \"¿De qué color son los plátanos?\\n(a) Verde\\n(b) Magenta\\n(c) Amarillo\\n\\n\",\n",
    "    \"¿De qué color son las fresas?\\n(a) Amarillas\\n(b) Rojas\\n(c) Azules\\n\\n\",\n",
    "]"
   ]
  },
  {
   "cell_type": "code",
   "execution_count": 2,
   "metadata": {},
   "outputs": [],
   "source": [
    "from Pregunta import Pregunta"
   ]
  },
  {
   "cell_type": "code",
   "execution_count": 3,
   "metadata": {},
   "outputs": [],
   "source": [
    "preguntas = [\n",
    "    Pregunta(enunciado_preguntas[0], \"a\"),\n",
    "    Pregunta(enunciado_preguntas[1], \"c\"),\n",
    "    Pregunta(enunciado_preguntas[2], \"b\")\n",
    "]"
   ]
  },
  {
   "cell_type": "code",
   "execution_count": 4,
   "metadata": {},
   "outputs": [],
   "source": [
    "def ejecutar_questionario(preguntas):\n",
    "    puntuacion = 0\n",
    "    for pregunta in preguntas:\n",
    "        respuesta = input(pregunta.enunciado)\n",
    "        if respuesta == pregunta.respuesta:\n",
    "            puntuacion += 1\n",
    "    print(\"Tu puntuación: \"+str(puntuacion)+\"/\"+str(len(preguntas)))"
   ]
  },
  {
   "cell_type": "code",
   "execution_count": 5,
   "metadata": {},
   "outputs": [
    {
     "name": "stdin",
     "output_type": "stream",
     "text": [
      "¿De qué color son las manzanas?\n",
      "(a) Rojas/Verdes\n",
      "(b) Moradas\n",
      "(c) Orange\n",
      "\n",
      " a\n",
      "¿De qué color son los plátanos?\n",
      "(a) Verde\n",
      "(b) Magenta\n",
      "(c) Amarillo\n",
      "\n",
      " c\n",
      "¿De qué color son las fresas?\n",
      "(a) Amarillas\n",
      "(b) Rojas\n",
      "(c) Azules\n",
      "\n",
      " b\n"
     ]
    },
    {
     "name": "stdout",
     "output_type": "stream",
     "text": [
      "Tu puntuación: 3/3\n"
     ]
    }
   ],
   "source": [
    "ejecutar_questionario(preguntas)"
   ]
  },
  {
   "cell_type": "markdown",
   "metadata": {},
   "source": [
    "-----\n",
    "Este ejemplo era para mostrar cómo podemos usar las clases y objetos para reproducir el mundo real."
   ]
  },
  {
   "cell_type": "markdown",
   "metadata": {},
   "source": [
    "## Funciones de objetos"
   ]
  },
  {
   "cell_type": "code",
   "execution_count": 7,
   "metadata": {},
   "outputs": [
    {
     "name": "stdout",
     "output_type": "stream",
     "text": [
      "False\n",
      "True\n"
     ]
    }
   ],
   "source": [
    "from Alumno import Alumno\n",
    "\n",
    "alumno_peter = Alumno(\"Peter\", \"Informática\", 8.5, True)\n",
    "alumno_maria = Alumno(\"Maria\", \"Informática\", 9.9, False)\n",
    "\n",
    "print(alumno_peter.tiene_matricula_de_honor())\n",
    "print(alumno_maria.tiene_matricula_de_honor())"
   ]
  },
  {
   "cell_type": "markdown",
   "metadata": {},
   "source": [
    "------\n",
    "# Herencia\n",
    "\n",
    "Podemos definir atributos y funciones dentro de una clase, y luego crear otra clase que herede esos atributos y funciones."
   ]
  },
  {
   "cell_type": "code",
   "execution_count": 5,
   "metadata": {},
   "outputs": [
    {
     "name": "stdout",
     "output_type": "stream",
     "text": [
      "Este chef hace plato especial.\n"
     ]
    }
   ],
   "source": [
    "class Chef:\n",
    "    def hacer_pollo(self):\n",
    "        print(\"Este chef hace pollo.\")\n",
    "        \n",
    "    def hacer_ensalada(self):\n",
    "        print(\"Este chef hace ensalada.\")\n",
    "        \n",
    "    def hacer_plato_especial(self):\n",
    "        print(\"Este chef hace plato especial.\")\n",
    "\n",
    "mi_chef = Chef()\n",
    "mi_chef.hacer_plato_especial()"
   ]
  },
  {
   "cell_type": "markdown",
   "metadata": {},
   "source": [
    "Para hacer un chef japonés, podriamos copiar y pegar... No repetir código."
   ]
  },
  {
   "cell_type": "code",
   "execution_count": 6,
   "metadata": {},
   "outputs": [
    {
     "name": "stdout",
     "output_type": "stream",
     "text": [
      "Este chef hace sushi.\n",
      "Este chef hace rollitos.\n"
     ]
    }
   ],
   "source": [
    "class ChefJapones:\n",
    "    def hacer_pollo(self):\n",
    "        print(\"Este chef hace pollo.\")\n",
    "        \n",
    "    def hacer_ensalada(self):\n",
    "        print(\"Este chef hace ensalada.\")\n",
    "        \n",
    "    def hacer_plato_especial(self):\n",
    "        print(\"Este chef hace rollitos.\")\n",
    "        \n",
    "    def hacer_sushi(self):\n",
    "        print(\"Este chef hace sushi.\")\n",
    "        \n",
    "mi_chef_japones = ChefJapones()\n",
    "mi_chef_japones.hacer_sushi()\n",
    "mi_chef_japones.hacer_plato_especial()"
   ]
  },
  {
   "cell_type": "markdown",
   "metadata": {},
   "source": [
    "Pero mejor no repetir código -> usar herencia"
   ]
  },
  {
   "cell_type": "code",
   "execution_count": 7,
   "metadata": {},
   "outputs": [
    {
     "name": "stdout",
     "output_type": "stream",
     "text": [
      "Este chef hace sushi.\n",
      "Este chef hace plato especial.\n"
     ]
    }
   ],
   "source": [
    "class ChefJapones(Chef):\n",
    "    def hacer_sushi(self):\n",
    "        print(\"Este chef hace sushi.\")\n",
    "        \n",
    "mi_chef_japones = ChefJapones()\n",
    "mi_chef_japones.hacer_sushi()\n",
    "mi_chef_japones.hacer_plato_especial()"
   ]
  },
  {
   "cell_type": "markdown",
   "metadata": {},
   "source": [
    "Cuidado!! El plato especial a canviado... **override**!!"
   ]
  },
  {
   "cell_type": "code",
   "execution_count": 13,
   "metadata": {},
   "outputs": [
    {
     "name": "stdout",
     "output_type": "stream",
     "text": [
      "Este chef hace sushi.\n",
      "Este chef hace rollitos.\n"
     ]
    }
   ],
   "source": [
    "class ChefJapones(Chef):\n",
    "    def hacer_plato_especial(self):\n",
    "        print(\"Este chef hace rollitos.\")\n",
    "        \n",
    "    def hacer_sushi(self):\n",
    "        print(\"Este chef hace sushi.\")\n",
    "        \n",
    "mi_chef_japones = ChefJapones()\n",
    "mi_chef_japones.hacer_sushi()\n",
    "mi_chef_japones.hacer_plato_especial()"
   ]
  },
  {
   "cell_type": "code",
   "execution_count": 1,
   "metadata": {},
   "outputs": [
    {
     "name": "stdout",
     "output_type": "stream",
     "text": [
      "Este chef hace pasta carbonara\n"
     ]
    }
   ],
   "source": [
    "from ChefItaliano import ChefItaliano\n",
    "\n",
    "mi_chef_italiano = ChefItaliano()\n",
    "mi_chef_italiano.hacer_plato_especial(\"carbonara\")"
   ]
  }
 ],
 "metadata": {
  "kernelspec": {
   "display_name": "Python 3",
   "language": "python",
   "name": "python3"
  },
  "language_info": {
   "codemirror_mode": {
    "name": "ipython",
    "version": 3
   },
   "file_extension": ".py",
   "mimetype": "text/x-python",
   "name": "python",
   "nbconvert_exporter": "python",
   "pygments_lexer": "ipython3",
   "version": "3.9.0"
  }
 },
 "nbformat": 4,
 "nbformat_minor": 4
}
