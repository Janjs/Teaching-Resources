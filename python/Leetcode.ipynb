{
 "cells": [
  {
   "cell_type": "markdown",
   "metadata": {},
   "source": [
    "# Conseguir trabajo de Python\n",
    "\n",
    "Empresas multinacional quieren saber tu habilidad para solucionar problemas con soluciones eficientes.\n",
    "\n",
    "Dónde practicar para entrevistas? Leetcode\n",
    "\n",
    "Ejemplo:\n",
    "\n",
    "https://leetcode.com/problems/two-sum/"
   ]
  },
  {
   "cell_type": "markdown",
   "metadata": {},
   "source": [
    "En la izquierda tenemos el enunciado del problema, en la derecha tenemos que escribir nuestra solución usando Python.\n",
    "\n",
    "1. Two Sum\n",
    "\n",
    "Nos dan una lista de integers (nums) y un integer llamado objetivo (target).\n",
    "\n",
    "Tenemos que devolver (return) dos índices de los dos integers dentro de la lista que sumen lo mismo que el objetivo.\n",
    "\n",
    "Probar de solucionarlo vosotros mismos.\n",
    "\n",
    "Solución bruta \"brute force\", más simple pero menos efectiva. Notación O(n^2)"
   ]
  },
  {
   "cell_type": "code",
   "execution_count": 5,
   "metadata": {},
   "outputs": [
    {
     "data": {
      "text/plain": [
       "[2, 3]"
      ]
     },
     "execution_count": 5,
     "metadata": {},
     "output_type": "execute_result"
    }
   ],
   "source": [
    "class Solution:\n",
    "    def twoSum(nums, target):\n",
    "        index1 = 0\n",
    "        while index1 < len(nums)-1:\n",
    "            index2 = 1\n",
    "            while index2 < len(nums):\n",
    "                if nums[index1] + nums[index2] == target and index1 != index2:\n",
    "                    return [index1, index2]\n",
    "                else:\n",
    "                    index2 += 1\n",
    "            index1 += 1\n",
    "        return []\n",
    "\n",
    "Solution.twoSum([2, 7, 5, 5], 10)"
   ]
  },
  {
   "cell_type": "markdown",
   "metadata": {},
   "source": [
    "Si tenemos dos bucles, serà muy poco eficiente, intentar usar solo 1 bucle."
   ]
  },
  {
   "cell_type": "code",
   "execution_count": 6,
   "metadata": {},
   "outputs": [
    {
     "data": {
      "text/plain": [
       "[2, 3]"
      ]
     },
     "execution_count": 6,
     "metadata": {},
     "output_type": "execute_result"
    }
   ],
   "source": [
    "class Solution:\n",
    "    def twoSum(nums, target):\n",
    "        h = {}\n",
    "        for index1, num1 in enumerate(nums):\n",
    "            num2 = target - num1\n",
    "            if num2 not in h:\n",
    "                h[num1] = index1\n",
    "            else:\n",
    "                return [h[num2], index1]\n",
    "        return []\n",
    "    \n",
    "        \n",
    "'''\n",
    "h = {\n",
    "    2: 0,\n",
    "    7: 1,\n",
    "    11: 2,\n",
    "    15: 3\n",
    "}\n",
    "\n",
    "'''\n",
    "Solution.twoSum([2, 7, 5, 5], 10)"
   ]
  }
 ],
 "metadata": {
  "kernelspec": {
   "display_name": "Python 3",
   "language": "python",
   "name": "python3"
  },
  "language_info": {
   "codemirror_mode": {
    "name": "ipython",
    "version": 3
   },
   "file_extension": ".py",
   "mimetype": "text/x-python",
   "name": "python",
   "nbconvert_exporter": "python",
   "pygments_lexer": "ipython3",
   "version": "3.9.0"
  }
 },
 "nbformat": 4,
 "nbformat_minor": 4
}
